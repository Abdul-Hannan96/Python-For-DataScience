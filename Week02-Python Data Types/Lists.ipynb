{
  "nbformat": 4,
  "nbformat_minor": 0,
  "metadata": {
    "colab": {
      "provenance": [],
      "authorship_tag": "ABX9TyP/ZTmCUyyNNDkvOpGKMVuz",
      "include_colab_link": true
    },
    "kernelspec": {
      "name": "python3",
      "display_name": "Python 3"
    },
    "language_info": {
      "name": "python"
    }
  },
  "cells": [
    {
      "cell_type": "markdown",
      "metadata": {
        "id": "view-in-github",
        "colab_type": "text"
      },
      "source": [
        "<a href=\"https://colab.research.google.com/github/Abdul-Hannan96/Python-For-DataScience/blob/main/Week02-Python%20Data%20Types/Lists.ipynb\" target=\"_parent\"><img src=\"https://colab.research.google.com/assets/colab-badge.svg\" alt=\"Open In Colab\"/></a>"
      ]
    },
    {
      "cell_type": "markdown",
      "source": [
        "###`Problem 1:` Combine two lists index-wise(columns wise)\n",
        "\n",
        "Write a program to add two lists index-wise. Create a new list that contains the 0th index item from both the list, then the 1st index item, and so on till the last element. any leftover items will get added at the end of the new list.\n",
        "\n",
        "`Given List:`\n",
        "```\n",
        "list1 = [\"M\", \"na\", \"i\", \"Kh\"]\n",
        "list2 = [\"y\", \"me\", \"s\", \"an\"]\n",
        "```\n",
        "\n",
        "`Output:`\n",
        "```\n",
        "[['M','y'], ['na', me'], ['i', 's'], ['Kh', 'an']]\n",
        "```"
      ],
      "metadata": {
        "id": "4a7D4UJXaoRw"
      }
    },
    {
      "cell_type": "code",
      "source": [
        "list1 = [\"M\", \"na\", \"i\", \"Kh\"]\n",
        "list2 = [\"y\", \"me\", \"s\", \"an\"]\n",
        "# not adding index but printing tuples by i and j\n",
        "[list ((i,j)) for i,j in zip(list1,list2)]"
      ],
      "metadata": {
        "colab": {
          "base_uri": "https://localhost:8080/"
        },
        "id": "2RVIifMWGka4",
        "outputId": "c1b0f128-d608-4a64-b238-be926b50f7c3"
      },
      "execution_count": null,
      "outputs": [
        {
          "output_type": "execute_result",
          "data": {
            "text/plain": [
              "[['M', 'y'], ['na', 'me'], ['i', 's'], ['Kh', 'an']]"
            ]
          },
          "metadata": {},
          "execution_count": 3
        }
      ]
    },
    {
      "cell_type": "markdown",
      "source": [
        "### `Problem 2:` Add new item to list after a specified item\n",
        "Write a program to add item 7000 after 6000 in the following Python List\n",
        "```\n",
        "list1 = [10, 20, [300, 400, [5000, 6000], 500], 30, 40]\n",
        "```\n",
        "`Output:`\n",
        "```\n",
        "[10, 20, [300, 400, [5000, 6000, 7000], 500], 30, 40]\n",
        "```"
      ],
      "metadata": {
        "id": "gWDRPgXraqpY"
      }
    },
    {
      "cell_type": "code",
      "source": [
        "list1 = [10, 20, [300, 400, [5000, 6000], 500], 30, 40]\n",
        "list1[2][2].insert(2,7000)\n",
        "list1\n",
        "\n",
        "# list1 = [10, 20, [300, 400, [5000, 6000], 500], 30, 40]\n",
        "\n",
        "# list1[2][2].append(7000) # at index 2 append 7000\n",
        "# list1"
      ],
      "metadata": {
        "colab": {
          "base_uri": "https://localhost:8080/"
        },
        "id": "UtfjbH9IHO-V",
        "outputId": "22384c2d-5a14-4f75-b913-1feb3b67d342"
      },
      "execution_count": null,
      "outputs": [
        {
          "output_type": "execute_result",
          "data": {
            "text/plain": [
              "[10, 20, [300, 400, [5000, 6000, 7000], 500], 30, 40]"
            ]
          },
          "metadata": {},
          "execution_count": 7
        }
      ]
    },
    {
      "cell_type": "markdown",
      "source": [
        "###`Problem 3:` Update no of items available\n",
        "\n",
        "Suppose you are given a list of candy and another list of same size representing no of items of respective candy.\n",
        "\n",
        "i.e -\n",
        "```\n",
        "candy_list = ['Jelly Belly','Kit Kat','Double Bubble','Milky Way','Three Musketeers']\n",
        "no_of_items = [10,20,34,74,32]\n",
        "```\n",
        "\n",
        "Write a program to show no. of items of each candy type.\n",
        "\n",
        "`Output:`\n",
        "\n",
        "```\n",
        "Jelly Belly-10\n",
        "Kit Kat-20\n",
        "Double Bubble-34\n",
        "Milky Way-74\n",
        "Three Musketeers-32\n",
        "\n",
        "```"
      ],
      "metadata": {
        "id": "fdzTQMpWatl-"
      }
    },
    {
      "cell_type": "code",
      "source": [
        "candy_list = ['Jelly Belly','Kit Kat','Double Bubble','Milky Way','Three Musketeers']\n",
        "no_of_items = [10,20,34,74,32]\n",
        "\n",
        "# first way\n",
        "# [[i,j] for i,j in zip(candy_list,no_of_items)]\n",
        "\n",
        "for i,j in zip(candy_list,no_of_items):\n",
        "  print(i,'->',j)"
      ],
      "metadata": {
        "colab": {
          "base_uri": "https://localhost:8080/"
        },
        "id": "A0PavP1XHt1c",
        "outputId": "368be994-e520-4189-cb8b-6fc82e6943e2"
      },
      "execution_count": null,
      "outputs": [
        {
          "output_type": "stream",
          "name": "stdout",
          "text": [
            "Jelly Belly -> 10\n",
            "Kit Kat -> 20\n",
            "Double Bubble -> 34\n",
            "Milky Way -> 74\n",
            "Three Musketeers -> 32\n"
          ]
        }
      ]
    },
    {
      "cell_type": "markdown",
      "source": [
        "###`Problem 4:` Running Sum on list\n",
        "Write a program to print a list after performing running sum on it.\n",
        "\n",
        "i.e:\n",
        "\n",
        "`Input:`\n",
        "```\n",
        "list1 = [1,2,3,4,5,6]\n",
        "```\n",
        "`Output:`\n",
        "```\n",
        "[1,3,6,10,15,21]\n",
        "```"
      ],
      "metadata": {
        "id": "KH0gypyGiFdM"
      }
    },
    {
      "cell_type": "code",
      "source": [
        "list1 = [1,2,3,4,5,6]\n",
        "\n",
        "sum=0\n",
        "result=[]\n",
        "\n",
        "for i in list1:\n",
        "  # 1+2+3+4...(iteration and sum on list1)\n",
        "  sum=sum+i\n",
        "  result.append(sum)\n",
        "\n",
        "result"
      ],
      "metadata": {
        "colab": {
          "base_uri": "https://localhost:8080/"
        },
        "id": "7VL6s2VAIRz9",
        "outputId": "15f58da2-8d41-4745-dabd-e3ed38aad8c8"
      },
      "execution_count": null,
      "outputs": [
        {
          "output_type": "execute_result",
          "data": {
            "text/plain": [
              "[1, 3, 6, 10, 15, 21]"
            ]
          },
          "metadata": {},
          "execution_count": 10
        }
      ]
    },
    {
      "cell_type": "code",
      "source": [
        "list1 = [1,2,3,4,5,6]\n",
        "\n",
        "sum=0\n",
        "result=[]\n",
        "for i in list1:\n",
        "    sum=sum+i\n",
        "    result.append(sum)\n",
        "\n",
        "result\n"
      ],
      "metadata": {
        "colab": {
          "base_uri": "https://localhost:8080/"
        },
        "id": "PRL8zfFlt_iD",
        "outputId": "40e73ad2-1857-48da-b288-620aa7ca782c"
      },
      "execution_count": null,
      "outputs": [
        {
          "output_type": "execute_result",
          "data": {
            "text/plain": [
              "[1, 3, 6, 10, 15, 21]"
            ]
          },
          "metadata": {},
          "execution_count": 30
        }
      ]
    },
    {
      "cell_type": "markdown",
      "source": [
        "###`Problem 5:` You are given a list of integers. You are asked to make a list by running through elements of the list by adding all elements greater and itself.\n",
        "\n",
        "i.e. Say given list is `[2,4,6,10,1]`\n",
        "resultant list will be `[22,20,10,23]`.\n",
        "\n",
        "For 1st element `2` ->> these are greater `(4+6+10)` values and `2` itself so on adding becomes `22`.\n",
        "\n",
        "For 2nd element `4` ->> greater elements are `(6, 10)` and `4` itself, so on adding `20`\n",
        "\n",
        "like wise for all other elememts.\n",
        "\n",
        "`[2,4,6,10,1]`-->`[22,20,16,10,23]`\n",
        "\n",
        "\n"
      ],
      "metadata": {
        "id": "wjNRYPOEikhK"
      }
    },
    {
      "cell_type": "markdown",
      "source": [
        "-> iterate thorugh list i and extract number and iterate again j and compare with all other numbers\n",
        "\n",
        "-> if number is saller or equal then add and append in list(i<=j)"
      ],
      "metadata": {
        "id": "82Otx8EgxFKZ"
      }
    },
    {
      "cell_type": "code",
      "source": [
        "list1=[2,4,6,10,1]\n",
        "L=[]\n",
        "\n",
        "for i in list1:\n",
        "  sum=0\n",
        "\n",
        "  for j in list1:\n",
        "    if i<=j:\n",
        "      sum=sum+j\n",
        "\n",
        "  L.append(sum)\n",
        "\n",
        "L"
      ],
      "metadata": {
        "colab": {
          "base_uri": "https://localhost:8080/"
        },
        "id": "kUTCx5fWJyb0",
        "outputId": "c58ee065-9dab-4b4c-aa97-894bf7e816e5"
      },
      "execution_count": null,
      "outputs": [
        {
          "output_type": "execute_result",
          "data": {
            "text/plain": [
              "[22, 20, 16, 10, 23]"
            ]
          },
          "metadata": {},
          "execution_count": 14
        }
      ]
    },
    {
      "cell_type": "markdown",
      "source": [
        "###`Problem 6:` Find list of common unique items from two list. and show in increasing order\n",
        "\n",
        "`Input`\n",
        "\n",
        "```\n",
        "num1 = [23,45,67,78,89,34]\n",
        "num2 = [34,89,55,56,39,67]\n",
        "```\n",
        "\n",
        "`Output:`\n",
        "```\n",
        "[34, 67, 89]\n",
        "```\n"
      ],
      "metadata": {
        "id": "G-SE1cVHtGCe"
      }
    },
    {
      "cell_type": "code",
      "source": [
        "num1 = [23,45,67,78,89,34]\n",
        "num2 = [34,89,55,56,39,67]\n",
        "\n",
        "L=[]\n",
        "for i in num1:\n",
        "  for j in num2:\n",
        "    if i==j:\n",
        "      L.append(i)\n",
        "\n",
        "# sorted(L,reverse=False)\n",
        "\n",
        "L.reverse()\n",
        "L"
      ],
      "metadata": {
        "colab": {
          "base_uri": "https://localhost:8080/"
        },
        "id": "RwHucSAAMNqm",
        "outputId": "6a83912c-4385-4752-e39b-87342ee99a7a"
      },
      "execution_count": null,
      "outputs": [
        {
          "output_type": "execute_result",
          "data": {
            "text/plain": [
              "[34, 89, 67]"
            ]
          },
          "metadata": {},
          "execution_count": 17
        }
      ]
    },
    {
      "cell_type": "markdown",
      "source": [
        "###`Problem 7:` Sort a list of alphanumeric strings based on product value of numeric character in it. If in any string there is no numeric character take it's product value as 1.\n",
        "\n",
        "`Input:`\n",
        "```\n",
        "['1ac21', '23fg', '456', '098d','1','kls']\n",
        "```\n",
        "\n",
        "`Output:`\n",
        "```\n",
        "['456', '23fg', '1ac21', '1', 'kls', '098d']\n",
        "\n",
        "```"
      ],
      "metadata": {
        "id": "yZCe8qH4t4C0"
      }
    },
    {
      "cell_type": "code",
      "source": [
        "L=['1ac21', '23fg', '456', '098d','1','kls']\n",
        "\n",
        "result=[]\n",
        "\n",
        "for item in L:\n",
        "  prod=1\n",
        "  for char in item:\n",
        "    if char.isdigit():\n",
        "      prod=prod*int(char)\n",
        "\n",
        "  result.append(prod)\n",
        "\n",
        "# highest product values will come first\n",
        "[i[1] for i in sorted(zip(result,L),reverse=True)]"
      ],
      "metadata": {
        "colab": {
          "base_uri": "https://localhost:8080/"
        },
        "id": "IAc023w7MqE8",
        "outputId": "68261afc-af28-4a96-8f02-e57d5597bfab"
      },
      "execution_count": null,
      "outputs": [
        {
          "output_type": "execute_result",
          "data": {
            "text/plain": [
              "['456', '23fg', '1ac21', 'kls', '1', '098d']"
            ]
          },
          "metadata": {},
          "execution_count": 37
        }
      ]
    },
    {
      "cell_type": "markdown",
      "source": [
        "`Problem 8:` Split String of list on K character.\n",
        "\n",
        "**Example :**\n",
        "\n",
        "Input:\n",
        "```bash\n",
        "['CampusX is a channel', 'for data-science', 'aspirants.']\n",
        "```\n",
        "\n",
        "Output:\n",
        "```bash\n",
        "['CampusX', 'is', 'a', 'channel', 'for', 'data-science', 'aspirants.']\n",
        "```"
      ],
      "metadata": {
        "id": "RQdla-10xlR_"
      }
    },
    {
      "cell_type": "code",
      "source": [
        "L=['CampusX', 'is', 'a', 'channel', 'for', 'data-science', 'aspirants.']\n",
        "# kth charaxcter\n",
        "input='a'\n",
        "result=[]\n",
        "\n",
        "for i in L:\n",
        "  result.extend(i.split(input))\n",
        "\n",
        "\n",
        "print(result)"
      ],
      "metadata": {
        "colab": {
          "base_uri": "https://localhost:8080/"
        },
        "id": "TNHkvw_XP1DH",
        "outputId": "c0bd1acc-56b1-4ca4-fa02-9f247c27b2b9"
      },
      "execution_count": null,
      "outputs": [
        {
          "output_type": "stream",
          "name": "stdout",
          "text": [
            "['C', 'mpusX', 'is', '', '', 'ch', 'nnel', 'for', 'd', 't', '-science', '', 'spir', 'nts.']\n"
          ]
        }
      ]
    },
    {
      "cell_type": "markdown",
      "source": [
        "### `Problem 9:` Convert Character Matrix to single String using string comprehension.\n",
        "\n",
        "**Example 1:**\n",
        "\n",
        "Input:\n",
        "```bash\n",
        "[['c', 'a', 'm', 'p', 'u', 'x'], ['i', 's'], ['b', 'e', 's', 't'], ['c', 'h', 'a', 'n', 'n', 'e', 'l']]\n",
        "```\n",
        "\n",
        "Output:\n",
        "```bash\n",
        "campux is best channel\n",
        "```"
      ],
      "metadata": {
        "id": "A_97QVulyEqg"
      }
    },
    {
      "cell_type": "code",
      "source": [
        "L = [['c', 'a', 'm', 'p', 'u', 'x'], ['i', 's'], ['b', 'e', 's', 't'], ['c', 'h', 'a', 'n', 'n', 'e', 'l']]\n",
        "\n",
        "# connect words\n",
        "L1=[\"\".join(i) for i in L]\n",
        "# join on spaces\n",
        "print(\" \".join(L1))"
      ],
      "metadata": {
        "colab": {
          "base_uri": "https://localhost:8080/"
        },
        "id": "1IF3p8skQD8D",
        "outputId": "58db3f21-429e-4022-caf8-993a01b003aa"
      },
      "execution_count": null,
      "outputs": [
        {
          "output_type": "stream",
          "name": "stdout",
          "text": [
            "campux is best channel\n"
          ]
        }
      ]
    },
    {
      "cell_type": "markdown",
      "source": [
        "### `Problem 10:` Add Space between Potential Words.\n",
        "\n",
        "**Example:**\n",
        "\n",
        "Input:\n",
        "\n",
        "```bash\n",
        "['campusxIs', 'bestFor', 'dataScientist']\n",
        "```\n",
        "\n",
        "Output:\n",
        "```bash\n",
        "['campusx Is', 'best For', 'data Scientist']\n",
        "```"
      ],
      "metadata": {
        "id": "JD6oHx93zbO4"
      }
    },
    {
      "cell_type": "code",
      "source": [
        "words = ['campusxIs', 'bestFor', 'dataScientist']\n",
        "\n",
        "# index wise\n",
        "for i in range(len(words)):\n",
        "  # words wise\n",
        "  for j in range(1,len(words[i])):\n",
        "    if words[i][j].isupper():\n",
        "      words[i]=words[i][:j]+' '+words[i][j:]\n",
        "\n",
        "      break\n",
        "\n",
        "print(words)"
      ],
      "metadata": {
        "colab": {
          "base_uri": "https://localhost:8080/"
        },
        "id": "_Jg_qFd3QjBl",
        "outputId": "47ee27a0-8bf8-4fc3-a24e-57bfec713b7f"
      },
      "execution_count": null,
      "outputs": [
        {
          "output_type": "stream",
          "name": "stdout",
          "text": [
            "['campusx Is', 'best For', 'data Scientist']\n"
          ]
        }
      ]
    },
    {
      "cell_type": "markdown",
      "source": [
        "### `Problem 11:` Write a program that can perform union operation on 2 lists\n",
        "\n",
        "**Example:**\n",
        "\n",
        "Input:\n",
        "\n",
        "```bash\n",
        "[1,2,3,4,5,1]\n",
        "[2,3,5,7,8]\n",
        "```\n",
        "\n",
        "Output:\n",
        "```bash\n",
        "[1,2,3,4,5,7,8]\n",
        "```"
      ],
      "metadata": {
        "id": "Lq6dRlzE5fwn"
      }
    },
    {
      "cell_type": "code",
      "source": [
        "L1=[1,2,3,4,5,1]\n",
        "L2=[2,3,5,7,8]\n",
        "\n",
        "L=[]\n",
        "\n",
        "for i in L1:\n",
        "  if i not in L:\n",
        "    L.append(i)\n",
        "\n",
        "for j in L2:\n",
        "  if j not in L:\n",
        "    L.append(j)\n",
        "\n",
        "L\n"
      ],
      "metadata": {
        "colab": {
          "base_uri": "https://localhost:8080/"
        },
        "id": "ZRZjk2ufR4b0",
        "outputId": "b2f9ab7e-a09b-4d61-824e-a07823c5bd87"
      },
      "execution_count": null,
      "outputs": [
        {
          "output_type": "execute_result",
          "data": {
            "text/plain": [
              "[1, 2, 3, 4, 5, 7, 8]"
            ]
          },
          "metadata": {},
          "execution_count": 46
        }
      ]
    },
    {
      "cell_type": "markdown",
      "source": [
        "### `Problem 12:` Write a program that can find the max number of each row of a matrix\n",
        "\n",
        "**Example:**\n",
        "\n",
        "Input:\n",
        "\n",
        "```bash\n",
        "[[1,2,3],[4,5,6],[7,8,9]]\n",
        "```\n",
        "\n",
        "Output:\n",
        "```bash\n",
        "[3,6,9]\n",
        "```"
      ],
      "metadata": {
        "id": "Nol-HaYs6HBm"
      }
    },
    {
      "cell_type": "code",
      "source": [
        "L=[[1,2,3],[4,5,6],[7,8,9]]\n",
        "\n",
        "result=[]\n",
        "\n",
        "for i in L:\n",
        "  result.append(max(i))\n",
        "\n",
        "result"
      ],
      "metadata": {
        "colab": {
          "base_uri": "https://localhost:8080/"
        },
        "id": "ZE2wnMoXSJrN",
        "outputId": "add1f651-473e-49fe-f935-395d82e6be18"
      },
      "execution_count": null,
      "outputs": [
        {
          "output_type": "execute_result",
          "data": {
            "text/plain": [
              "[3, 6, 9]"
            ]
          },
          "metadata": {},
          "execution_count": 47
        }
      ]
    },
    {
      "cell_type": "markdown",
      "source": [
        "### `Problem 13:` Write a list comprehension to print the following matrix\n",
        "\n",
        "[[0, 1, 2], [3, 4, 5], [6, 7, 8]]"
      ],
      "metadata": {
        "id": "dWTfVhIE6V4n"
      }
    },
    {
      "cell_type": "code",
      "source": [
        "[[j+3*i for j in range(0,3)]for i in range(0,3)]"
      ],
      "metadata": {
        "colab": {
          "base_uri": "https://localhost:8080/"
        },
        "id": "h7-YEDn-SRwr",
        "outputId": "030ab756-15ad-4416-d525-e31bdc2b4977"
      },
      "execution_count": null,
      "outputs": [
        {
          "output_type": "execute_result",
          "data": {
            "text/plain": [
              "[[0, 1, 2], [3, 4, 5], [6, 7, 8]]"
            ]
          },
          "metadata": {},
          "execution_count": 50
        }
      ]
    },
    {
      "cell_type": "markdown",
      "source": [
        "### `Problem 14:` Write a list comprehension that can transpose a given matrix\n",
        "\n",
        "matrix = [<br>\n",
        "  [1,2,3],<br>\n",
        "          [4,5,6],<br>\n",
        "          [7,8,9]<br>]<br>\n",
        "\n",
        "[1, 4, 7]<br>\n",
        "[2, 5, 8]<br>\n",
        "[3, 6, 9]<br>"
      ],
      "metadata": {
        "id": "h-EimBt492t7"
      }
    },
    {
      "cell_type": "code",
      "source": [
        "matrix = [\n",
        "[1,2,3],\n",
        "[4,5,6],\n",
        "[7,8,9]\n",
        "]\n",
        "\n",
        "# values of i in rows\n",
        "[[row[i] for row in matrix] for i in range (len(matrix))]"
      ],
      "metadata": {
        "colab": {
          "base_uri": "https://localhost:8080/"
        },
        "id": "YxVlHjuMSpaX",
        "outputId": "af7621be-a11c-4158-b982-8f33478c81ce"
      },
      "execution_count": null,
      "outputs": [
        {
          "output_type": "execute_result",
          "data": {
            "text/plain": [
              "[[1, 4, 7], [2, 5, 8], [3, 6, 9]]"
            ]
          },
          "metadata": {},
          "execution_count": 51
        }
      ]
    },
    {
      "cell_type": "markdown",
      "source": [
        "### `Problem 15:` Write a list comprehension that can flatten a nested list\n",
        "\n",
        "Input<br>\n",
        "matrix = [<br>\n",
        "  [1,2,3],<br>\n",
        "          [4,5,6],<br>\n",
        "          [7,8,9]<br>]<br>\n",
        "\n",
        "Output:<br>\n",
        "[1, 2, 3, 4, 5, 6, 7, 8, 9]"
      ],
      "metadata": {
        "id": "dgd7iBjg8yjI"
      }
    },
    {
      "cell_type": "code",
      "source": [
        "matrix = [\n",
        "[1,2,3],\n",
        "[4,5,6],\n",
        "[7,8,9]\n",
        "]\n",
        "[i for i in matrix for i in i]"
      ],
      "metadata": {
        "id": "YglJHnYTKg21",
        "outputId": "2ac497d5-e832-4fab-e71c-9bb9ebedc741",
        "colab": {
          "base_uri": "https://localhost:8080/"
        }
      },
      "execution_count": null,
      "outputs": [
        {
          "output_type": "execute_result",
          "data": {
            "text/plain": [
              "[1, 2, 3, 4, 5, 6, 7, 8, 9]"
            ]
          },
          "metadata": {},
          "execution_count": 52
        }
      ]
    },
    {
      "cell_type": "code",
      "source": [
        "matrix = [\n",
        "[1,2,3],\n",
        "[4,5,6],\n",
        "[7,8,9]\n",
        "]\n",
        "\n",
        "# i for j in matrix will extract rows and for i in j extract numbers\n",
        "[i for j in matrix for i in j]\n",
        "\n",
        "# second way of doing this\n",
        "[i for i in matrix for i in i]"
      ],
      "metadata": {
        "colab": {
          "base_uri": "https://localhost:8080/"
        },
        "id": "yN-1y_F6B3kR",
        "outputId": "c917977c-47f4-4e4a-81ad-b5e95e36dee4"
      },
      "execution_count": null,
      "outputs": [
        {
          "output_type": "execute_result",
          "data": {
            "text/plain": [
              "[1, 2, 3, 4, 5, 6, 7, 8, 9]"
            ]
          },
          "metadata": {},
          "execution_count": 53
        }
      ]
    }
  ]
}