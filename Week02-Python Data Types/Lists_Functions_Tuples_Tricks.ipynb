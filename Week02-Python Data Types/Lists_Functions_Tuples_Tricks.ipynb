{
  "nbformat": 4,
  "nbformat_minor": 0,
  "metadata": {
    "colab": {
      "provenance": [],
      "authorship_tag": "ABX9TyMTaXVqTPoDHuOxfiT1AkxL",
      "include_colab_link": true
    },
    "kernelspec": {
      "name": "python3",
      "display_name": "Python 3"
    },
    "language_info": {
      "name": "python"
    }
  },
  "cells": [
    {
      "cell_type": "markdown",
      "metadata": {
        "id": "view-in-github",
        "colab_type": "text"
      },
      "source": [
        "<a href=\"https://colab.research.google.com/github/Abdul-Hannan96/Python-For-DataScience/blob/main/Week02-Python%20Data%20Types/Lists_Functions_Tuples_Tricks.ipynb\" target=\"_parent\"><img src=\"https://colab.research.google.com/assets/colab-badge.svg\" alt=\"Open In Colab\"/></a>"
      ]
    },
    {
      "cell_type": "markdown",
      "source": [
        "### Python Lists Tips and Tricks\n",
        "\n",
        "#### Tip 1: List Basics\n",
        "<font color=\"blue\">Lists are ordered collections of elements in Python. You can create a list using square brackets.</font>\n",
        "\n",
        "```python\n",
        "my_list = [1, 2, 3, 4, 5]\n",
        "```\n",
        "\n",
        "#### Tip 2: List Slicing\n",
        "<font color=\"blue\">You can extract sublists from a list using slicing.</font>\n",
        "\n",
        "```python\n",
        "sub_list = my_list[1:3]  # Gets elements at index 1 and 2.\n",
        "```\n",
        "\n",
        "#### Tip 3: List Comprehensions\n",
        "<font color=\"blue\">List comprehensions provide a concise way to create lists.</font>\n",
        "\n",
        "```python\n",
        "squared = [x**2 for x in my_list]\n",
        "```\n",
        "\n",
        "#### Tip 4: Common List Methods\n",
        "<font color=\"blue\">Python offers several built-in methods for working with lists:</font>\n",
        "\n",
        "- <font color=\"green\">`append()`: Add an element to the end of the list.</font>\n",
        "- <font color=\"green\">`extend()`: Extend a list with the elements from another list.</font>\n",
        "- <font color=\"green\">`pop()`: Remove and return an element by index.</font>\n",
        "- <font color=\"green\">`remove()`: Remove the first occurrence of a value.</font>\n",
        "- <font color=\"green\">`index()`: Find the index of a value in the list.</font>\n"
      ],
      "metadata": {
        "id": "0ZqsE2gnhSCi"
      }
    },
    {
      "cell_type": "markdown",
      "source": [
        "### Python Functions Tips and Tricks\n",
        "\n",
        "#### Tip 1: Function Definition\n",
        "<font color=\"blue\">Define functions with the `def` keyword.</font>\n",
        "\n",
        "```python\n",
        "def greet(name):\n",
        "    return f\"Hello, {name}!\"\n",
        "```\n",
        "\n",
        "#### Tip 2: Default Arguments\n",
        "<font color=\"blue\">You can provide default values for function arguments.</font>\n",
        "\n",
        "```python\n",
        "def greet(name, greeting=\"Hello\"):\n",
        "    return f\"{greeting}, {name}!\"\n",
        "```\n",
        "\n",
        "#### Tip 3: Lambda Functions\n",
        "<font color=\"blue\">Lambda functions are small, anonymous functions.</font>\n",
        "\n",
        "```python\n",
        "add = lambda x, y: x + y\n",
        "```\n",
        "\n",
        "#### Tip 4: Docstrings\n",
        "<font color=\"blue\">Document your functions using docstrings.</font>\n",
        "\n",
        "```python\n",
        "def multiply(x, y):\n",
        "    \"\"\"\n",
        "    Multiply two numbers.\n",
        "\n",
        "    Args:\n",
        "        x (int): The first number.\n",
        "        y (int): The second number.\n",
        "\n",
        "    Returns:\n",
        "        int: The product of x and y.\n",
        "    \"\"\"\n",
        "    return x * y\n"
      ],
      "metadata": {
        "id": "Wucz__euhYKv"
      }
    },
    {
      "cell_type": "markdown",
      "source": [
        "### Python Tuples Tips and Tricks\n",
        "\n",
        "#### Tip 1: Tuple Basics\n",
        "<font color=\"blue\">Tuples are similar to lists but are immutable.</font>\n",
        "\n",
        "```python\n",
        "my_tuple = (1, 2, 3)\n",
        "```\n",
        "\n",
        "#### Tip 2: Tuple Unpacking\n",
        "<font color=\"blue\">Unpack tuples to variables.</font>\n",
        "\n",
        "```python\n",
        "a, b, c = my_tuple\n",
        "```\n",
        "\n",
        "#### Tip 3: Named Tuples\n",
        "<font color=\"blue\">Use namedtuples for more descriptive data structures.</font>\n",
        "\n",
        "```python\n",
        "from collections import namedtuple\n",
        "\n",
        "Point = namedtuple(\"Point\", [\"x\", \"y\"])\n",
        "p = Point(1, 2)\n",
        "```\n"
      ],
      "metadata": {
        "id": "frB-s6QBhguv"
      }
    }
  ]
}