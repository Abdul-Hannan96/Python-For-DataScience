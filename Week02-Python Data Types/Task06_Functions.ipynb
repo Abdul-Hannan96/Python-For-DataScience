{
  "nbformat": 4,
  "nbformat_minor": 0,
  "metadata": {
    "colab": {
      "provenance": [],
      "authorship_tag": "ABX9TyPeHzqy7nWB8N8Nt9vE9ZfJ",
      "include_colab_link": true
    },
    "kernelspec": {
      "name": "python3",
      "display_name": "Python 3"
    },
    "language_info": {
      "name": "python"
    }
  },
  "cells": [
    {
      "cell_type": "markdown",
      "metadata": {
        "id": "view-in-github",
        "colab_type": "text"
      },
      "source": [
        "<a href=\"https://colab.research.google.com/github/Abdul-Hannan96/Python-For-DataScience/blob/main/Week02-Python%20Data%20Types/Task06_Functions.ipynb\" target=\"_parent\"><img src=\"https://colab.research.google.com/assets/colab-badge.svg\" alt=\"Open In Colab\"/></a>"
      ]
    },
    {
      "cell_type": "markdown",
      "source": [
        "### **`Problem-1:`** Write a Python function that takes a list and returns a new list with unique elements of the first list.\n",
        "\n",
        "**Exercise 1:**\n",
        "\n",
        "Input:\n",
        "\n",
        "```bash\n",
        "[1,2,3,3,3,3,4,5]\n",
        "```\n",
        "\n",
        "Output:\n",
        "\n",
        "```bash\n",
        "[1, 2, 3, 4, 5]\n",
        "```"
      ],
      "metadata": {
        "id": "u4LMIwAOYQ5S"
      }
    },
    {
      "cell_type": "code",
      "source": [
        "def return_unique(L):\n",
        "  result=[]\n",
        "\n",
        "  for i in L:\n",
        "    if i not in result:\n",
        "      result.append(i)\n",
        "\n",
        "  return result\n",
        "\n",
        "\n",
        "return_unique([1,2,3,3,3,3,4,5])"
      ],
      "metadata": {
        "colab": {
          "base_uri": "https://localhost:8080/"
        },
        "id": "CYNeHug8VcF1",
        "outputId": "15be5a72-547c-4472-b2e7-28c62ed5f757"
      },
      "execution_count": null,
      "outputs": [
        {
          "output_type": "execute_result",
          "data": {
            "text/plain": [
              "[1, 2, 3, 4, 5]"
            ]
          },
          "metadata": {},
          "execution_count": 3
        }
      ]
    },
    {
      "cell_type": "markdown",
      "source": [
        "### **`Problem-2:`** Write a Python function that accepts a hyphen-separated sequence of words as parameter and returns the words in a hyphen-separated sequence after sorting them alphabetically.\n",
        "\n",
        "**Example 1:**\n",
        "\n",
        "Input:\n",
        "```bash\n",
        "green-red-yellow-black-white\n",
        "```\n",
        "\n",
        "Output:\n",
        "```bash\n",
        "black-green-red-white-yellow\n",
        "```"
      ],
      "metadata": {
        "id": "UoMcLwayaIC8"
      }
    },
    {
      "cell_type": "code",
      "source": [
        "def sequence(s):\n",
        "  result=[]\n",
        "\n",
        "  for i in sorted(s.split('-')):\n",
        "    result.append(i)\n",
        "\n",
        "  return result\n",
        "\n",
        "s=sequence('green-red-yellow-black-white')\n",
        "print(\"-\".join(s))"
      ],
      "metadata": {
        "colab": {
          "base_uri": "https://localhost:8080/"
        },
        "id": "zQ0dnyiEV60T",
        "outputId": "074b74b7-0f91-464b-ac08-6e3962bcb032"
      },
      "execution_count": null,
      "outputs": [
        {
          "output_type": "stream",
          "name": "stdout",
          "text": [
            "black-green-red-white-yellow\n"
          ]
        }
      ]
    },
    {
      "cell_type": "markdown",
      "source": [
        "### **`Problem 3:`** Write a Python function that accepts a string and calculate the number of upper case letters and lower case letters.\n",
        "\n",
        "```\n",
        "Sample String : 'CampusX is an Online Mentorship Program fOr EnginEering studentS.'\n",
        "Expected Output :\n",
        "No. of Upper case characters :  9\n",
        "No. of Lower case Characters :  47\n",
        "```"
      ],
      "metadata": {
        "id": "xPtk4kyQbR3j"
      }
    },
    {
      "cell_type": "code",
      "source": [
        "def upper_lower(s):\n",
        "  upper=0\n",
        "  lower=0\n",
        "\n",
        "  for i in s:\n",
        "    if i.isupper():\n",
        "      upper=upper+1\n",
        "\n",
        "    elif i.islower():\n",
        "      lower=lower+1\n",
        "\n",
        "    else:\n",
        "      pass\n",
        "\n",
        "  return upper,lower\n",
        "\n",
        "\n",
        "x,y=upper_lower('CampusX is an Online Mentorship Program fOr EnginEering studentS.')\n",
        "print('Upper alphabets',x)\n",
        "print('lowerer alphabets',y)\n"
      ],
      "metadata": {
        "colab": {
          "base_uri": "https://localhost:8080/"
        },
        "id": "ZgkslF7yW_wx",
        "outputId": "0ee1e930-810e-463e-d0cf-e5d35b12a7b6"
      },
      "execution_count": null,
      "outputs": [
        {
          "output_type": "stream",
          "name": "stdout",
          "text": [
            "Upper alphabets 9\n",
            "lowerer alphabets 47\n"
          ]
        }
      ]
    },
    {
      "cell_type": "markdown",
      "source": [
        "### **`Problem 4:`** Write a Python program to print the even numbers from a given list.\n",
        "```\n",
        "Sample List : [1, 2, 3, 4, 5, 6, 7, 8, 9]\n",
        "Expected Result : [2, 4, 6, 8]\n",
        "```"
      ],
      "metadata": {
        "id": "cXvGV_0jcgLU"
      }
    },
    {
      "cell_type": "code",
      "source": [
        "def is_even(L):\n",
        "  res=[]\n",
        "\n",
        "  for i in L:\n",
        "    if i%2==0:\n",
        "      res.append(i)\n",
        "\n",
        "  return res\n",
        "\n",
        "is_even([1, 2, 3, 4, 5, 6, 7, 8, 9])\n",
        "\n"
      ],
      "metadata": {
        "colab": {
          "base_uri": "https://localhost:8080/"
        },
        "id": "nXMW5GakQlK9",
        "outputId": "1d98a47a-8f91-4c60-9485-9e10e1c2da15"
      },
      "execution_count": null,
      "outputs": [
        {
          "output_type": "execute_result",
          "data": {
            "text/plain": [
              "[2, 4, 6, 8]"
            ]
          },
          "metadata": {},
          "execution_count": 15
        }
      ]
    },
    {
      "cell_type": "markdown",
      "source": [
        "### **`Problem 5:`** Write a Python function to check whether a number is perfect or not.\n",
        "\n",
        "A Perfect number is a number that is half the sum of all of its positive divisors (including itself).\n",
        "\n",
        "Example :\n",
        "\n",
        "```\n",
        "The first perfect number is 6, because 1, 2, and 3 are its proper positive divisors, and 1 + 2 + 3 = 6.\n",
        "Equivalently, the number 6 is equal to half the sum of all its positive divisors: ( 1 + 2 + 3 + 6 ) / 2 = 6.\n",
        "\n",
        "The next perfect number is 28 = 1 + 2 + 4 + 7 + 14. This is followed by the perfect numbers 496 and 8128.\n",
        "```\n",
        "\n"
      ],
      "metadata": {
        "id": "l9GTv2CBc5Ru"
      }
    },
    {
      "cell_type": "code",
      "source": [
        "def perfect_num(num):\n",
        "  sum=0\n",
        "\n",
        "  for i in range(1,num):\n",
        "    # number dividend of itself\n",
        "    if num%i==0:\n",
        "      sum=sum+i\n",
        "\n",
        "\n",
        "  return num==sum\n",
        "\n",
        "\n",
        "perfect_num(6)"
      ],
      "metadata": {
        "colab": {
          "base_uri": "https://localhost:8080/"
        },
        "id": "8pYnQtArXshj",
        "outputId": "d60dd256-35fc-44d1-84da-b8756e8a9a59"
      },
      "execution_count": null,
      "outputs": [
        {
          "output_type": "execute_result",
          "data": {
            "text/plain": [
              "True"
            ]
          },
          "metadata": {},
          "execution_count": 16
        }
      ]
    },
    {
      "cell_type": "markdown",
      "source": [
        "### **`Problem-6:`** Write a Python function to concatenate any no of dictionaries to create a new one.\n",
        "\n",
        "```\n",
        "Sample Dictionary :\n",
        "dic1={1:10, 2:20}\n",
        "dic2={3:30, 4:40}\n",
        "dic3={5:50,6:60}\n",
        "Expected Result : {1: 10, 2: 20, 3: 30, 4: 40, 5: 50, 6: 60}\n",
        "```"
      ],
      "metadata": {
        "id": "eZFmnuNgdwbk"
      }
    },
    {
      "cell_type": "code",
      "source": [
        "# kwrgs is for keyword args\n",
        "# we use ** when we have to pass key and its value pair\n",
        "# here we used only one * because we have to update whole dictionary\n",
        "def merge_dict(*kwargs):\n",
        "  d={}\n",
        "\n",
        "  for i in kwargs:\n",
        "    # update dictionary by adding new dictionaries to existing\n",
        "    d.update(i)\n",
        "\n",
        "  return d\n",
        "\n",
        "dict1={1:10, 2:20}\n",
        "dict2={3:30, 4:40}\n",
        "dict3={5:50,6:60}\n",
        "\n",
        "merge_dict(dict1,dict2,dict3)"
      ],
      "metadata": {
        "colab": {
          "base_uri": "https://localhost:8080/"
        },
        "id": "8uXIfJM0YU_A",
        "outputId": "2337434e-d307-46e9-a2af-2ee07c7d94f4"
      },
      "execution_count": null,
      "outputs": [
        {
          "output_type": "execute_result",
          "data": {
            "text/plain": [
              "{1: 10, 2: 20, 3: 30, 4: 40, 5: 50, 6: 60}"
            ]
          },
          "metadata": {},
          "execution_count": 23
        }
      ]
    },
    {
      "cell_type": "markdown",
      "source": [
        "`Problem-7` Write a python function that accepts a string as input and returns the word with most occurence.\n",
        "\n",
        "```\n",
        "Input:\n",
        "hello how are you i am fine thank you\n",
        "```\n",
        "\n",
        "```\n",
        "Output\n",
        "you -> 2\n",
        "```\n"
      ],
      "metadata": {
        "id": "mgnPzdLHennb"
      }
    },
    {
      "cell_type": "code",
      "source": [
        "def most_used(s):\n",
        "  d={}\n",
        "\n",
        "  for i in s.split():\n",
        "    if i in d:\n",
        "      d[i]=d[i]+1\n",
        "\n",
        "    else:\n",
        "      d[i]=1\n",
        "\n",
        "  # max value occured in dict\n",
        "  max_val=max(d.values())\n",
        "  for i in d:\n",
        "    # if value is max then print it\n",
        "    if d[i]==max_val:\n",
        "      print(i,'ocurred',d[i],'times')\n",
        "      break\n",
        "\n",
        "s='hello how are you i am fine thank you'\n",
        "most_used(s)"
      ],
      "metadata": {
        "colab": {
          "base_uri": "https://localhost:8080/"
        },
        "id": "9G93SOyzaVqB",
        "outputId": "7f7568dc-c3d9-44da-f7e0-8e0cce0b9727"
      },
      "execution_count": null,
      "outputs": [
        {
          "output_type": "stream",
          "name": "stdout",
          "text": [
            "you ocurred 2 times\n"
          ]
        }
      ]
    },
    {
      "cell_type": "markdown",
      "source": [
        "`Problem-8` Write a python function that receives a list of integers and prints out a histogram of bin size 10\n",
        "\n",
        "```\n",
        "Input:\n",
        "[13,42,15,37,22,39,41,50]\n",
        "```\n",
        "\n",
        "```\n",
        "Output:\n",
        "{11-20:2,21-30:1,31-40:2,41-50:3}\n",
        "```"
      ],
      "metadata": {
        "id": "LSSvXz2oiQiQ"
      }
    },
    {
      "cell_type": "code",
      "source": [
        "import math\n",
        "\n",
        "def histogram(L):\n",
        "\n",
        "  min_bin = math.floor(min(L)/10)*10\n",
        "  max_bin = math.ceil(max(L)/10)*10\n",
        "\n",
        "  d={}\n",
        "\n",
        "  for i in range(min_bin,max_bin,10):\n",
        "    count=0\n",
        "\n",
        "    for j in L:\n",
        "      if i+1<=j<=i+10:\n",
        "        count+=1\n",
        "\n",
        "    # stored in dict as a string and its count\n",
        "    d[str(i+1) + '-' + str(i+10)]=count\n",
        "\n",
        "  return d\n",
        "\n",
        "\n",
        "\n",
        "L=[13,42,15,37,22,39,41,50]\n",
        "histogram(L)\n"
      ],
      "metadata": {
        "colab": {
          "base_uri": "https://localhost:8080/"
        },
        "id": "Wn4h7ngvcnU9",
        "outputId": "50eefaa0-c172-4b0d-dd70-546f4368d79d"
      },
      "execution_count": null,
      "outputs": [
        {
          "output_type": "execute_result",
          "data": {
            "text/plain": [
              "{'11-20': 2, '21-30': 1, '31-40': 2, '41-50': 3}"
            ]
          },
          "metadata": {},
          "execution_count": 42
        }
      ]
    },
    {
      "cell_type": "markdown",
      "source": [
        "`Problem-9` Write a python function that accepts a list of 2D co-ordinates and a query point, and then finds the the co-ordinate which is closest in terms of distance from the query point.\n",
        "\n",
        "```\n",
        "List of Coordinates\n",
        "[(1,1),(2,2),(3,3),(4,4)]\n",
        "Query Point\n",
        "(0,0)\n",
        "```\n",
        "\n",
        "```\n",
        "Output\n",
        "Nearest to (0,0) is (1,1)\n",
        "```"
      ],
      "metadata": {
        "id": "h-ZZoyKnoXa5"
      }
    },
    {
      "cell_type": "code",
      "source": [
        "def shortest_distance(points, query):\n",
        "    nearest_coordinate = None\n",
        "    nearest_distance = None\n",
        "\n",
        "    for point in points:\n",
        "        x = point[0] - query[0]\n",
        "        y = point[1] - query[1]\n",
        "\n",
        "        # Euclidean distance\n",
        "        distance = (x ** 2 + y ** 2) ** 0.5\n",
        "\n",
        "        if nearest_distance is None or distance < nearest_distance:\n",
        "            nearest_coordinate = point\n",
        "            nearest_distance = distance\n",
        "\n",
        "    return nearest_coordinate\n",
        "\n",
        "points = [(2, 2), (3, 3), (4, 4)]\n",
        "query = (0, 0)\n",
        "\n",
        "nearest = shortest_distance(points, query)\n",
        "print(\"Nearest to\", query, \"is\", nearest)\n"
      ],
      "metadata": {
        "colab": {
          "base_uri": "https://localhost:8080/"
        },
        "id": "8YgWoPmTfzH4",
        "outputId": "73d03f4d-4d3e-4125-cf79-a8382725e3fa"
      },
      "execution_count": null,
      "outputs": [
        {
          "output_type": "stream",
          "name": "stdout",
          "text": [
            "Nearest to (0, 0) is (2, 2)\n"
          ]
        }
      ]
    },
    {
      "cell_type": "markdown",
      "source": [
        "`Problem-10`:Write a python program that receives a list of strings and performs bag of word operation on those strings\n",
        "\n",
        "https://en.wikipedia.org/wiki/Bag-of-words_model"
      ],
      "metadata": {
        "id": "7HG7yTFt8dtM"
      }
    },
    {
      "cell_type": "code",
      "source": [
        "def bow(text):\n",
        "  bow={}\n",
        "\n",
        "  for txt in text:\n",
        "    for word in txt.split():\n",
        "      if word in bow:\n",
        "        bow[word]+=1\n",
        "\n",
        "      else:\n",
        "        bow[word]=1\n",
        "\n",
        "  return bow\n",
        "\n",
        "\n",
        "L = [\n",
        "    'cat mat rat cat',\n",
        "     'sat bat fat cat rat',\n",
        "     'pat cat mat rat'\n",
        "]\n",
        "texts = [\"This is the first text\", \"This is the second text\", \"And this is the third text\"]\n",
        "bag_of_words = bow(L)\n",
        "bag_of_words2 = bow(texts)\n",
        "print(bag_of_words)\n",
        "print(bag_of_words2)\n"
      ],
      "metadata": {
        "colab": {
          "base_uri": "https://localhost:8080/"
        },
        "id": "D5MrexGKzfRP",
        "outputId": "2e5b6051-0668-4196-9450-60b6f51b4591"
      },
      "execution_count": null,
      "outputs": [
        {
          "output_type": "stream",
          "name": "stdout",
          "text": [
            "{'cat': 4, 'mat': 2, 'rat': 3, 'sat': 1, 'bat': 1, 'fat': 1, 'pat': 1}\n",
            "{'This': 2, 'is': 3, 'the': 3, 'first': 1, 'text': 3, 'second': 1, 'And': 1, 'this': 1, 'third': 1}\n"
          ]
        }
      ]
    },
    {
      "cell_type": "markdown",
      "source": [
        "###`Problem 11:` Write a Python program to add three given lists using Python map and lambda."
      ],
      "metadata": {
        "id": "TvW-ZGjGB5Xa"
      }
    },
    {
      "cell_type": "code",
      "source": [
        "L1 = [1,2,3]\n",
        "L2 = [4,5,6]\n",
        "L3 = [7,8,9]\n",
        "\n",
        "list(map(lambda x,y,z:x+y+z,L1,L2,L3))"
      ],
      "metadata": {
        "colab": {
          "base_uri": "https://localhost:8080/"
        },
        "id": "Bnq5lg2Kh1QW",
        "outputId": "4ddb79f2-87ac-47ec-ea2d-a4a499942e79"
      },
      "execution_count": null,
      "outputs": [
        {
          "output_type": "execute_result",
          "data": {
            "text/plain": [
              "[12, 15, 18]"
            ]
          },
          "metadata": {},
          "execution_count": 49
        }
      ]
    },
    {
      "cell_type": "markdown",
      "source": [
        "###`Problem-12:`Write a Python program to create a list containing the power of said number in bases raised to the corresponding number in the index using Python map.\n",
        "`Input:`\n",
        "```\n",
        "list1 = [1,2,3,4,5,6]\n",
        "```\n",
        "`Output:`\n",
        "```\n",
        "[1,2,9,64,625,-]\n",
        "```\n"
      ],
      "metadata": {
        "id": "-Ew5PofpCNr6"
      }
    },
    {
      "cell_type": "code",
      "source": [
        "list1 = [1,2,3,4,5,6]\n",
        "# y is described as range -> nested loop\n",
        "list(map(lambda x,y:x**y,list1,range(len(list1))))"
      ],
      "metadata": {
        "colab": {
          "base_uri": "https://localhost:8080/"
        },
        "id": "8IcvCek8iPZe",
        "outputId": "f9c09429-96ea-44b1-9327-b8d51eee113b"
      },
      "execution_count": null,
      "outputs": [
        {
          "output_type": "execute_result",
          "data": {
            "text/plain": [
              "[1, 2, 9, 64, 625, 7776]"
            ]
          },
          "metadata": {},
          "execution_count": 52
        }
      ]
    },
    {
      "cell_type": "markdown",
      "source": [
        "###`Problem-13` Using filter() and list() functions and .lower() method filter all the vowels in a given string.\n",
        "\n"
      ],
      "metadata": {
        "id": "2SB-SegXDEXC"
      }
    },
    {
      "cell_type": "code",
      "source": [
        "str1=\"FIFA world cup in 2022 will take place in Qatar\"\n",
        "\n",
        "list(filter(lambda x:True if x.lower() in set('aeiouAEIOU') else False,str1))"
      ],
      "metadata": {
        "colab": {
          "base_uri": "https://localhost:8080/"
        },
        "id": "sTYKFZgOiwOy",
        "outputId": "aca56f37-1e63-48bf-99b4-1444e2aaafe8"
      },
      "execution_count": null,
      "outputs": [
        {
          "output_type": "execute_result",
          "data": {
            "text/plain": [
              "['I', 'A', 'o', 'u', 'i', 'i', 'a', 'e', 'a', 'e', 'i', 'a', 'a']"
            ]
          },
          "metadata": {},
          "execution_count": 57
        }
      ]
    },
    {
      "cell_type": "markdown",
      "source": [
        "`Problem-14`: Use reduce to convert a 2D list to 1D"
      ],
      "metadata": {
        "id": "X0ki_SNYHxvl"
      }
    },
    {
      "cell_type": "code",
      "source": [
        "ini_list = [[1, 2, 3],\n",
        "            [3, 6, 7],\n",
        "            [7, 5, 4]]\n",
        "\n",
        "import functools\n",
        "# convert 2d to 1d\n",
        "functools.reduce(lambda x,y:x+y,ini_list)"
      ],
      "metadata": {
        "colab": {
          "base_uri": "https://localhost:8080/"
        },
        "id": "Cd3ixNqjHztT",
        "outputId": "5f3973e4-9b56-408b-948d-b23605ccabe1"
      },
      "execution_count": null,
      "outputs": [
        {
          "output_type": "execute_result",
          "data": {
            "text/plain": [
              "[1, 2, 3, 3, 6, 7, 7, 5, 4]"
            ]
          },
          "metadata": {},
          "execution_count": 60
        }
      ]
    },
    {
      "cell_type": "markdown",
      "source": [
        "`Problem 15`- A dictionary contains following information about 5 employees:\n",
        "- First name\n",
        "- Last name\n",
        "- Age\n",
        "- Grade(Skilled,Semi-skilled,Highly skilled)<br>\n",
        "Write a program using map/filter/reduce to a list of employees(first name + last name) who are highly skilled"
      ],
      "metadata": {
        "id": "VWzTwRVoIKk5"
      }
    },
    {
      "cell_type": "code",
      "source": [
        "\n",
        "\n",
        "employees = [  {\n",
        "    'emp_fname':'Asad',\n",
        "    'emp_lname':'Ali',\n",
        "    'emp_age':26,\n",
        "    'Grade':'Highly skilled'\n",
        "\n",
        "\n",
        "},\n",
        "\n",
        "{\n",
        "    'emp_fname':'Hamza',\n",
        "    'emp_lname':'khan',\n",
        "    'emp_age':24,\n",
        "    'Grade':'semi-skilled'\n",
        "\n",
        "\n",
        "},\n",
        "\n",
        "{\n",
        "    'emp_fname':'Usama',\n",
        "    'emp_lname':'meer',\n",
        "    'emp_age':25,\n",
        "    'Grade':'skilled'\n",
        "\n",
        "\n",
        "},\n",
        "{\n",
        "    'emp_fname':'Nasir',\n",
        "    'emp_lname':'sultan',\n",
        "    'emp_age':28,\n",
        "    'Grade':'Highly skilled'\n",
        "\n",
        "\n",
        "}]\n"
      ],
      "metadata": {
        "id": "z2s_52oIITtr"
      },
      "execution_count": null,
      "outputs": []
    },
    {
      "cell_type": "code",
      "source": [
        "list(map(lambda x:x['emp_fname'] + ' ' + x['emp_lname'],list(filter(lambda x:True if x['Grade']=='Highly skilled' else False,employees))))"
      ],
      "metadata": {
        "colab": {
          "base_uri": "https://localhost:8080/"
        },
        "id": "g8CKmvQUkQx_",
        "outputId": "a87ff65b-4c02-4db6-c32d-22f0570198bb"
      },
      "execution_count": null,
      "outputs": [
        {
          "output_type": "execute_result",
          "data": {
            "text/plain": [
              "['Asad Ali', 'Nasir sultan']"
            ]
          },
          "metadata": {},
          "execution_count": 64
        }
      ]
    }
  ]
}