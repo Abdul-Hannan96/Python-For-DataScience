{
  "nbformat": 4,
  "nbformat_minor": 0,
  "metadata": {
    "colab": {
      "provenance": [],
      "authorship_tag": "ABX9TyN9zMPMC+uXOc3BigLGsOqP",
      "include_colab_link": true
    },
    "kernelspec": {
      "name": "python3",
      "display_name": "Python 3"
    },
    "language_info": {
      "name": "python"
    }
  },
  "cells": [
    {
      "cell_type": "markdown",
      "metadata": {
        "id": "view-in-github",
        "colab_type": "text"
      },
      "source": [
        "<a href=\"https://colab.research.google.com/github/Abdul-Hannan96/Python-For-DataScience/blob/main/Week01-Introduction-to-python/If_else.ipynb\" target=\"_parent\"><img src=\"https://colab.research.google.com/assets/colab-badge.svg\" alt=\"Open In Colab\"/></a>"
      ]
    },
    {
      "cell_type": "markdown",
      "source": [
        "### `Problem 1`: Write a program that will give you in hand monthly salary after deduction on CTC - HRA(10%), DA(5%), PF(3%) and taxes deduction as below:\n",
        "\n",
        "> Salary(Lakhs) : Tax(%)\n",
        "\n",
        "*   Below 5 : 0%\n",
        "*   5-10 : 10%\n",
        "*   10-20 : 20%\n",
        "*   aboove 20 : 30%"
      ],
      "metadata": {
        "id": "gHOsVLfkV6_u"
      }
    },
    {
      "cell_type": "code",
      "source": [
        "ctc=int(input(\"Enter your annual CTC:\"))\n",
        "\n",
        "if ctc<500000:\n",
        "  # only 18 % taxes are deducted\n",
        "  salary=ctc*.82\n",
        "\n",
        "elif ctc<1000000:\n",
        "  # 10% other taxes\n",
        "  salary=ctc*.72\n",
        "\n",
        "elif ctc<2000000:\n",
        "  # 20% other taxes\n",
        "  salary=ctc*.62\n",
        "\n",
        "else:\n",
        "  # 30% other taxes\n",
        "  salary=ctc*.52\n",
        "\n",
        "\n",
        "print('Salary after 12 month deduction is :',round(salary/12,2))"
      ],
      "metadata": {
        "colab": {
          "base_uri": "https://localhost:8080/"
        },
        "id": "umno-AuH3BfO",
        "outputId": "b4d67a46-e885-4e59-bb45-004f13550722"
      },
      "execution_count": null,
      "outputs": [
        {
          "output_type": "stream",
          "name": "stdout",
          "text": [
            "Enter your annual CTC:5555\n",
            "Salary after 12 month deduction is : 379.59\n"
          ]
        }
      ]
    },
    {
      "cell_type": "markdown",
      "source": [
        "### `Problem 2`: Write a program that take a user input of three angles and will find out whether it can form a triangle or not.\n",
        "\n",
        "Hint - Sum of all angles is 180 and all angles are positive"
      ],
      "metadata": {
        "id": "15LCFQwkXEJT"
      }
    },
    {
      "cell_type": "code",
      "source": [
        "angle1=int(input('Enter first angle'))\n",
        "angle2=int(input('Enter second angle'))\n",
        "angle3=int(input('Enter third angle'))\n",
        "\n",
        "if((angle1+angle2+angle3==180) and ((angle1+angle2+angle3>0))):\n",
        "  print('Valid Triangle')\n",
        "\n",
        "else:\n",
        "  print('Enter valid positive numbers sums upto 180')\n"
      ],
      "metadata": {
        "colab": {
          "base_uri": "https://localhost:8080/"
        },
        "id": "WBIEVJse4MIe",
        "outputId": "ef094401-6463-4c03-eab0-5c1331522455"
      },
      "execution_count": null,
      "outputs": [
        {
          "output_type": "stream",
          "name": "stdout",
          "text": [
            "Enter first angle60\n",
            "Enter second angle60\n",
            "Enter third angle60\n",
            "Valid Triangle\n"
          ]
        }
      ]
    },
    {
      "cell_type": "markdown",
      "source": [
        "### `Problem 3`: Write a program that will take user input of cost price and selling price and determines whether its a loss or a profit."
      ],
      "metadata": {
        "id": "JYa6SjwdYHNO"
      }
    },
    {
      "cell_type": "code",
      "source": [
        "cost_price=int(input('Enter cost price'))\n",
        "selling_price=int(input('Enter selling price'))\n",
        "\n",
        "if cost_price<selling_price:\n",
        "  profit=selling_price-cost_price\n",
        "  print('Profit gained is',profit)\n",
        "\n",
        "else:\n",
        "  loss=cost_price-selling_price\n",
        "  print('Loss gained is',loss)\n"
      ],
      "metadata": {
        "colab": {
          "base_uri": "https://localhost:8080/"
        },
        "id": "a2DdJVYM4k3X",
        "outputId": "21388cef-b4ae-44df-df2a-aa50541cdd8c"
      },
      "execution_count": null,
      "outputs": [
        {
          "output_type": "stream",
          "name": "stdout",
          "text": [
            "Enter cost price10\n",
            "Enter selling price20\n",
            "Profit gained is 10\n"
          ]
        }
      ]
    },
    {
      "cell_type": "markdown",
      "source": [
        "### `Problem 4`: Write a menu-driven program -\n",
        "1. cm to ft\n",
        "2. km to miles\n",
        "3. USD to INR\n",
        "4. exit\n",
        "\n",
        "Hint\n",
        "- 1 cm = 0.032ft\n",
        "- 1km = 0.62\n",
        "- 1 USD = 80 INR"
      ],
      "metadata": {
        "id": "2vTio7K8c4I8"
      }
    },
    {
      "cell_type": "code",
      "source": [
        "menu=input(\n",
        "    \"\"\"\n",
        "    Hi,Please select any option to start\n",
        "    1- CM to FT\n",
        "    2- KM to Miles\n",
        "    3- USD to INR\n",
        "    4- Exit\n",
        "\n",
        "    \"\"\"\n",
        ")\n",
        "\n",
        "if menu=='1':\n",
        "  cm=float(input('Enter the cm value'))\n",
        "  print('CM to ft is',0.032*cm)\n",
        "\n",
        "elif menu=='2':\n",
        "  km=float(input('Enter the km value'))\n",
        "  print('KM to miles is',0.62*km)\n",
        "\n",
        "elif menu=='3':\n",
        "  usd=int(input('Enter the usd value'))\n",
        "  print('KM to miles is',80*usd)\n",
        "\n",
        "else:\n",
        "  exit()\n",
        "\n"
      ],
      "metadata": {
        "colab": {
          "base_uri": "https://localhost:8080/"
        },
        "id": "xo1nML7P40HH",
        "outputId": "b9804751-5936-4cda-83d7-b588740712d0"
      },
      "execution_count": null,
      "outputs": [
        {
          "output_type": "stream",
          "name": "stdout",
          "text": [
            "\n",
            "    Hi,Please select any option to start\n",
            "    1- CM to FT\n",
            "    2- KM to Miles\n",
            "    3- USD to INR\n",
            "    4- Exit\n",
            "\n",
            "    1\n",
            "Enter the cm value25\n",
            "CM to ft is 0.8\n"
          ]
        }
      ]
    },
    {
      "cell_type": "markdown",
      "source": [
        "### `Problem 5` - Exercise 12: Display Fibonacci series up to 10 terms.\n",
        "\n",
        "*Note: The Fibonacci Sequence is a series of numbers. The next number is found by adding up the two numbers before it. The first two numbers are 0 and 1. For example, 0, 1, 1, 2, 3, 5, 8, 13, 21. The next number in this series above is 13+21 = 34*"
      ],
      "metadata": {
        "id": "MuZ8DzqVdwBr"
      }
    },
    {
      "cell_type": "code",
      "source": [
        "num1,num2=0,1\n",
        "\n",
        "for i in range(0,10):\n",
        "  print(num1)\n",
        "\n",
        "  next=num1+num2\n",
        "  num1=num2\n",
        "  num2=next"
      ],
      "metadata": {
        "colab": {
          "base_uri": "https://localhost:8080/"
        },
        "id": "gIXYirjq6MHO",
        "outputId": "e1464a68-437d-497d-f153-aee619f0653f"
      },
      "execution_count": null,
      "outputs": [
        {
          "output_type": "stream",
          "name": "stdout",
          "text": [
            "0\n",
            "1\n",
            "1\n",
            "2\n",
            "3\n",
            "5\n",
            "8\n",
            "13\n",
            "21\n",
            "34\n"
          ]
        }
      ]
    },
    {
      "cell_type": "markdown",
      "source": [
        "### `Problem 6` - Find the factorial of a given number.\n",
        "\n",
        "Write a program to use the loop to find the factorial of a given number.\n",
        "\n",
        "The factorial (symbol: `!`) means to multiply all whole numbers from the chosen number down to 1.\n",
        "\n",
        "For example: calculate the factorial of 5\n",
        "\n",
        "```bash\n",
        "5! = 5 × 4 × 3 × 2 × 1 = 120\n",
        "```\n",
        "\n",
        "Output:\n",
        "\n",
        "```bash\n",
        "120\n",
        "```"
      ],
      "metadata": {
        "id": "RSK6I1DqeIUu"
      }
    },
    {
      "cell_type": "code",
      "source": [
        "number=int(input('Enter the number'))\n",
        "\n",
        "fact=1\n",
        "for i in range(1,number+1):\n",
        "  fact=fact*i\n",
        "\n",
        "print(fact)"
      ],
      "metadata": {
        "colab": {
          "base_uri": "https://localhost:8080/"
        },
        "id": "aXRZAsEu6sYm",
        "outputId": "d39a12cd-d87b-4c95-b6be-60af8ab89701"
      },
      "execution_count": null,
      "outputs": [
        {
          "output_type": "stream",
          "name": "stdout",
          "text": [
            "Enter the number5\n",
            "120\n"
          ]
        }
      ]
    },
    {
      "cell_type": "markdown",
      "source": [
        "### `Problem 7` - Reverse a given integer number.\n",
        "\n",
        "Example:\n",
        "\n",
        "`Input:`\n",
        "\n",
        "```bash\n",
        "76542\n",
        "```\n",
        "\n",
        "`Output:`\n",
        "\n",
        "```bash\n",
        "24567\n",
        "```"
      ],
      "metadata": {
        "id": "yiUW9FGyeqO7"
      }
    },
    {
      "cell_type": "code",
      "source": [
        "num=int(input('enter number'))\n",
        "rev=0\n",
        "\n",
        "while num>0:\n",
        "  # last number 5,4,3,2,1\n",
        "  last=num%10\n",
        "  # reverse logic here\n",
        "  rev=rev*10+last\n",
        "  # send number to last by breaking down (12345->1234->123->12->1)\n",
        "  num=num//10\n",
        "\n",
        "\n",
        "print(rev)"
      ],
      "metadata": {
        "colab": {
          "base_uri": "https://localhost:8080/"
        },
        "id": "RcX9lnju678Y",
        "outputId": "4dc9027e-7372-4a5a-9e7c-47ac1ac88e13"
      },
      "execution_count": null,
      "outputs": [
        {
          "output_type": "stream",
          "name": "stdout",
          "text": [
            "enter number12345\n",
            "54321\n"
          ]
        }
      ]
    },
    {
      "cell_type": "markdown",
      "source": [
        "\n",
        "\n",
        "### `Problem 8`: Take a user input as integer N. Find out the sum from 1 to N. If any number if divisible by 5, then skip that number. And if the sum is greater than 300, don't need to calculate the sum further more. Print the final result. And don't use for loop to solve this problem.\n",
        "\n",
        "**Example 1:**\n",
        "\n",
        "`Input:`\n",
        "\n",
        "```bash\n",
        "30\n",
        "```\n",
        "\n",
        "`Output:`\n",
        "\n",
        "```bash\n",
        "276\n",
        "```"
      ],
      "metadata": {
        "id": "zTqnHki7gfpQ"
      }
    },
    {
      "cell_type": "code",
      "source": [
        "num=int(input('Enter the number'))\n",
        "\n",
        "sum=0\n",
        "\n",
        "i=1\n",
        "\n",
        "while i<num+1:\n",
        "  # skip those number which are  divisble by 5\n",
        "  if i%5==0:\n",
        "    i+=1\n",
        "    continue\n",
        "# number which are not divisble by 5\n",
        "  sum=sum+i\n",
        "# reduce to 300\n",
        "  if sum>300:\n",
        "    sum=sum-i\n",
        "    break\n",
        "\n",
        "\n",
        "# loop increment\n",
        "  i+=1\n",
        "\n",
        "print(sum)"
      ],
      "metadata": {
        "colab": {
          "base_uri": "https://localhost:8080/"
        },
        "id": "LchgsyMXDhuV",
        "outputId": "d86ba0d7-be53-4534-f08c-e7ac4c8a40ff"
      },
      "execution_count": null,
      "outputs": [
        {
          "output_type": "stream",
          "name": "stdout",
          "text": [
            "Enter the number40\n",
            "276\n"
          ]
        }
      ]
    },
    {
      "cell_type": "markdown",
      "source": [
        "### `Problem 9`: Write a program that keeps on accepting a number from the user until the user enters Zero. Display the sum and average of all the numbers."
      ],
      "metadata": {
        "id": "1mB_6R14lh_b"
      }
    },
    {
      "cell_type": "code",
      "source": [
        "count=0\n",
        "sum=0\n",
        "\n",
        "while True:\n",
        "  num=int(input('Enter number'))\n",
        "  if num==0:\n",
        "    break\n",
        "\n",
        "  else:\n",
        "    sum=sum+num\n",
        "    count=count+1\n",
        "\n",
        "print('Sum:',sum)\n",
        "\n",
        "print('Average:',round(sum/count,2))"
      ],
      "metadata": {
        "colab": {
          "base_uri": "https://localhost:8080/"
        },
        "id": "7zonTDoFcnIQ",
        "outputId": "ed49f93e-d232-4f3c-bcfc-d3e7791f59c7"
      },
      "execution_count": null,
      "outputs": [
        {
          "output_type": "stream",
          "name": "stdout",
          "text": [
            "Enter number1\n",
            "Enter number2\n",
            "Enter number5\n",
            "Enter number0\n",
            "Sum: 8\n",
            "Average: 2.67\n"
          ]
        }
      ]
    },
    {
      "cell_type": "markdown",
      "source": [
        "###`Problem 10`: Write a program which will find all such numbers which are divisible by 7 but are not a multiple of 5, between 2000 and 3200 (both included). The numbers obtained should be printed in a comma-separated sequence on a single line."
      ],
      "metadata": {
        "id": "jtTgioZnmFVU"
      }
    },
    {
      "cell_type": "code",
      "source": [
        "L=[]\n",
        "\n",
        "for i in range(2000,3201):\n",
        "  # second condition is not multiple/divisble of 5\n",
        "  if i%7==0 and i%5!=0:\n",
        "    L.append(str(i))\n",
        "\n",
        "print(\",\".join(L))"
      ],
      "metadata": {
        "colab": {
          "base_uri": "https://localhost:8080/"
        },
        "id": "a45XasqVdL5R",
        "outputId": "3dcc0bc6-94d4-412d-80f4-f7ada2e6b1d6"
      },
      "execution_count": null,
      "outputs": [
        {
          "output_type": "stream",
          "name": "stdout",
          "text": [
            "2002,2009,2016,2023,2037,2044,2051,2058,2072,2079,2086,2093,2107,2114,2121,2128,2142,2149,2156,2163,2177,2184,2191,2198,2212,2219,2226,2233,2247,2254,2261,2268,2282,2289,2296,2303,2317,2324,2331,2338,2352,2359,2366,2373,2387,2394,2401,2408,2422,2429,2436,2443,2457,2464,2471,2478,2492,2499,2506,2513,2527,2534,2541,2548,2562,2569,2576,2583,2597,2604,2611,2618,2632,2639,2646,2653,2667,2674,2681,2688,2702,2709,2716,2723,2737,2744,2751,2758,2772,2779,2786,2793,2807,2814,2821,2828,2842,2849,2856,2863,2877,2884,2891,2898,2912,2919,2926,2933,2947,2954,2961,2968,2982,2989,2996,3003,3017,3024,3031,3038,3052,3059,3066,3073,3087,3094,3101,3108,3122,3129,3136,3143,3157,3164,3171,3178,3192,3199\n"
          ]
        }
      ]
    },
    {
      "cell_type": "markdown",
      "source": [
        "###`Problem 11`: Write a program, which will find all such numbers between 1000 and 3000 (both included) such that each digit of the number is an even number. The numbers obtained should be printed in a space-separated sequence on a single line.\n",
        "\n"
      ],
      "metadata": {
        "id": "DpT74sfYnaIT"
      }
    },
    {
      "cell_type": "code",
      "source": [
        "even_numbers=[]\n",
        "\n",
        "for numbers in range(1000,3001):\n",
        "  flag=True\n",
        "  # Check if each digit of the number is an even number.\n",
        "  for digit in str(numbers):\n",
        "    if int(digit)%2==1:\n",
        "      flag=False\n",
        "      break\n",
        "\n",
        "  if flag:\n",
        "    even_numbers.append(numbers)\n",
        "\n",
        "\n",
        "print(even_numbers)"
      ],
      "metadata": {
        "colab": {
          "base_uri": "https://localhost:8080/"
        },
        "id": "8gABQ8Qvdoun",
        "outputId": "26b9483f-1f5c-4d12-d5d7-88170c58c583"
      },
      "execution_count": null,
      "outputs": [
        {
          "output_type": "stream",
          "name": "stdout",
          "text": [
            "[2000, 2002, 2004, 2006, 2008, 2020, 2022, 2024, 2026, 2028, 2040, 2042, 2044, 2046, 2048, 2060, 2062, 2064, 2066, 2068, 2080, 2082, 2084, 2086, 2088, 2200, 2202, 2204, 2206, 2208, 2220, 2222, 2224, 2226, 2228, 2240, 2242, 2244, 2246, 2248, 2260, 2262, 2264, 2266, 2268, 2280, 2282, 2284, 2286, 2288, 2400, 2402, 2404, 2406, 2408, 2420, 2422, 2424, 2426, 2428, 2440, 2442, 2444, 2446, 2448, 2460, 2462, 2464, 2466, 2468, 2480, 2482, 2484, 2486, 2488, 2600, 2602, 2604, 2606, 2608, 2620, 2622, 2624, 2626, 2628, 2640, 2642, 2644, 2646, 2648, 2660, 2662, 2664, 2666, 2668, 2680, 2682, 2684, 2686, 2688, 2800, 2802, 2804, 2806, 2808, 2820, 2822, 2824, 2826, 2828, 2840, 2842, 2844, 2846, 2848, 2860, 2862, 2864, 2866, 2868, 2880, 2882, 2884, 2886, 2888]\n"
          ]
        }
      ]
    },
    {
      "cell_type": "markdown",
      "source": [
        "###`Problem 12`: A robot moves in a plane starting from the original point (0,0). The robot can move toward UP, DOWN, LEFT and RIGHT with a given steps.\n",
        "The trace of robot movement is shown as the following:\n",
        "```\n",
        "UP 5\n",
        "DOWN 3\n",
        "LEFT 3\n",
        "RIGHT 2\n",
        "!\n",
        "```\n",
        "> The numbers after the direction are steps.\n",
        "\n",
        "> `!` means robot stop there.\n",
        "\n",
        "**Please write a program to compute the distance from current position after a sequence of movement and original point.**\n",
        "\n",
        "*If the distance is a float, then just print the nearest integer.*\n",
        "\n",
        "Example:\n",
        "\n",
        "`Input`:\n",
        "```\n",
        "UP 5\n",
        "DOWN 3\n",
        "LEFT 3\n",
        "RIGHT 2\n",
        "!\n",
        "```\n",
        "`Output`:\n",
        "```\n",
        "2\n",
        "```"
      ],
      "metadata": {
        "id": "5FNU50V-qR3j"
      }
    },
    {
      "cell_type": "code",
      "source": [
        "pos=[0,0]\n",
        "\n",
        "while True:\n",
        "  s=input('Enter the robot path')\n",
        "\n",
        "  if s=='!':\n",
        "    break\n",
        "  # up,down,right,left\n",
        "  direction=s.split()[0]\n",
        "  # steps 1,2,3 and so on\n",
        "  steps=int(s.split()[1])\n",
        "\n",
        "  # value on y axis(1,1)\n",
        "  if direction=='UP':\n",
        "    pos[1]=pos[1]+steps\n",
        "\n",
        "  elif direction=='DOWN':\n",
        "    pos[1]=pos[1]-steps\n",
        "\n",
        "  # values on x axis (0,0)\n",
        "  elif direction=='RIGHT':\n",
        "    pos[0]=pos[0]+steps\n",
        "\n",
        "  elif direction=='LEFT':\n",
        "    pos[0]=pos[0]-steps\n",
        "\n",
        "  else:\n",
        "    pass\n",
        "\n",
        "\n",
        "print('New Position',pos)\n",
        "# euclidean distance\n",
        "print((pos[0]**2 + pos[1]**2)**0.5)"
      ],
      "metadata": {
        "colab": {
          "base_uri": "https://localhost:8080/"
        },
        "id": "W2TPVF6tePKX",
        "outputId": "6d1759bd-4687-4e71-a8be-1c4a110d8e61"
      },
      "execution_count": null,
      "outputs": [
        {
          "output_type": "stream",
          "name": "stdout",
          "text": [
            "Enter the robot pathUP 5\n",
            "Enter the robot pathDOWN 6\n",
            "Enter the robot pathRIGHT 5\n",
            "Enter the robot pathLEFT 7\n",
            "Enter the robot path!\n",
            "New Position [-2, -1]\n",
            "2.23606797749979\n"
          ]
        }
      ]
    },
    {
      "cell_type": "markdown",
      "source": [
        "###`Problem 13`:Write a program to print whether a given number is a prime number or not"
      ],
      "metadata": {
        "id": "xVJHt83-1LOM"
      }
    },
    {
      "cell_type": "code",
      "source": [
        "num = int(input('enter the num'))\n",
        "\n",
        "flag = True\n",
        "for i in range(2,num):\n",
        "  if num%i == 0: # if any number given is divisble by number(i) of loop then it it is not prime\n",
        "    flag = False\n",
        "    break\n",
        "\n",
        "if flag == True:\n",
        "  print('Prime')\n",
        "else:\n",
        "  print('Not Prime')\n",
        "\n"
      ],
      "metadata": {
        "id": "UxTPFk0F1K6z"
      },
      "execution_count": null,
      "outputs": []
    },
    {
      "cell_type": "markdown",
      "source": [
        "###`Problem 14`:Print all the Armstrong numbers in a given range.\n",
        "Range will be provided by the user<br>\n",
        "Armstrong number is a number that is equal to the sum of cubes of its digits. For example 0, 1, 153, 370, 371 and 407 are the Armstrong numbers."
      ],
      "metadata": {
        "id": "iQOkl6YOzv-7"
      }
    },
    {
      "cell_type": "code",
      "source": [
        "start = int(input(\"Enter the start of the range: \"))\n",
        "end = int(input(\"Enter the end of the range: \"))\n",
        "\n",
        "for num in range(start, end+1):\n",
        "\n",
        "  temp=num\n",
        "  sum=0\n",
        "  # order 1,2, or bigger number 3\n",
        "  order=len(str(num))\n",
        "\n",
        "  while temp>0:\n",
        "    digit=temp%10\n",
        "    sum=sum+digit**order\n",
        "    temp//=10\n",
        "\n",
        "  if num==sum:\n",
        "    print(num)\n"
      ],
      "metadata": {
        "colab": {
          "base_uri": "https://localhost:8080/"
        },
        "id": "WgnTC1gNhOtR",
        "outputId": "3c3af337-70de-4d7e-bee1-8fd6b627468e"
      },
      "execution_count": null,
      "outputs": [
        {
          "output_type": "stream",
          "name": "stdout",
          "text": [
            "Enter the start of the range: 1\n",
            "Enter the end of the range: 153\n",
            "1\n",
            "2\n",
            "3\n",
            "4\n",
            "5\n",
            "6\n",
            "7\n",
            "8\n",
            "9\n",
            "153\n"
          ]
        }
      ]
    },
    {
      "cell_type": "markdown",
      "source": [
        "###`Problem 15`:Calculate the angle between the hour hand and minute hand.\n",
        "\n",
        "Note: There can be two angles between hands; we need to print a minimum of two. Also, we need to print the floor of the final result angle. For example, if the final angle is 10.61, we need to print 10.\n",
        "\n",
        "Input:<br>\n",
        "H = 9 , M = 0<br>\n",
        "Output:<br>\n",
        "90<br>\n",
        "Explanation:<br>\n",
        "The minimum angle between hour and minute\n",
        "hand when the time is 9 is 90 degress."
      ],
      "metadata": {
        "id": "HVT5tAY43ouw"
      }
    },
    {
      "cell_type": "code",
      "source": [
        "# Write code here\n",
        "\n",
        "# Write code here\n",
        "h = int(input('Enter hours hand-'))\n",
        "m = int(input('Enter minute hand-'))\n",
        "\n",
        "# validate the input\n",
        "if (h < 0 or m < 0 or h > 12 or m > 60):\n",
        "    print('Wrong input')\n",
        "\n",
        "# Idea is to minute angle - hour agnle from clockwise from 12 hour point\n",
        "\n",
        "# 1 minute in minute angle manke 6 degree. (60 minute -> 360 degree)\n",
        "m_angle = m*6\n",
        "\n",
        "# every hour point yeilds to 30degree-- 12 hours-360degree plus if minute hand moves hour hands move too\n",
        "# Every minute after hour hand take 0.5 degree movement. clockwise\n",
        "h_angle = h*30 + m*0.5\n",
        "\n",
        "# Take abs difference b/w them\n",
        "angle = abs(h_angle - m_angle)\n",
        "\n",
        "\n",
        "if angle>180:\n",
        "    print(360-angle)\n",
        "else:\n",
        "    print(angle)"
      ],
      "metadata": {
        "colab": {
          "base_uri": "https://localhost:8080/"
        },
        "id": "1lOPC0NA3zsb",
        "outputId": "536d32f1-e71f-48b2-a97d-f14db7cfe887"
      },
      "execution_count": null,
      "outputs": [
        {
          "output_type": "stream",
          "name": "stdout",
          "text": [
            "Enter hours hand-12\n",
            "Enter minute hand-6\n",
            "33.0\n"
          ]
        }
      ]
    },
    {
      "cell_type": "markdown",
      "source": [
        "###`Problem 16`:Given two rectangles, find if the given two rectangles overlap or not. A rectangle is denoted by providing the x and y coordinates of two points: the left top corner and the right bottom corner of the rectangle. Two rectangles sharing a side are considered overlapping. (L1 and R1 are the extreme points of the first rectangle and L2 and R2 are the extreme points of the second rectangle).\n",
        "\n",
        "Note: It may be assumed that the rectangles are parallel to the coordinate axis.\n",
        "\n",
        "<img src='https://www.geeksforgeeks.org/wp-content/uploads/rectanglesOverlap.png' width='300' height='200'>"
      ],
      "metadata": {
        "id": "q9vIe7ud4bCq"
      }
    },
    {
      "cell_type": "code",
      "source": [
        "def overlap(l1, r1, l2, r2):\n",
        "  \"\"\"Returns True if the two rectangles overlap, False otherwise.\"\"\"\n",
        "  # Check if the rectangles intersect on the x-axis.\n",
        "  if l1[0] > r2[0] or l2[0] > r1[0]:\n",
        "    return False\n",
        "\n",
        "  # Check if the rectangles intersect on the y-axis.\n",
        "  if l1[1] > r2[1] or l2[1] > r1[1]:\n",
        "    return False\n",
        "\n",
        "  # Check if the rectangles intersect on the other two edges -> return True\n",
        "  return (l1[0] <= r2[0] and l2[0] <= r1[0]) or (l1[1] <= r2[1] and l2[1] <= r1[1])"
      ],
      "metadata": {
        "id": "PNoR5FPW4cmS"
      },
      "execution_count": null,
      "outputs": []
    },
    {
      "cell_type": "code",
      "source": [
        "l1 = (1, 2)\n",
        "r1 = (5, 6)\n",
        "l2 = (3, 4)\n",
        "r2 = (7, 8)\n",
        "\n",
        "if overlap(l1, r1, l2, r2):\n",
        "  print(\"The rectangles overlap.\")\n",
        "else:\n",
        "  print(\"The rectangles do not overlap.\")"
      ],
      "metadata": {
        "colab": {
          "base_uri": "https://localhost:8080/"
        },
        "id": "oDW7w1Bk4e3S",
        "outputId": "e7b55888-5fd3-4807-f184-57226dfe236e"
      },
      "execution_count": null,
      "outputs": [
        {
          "output_type": "stream",
          "name": "stdout",
          "text": [
            "The rectangles overlap.\n"
          ]
        }
      ]
    }
  ]
}