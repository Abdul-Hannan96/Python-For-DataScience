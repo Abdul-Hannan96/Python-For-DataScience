{
  "nbformat": 4,
  "nbformat_minor": 0,
  "metadata": {
    "colab": {
      "provenance": [],
      "include_colab_link": true
    },
    "kernelspec": {
      "name": "python3",
      "display_name": "Python 3"
    },
    "language_info": {
      "name": "python"
    }
  },
  "cells": [
    {
      "cell_type": "markdown",
      "metadata": {
        "id": "view-in-github",
        "colab_type": "text"
      },
      "source": [
        "<a href=\"https://colab.research.google.com/github/Abdul-Hannan96/Python-For-DataScience/blob/main/Week01-Introduction-to-python/Session02_Operators_if_else_loops.ipynb\" target=\"_parent\"><img src=\"https://colab.research.google.com/assets/colab-badge.svg\" alt=\"Open In Colab\"/></a>"
      ]
    },
    {
      "cell_type": "markdown",
      "source": [
        "# Operators in Python\n",
        "\n",
        "- Arithmetic Operators\n",
        "- Relational Operators\n",
        "- Logical Operators\n",
        "- Bitwise Operators\n",
        "- Assignment Operators\n",
        "- Membership Operators"
      ],
      "metadata": {
        "id": "y1HMD4oI7FL7"
      }
    },
    {
      "cell_type": "code",
      "source": [
        "import warnings\n",
        "\n",
        "warnings.filterwarnings('ignore')\n",
        "\n",
        "# Your code goes here\n"
      ],
      "metadata": {
        "id": "CuUSxVJJ6cJL"
      },
      "execution_count": null,
      "outputs": []
    },
    {
      "cell_type": "code",
      "source": [
        "# Arithmetric Operators\n",
        "print(5+6)\n",
        "\n",
        "print(5-6)\n",
        "\n",
        "print(5*6)\n",
        "\n",
        "print(5/2)\n",
        "\n",
        "# return absolute value -> not in floats\n",
        "print(5//2)\n",
        "# return remainder\n",
        "print(5%2)\n",
        "# square\n",
        "print(5**2)"
      ],
      "metadata": {
        "id": "a7cegk-f7U4-",
        "colab": {
          "base_uri": "https://localhost:8080/"
        },
        "outputId": "f5c9f254-29ac-41f1-be27-ead8a4f2f839"
      },
      "execution_count": null,
      "outputs": [
        {
          "output_type": "stream",
          "name": "stdout",
          "text": [
            "11\n",
            "-1\n",
            "30\n",
            "2.5\n",
            "2\n",
            "1\n",
            "25\n"
          ]
        }
      ]
    },
    {
      "cell_type": "code",
      "source": [
        "# Relational Operators\n",
        "print(4>5)\n",
        "\n",
        "print(4<5)\n",
        "\n",
        "print(4>=4)\n",
        "\n",
        "print(4<=4)\n",
        "\n",
        "print(4==4)\n",
        "\n",
        "print(4!=4)"
      ],
      "metadata": {
        "id": "TMIQKhFd7Y5A",
        "colab": {
          "base_uri": "https://localhost:8080/"
        },
        "outputId": "d6622de4-8b3b-4f18-c6df-bf52ad3f6fc8"
      },
      "execution_count": null,
      "outputs": [
        {
          "output_type": "stream",
          "name": "stdout",
          "text": [
            "False\n",
            "True\n",
            "True\n",
            "True\n",
            "True\n",
            "False\n"
          ]
        }
      ]
    },
    {
      "cell_type": "code",
      "source": [
        "# Logical Operators\n",
        "# both condition should be 1 in order to print 1\n",
        "print(1 and 0)\n",
        "\n",
        "# any of them\n",
        "print(1 or 0)\n",
        "# 0 it mean false -> convert 0 to 1 and 1 to 0\n",
        "print(not 1)"
      ],
      "metadata": {
        "id": "vyxdjDbc7avq",
        "colab": {
          "base_uri": "https://localhost:8080/"
        },
        "outputId": "39e89fc5-834f-4199-91ca-ef47bffe41ea"
      },
      "execution_count": null,
      "outputs": [
        {
          "output_type": "stream",
          "name": "stdout",
          "text": [
            "0\n",
            "1\n",
            "False\n"
          ]
        }
      ]
    },
    {
      "cell_type": "code",
      "source": [
        "# Bitwise Operators\n",
        "\n",
        "# bitwise and\n",
        "print(2 & 3)\n",
        "\n",
        "# bitwise or\n",
        "print(2 | 3)\n",
        "\n",
        "# bitwise xor\n",
        "print(2 ^ 3)\n",
        "\n",
        "# 110 is bit pattern of 3-> convert 0 into 1 and 1 into 0->001 which is 1\n",
        "print(~3)\n",
        "# shift binaries of 4 to left side with 2\n",
        "print(4 >> 2)\n",
        "# shift binaries of 5 to right side with 2\n",
        "print(5 << 2)"
      ],
      "metadata": {
        "id": "H4KzpSke7d9l",
        "colab": {
          "base_uri": "https://localhost:8080/"
        },
        "outputId": "29bca34b-2502-4c61-ead4-5fb85634e3a1"
      },
      "execution_count": null,
      "outputs": [
        {
          "output_type": "stream",
          "name": "stdout",
          "text": [
            "2\n",
            "3\n",
            "1\n",
            "-4\n",
            "1\n",
            "20\n"
          ]
        }
      ]
    },
    {
      "cell_type": "code",
      "source": [
        "# Assignment Operators\n",
        "\n",
        "# =\n",
        "# a = 2\n",
        "\n",
        "a = 2\n",
        "\n",
        "# a = a % 2\n",
        "# a %= 2\n",
        "\n",
        "a=a+2\n",
        "a+=2\n",
        "\n",
        "# a++ ++a\n",
        "\n",
        "print(a)"
      ],
      "metadata": {
        "id": "8EEm8eHO7gD_",
        "colab": {
          "base_uri": "https://localhost:8080/"
        },
        "outputId": "e6eaa9f1-f7ca-43d8-f90d-21802effbac7"
      },
      "execution_count": null,
      "outputs": [
        {
          "output_type": "stream",
          "name": "stdout",
          "text": [
            "6\n"
          ]
        }
      ]
    },
    {
      "cell_type": "code",
      "source": [
        "# Membership Operators\n",
        "\n",
        "# in/not in\n",
        "\n",
        "print('D' not in 'Delhi')\n",
        "print(1 in [1,2,3,4,5,6])\n",
        "print(1 not in [1,2,3])\n",
        "print(1 in [2,3,4,5,6])"
      ],
      "metadata": {
        "id": "LzrIz7I87h-W",
        "colab": {
          "base_uri": "https://localhost:8080/"
        },
        "outputId": "ca804e8a-8226-4eb1-c049-60f3f1ab9329"
      },
      "execution_count": null,
      "outputs": [
        {
          "output_type": "stream",
          "name": "stdout",
          "text": [
            "False\n",
            "True\n",
            "False\n",
            "False\n"
          ]
        }
      ]
    },
    {
      "cell_type": "code",
      "source": [
        "# Program - Find the sum of a 3 digit number entered by the user\n",
        "\n",
        "number = int(input('Enter a 3 digit number'))\n",
        "\n",
        "# 345%10 -> 5\n",
        "a = number%10\n",
        "\n",
        "# seprate the number => 666->66->6\n",
        "number = number//10\n",
        "# 34%10 -> 4\n",
        "b = number % 10\n",
        "\n",
        "number = number//10\n",
        "# 3 % 10 -> 3\n",
        "c = number % 10\n",
        "\n",
        "print(a + b + c)"
      ],
      "metadata": {
        "id": "C-LoVrYGDEuB",
        "colab": {
          "base_uri": "https://localhost:8080/"
        },
        "outputId": "5842d198-7b4f-4785-cec7-5735603ab873"
      },
      "execution_count": null,
      "outputs": [
        {
          "output_type": "stream",
          "name": "stdout",
          "text": [
            "Enter a 3 digit number666\n",
            "18\n"
          ]
        }
      ]
    },
    {
      "cell_type": "markdown",
      "source": [
        "# If-else in Python"
      ],
      "metadata": {
        "id": "Iq7CzVFs7mWT"
      }
    },
    {
      "cell_type": "code",
      "source": [
        "# login program and indentation -> if-else=> branching\n",
        "# email -> Hannan@@gmail.com\n",
        "# password -> 1234\n",
        "\n",
        "email=input('enter email')\n",
        "password=input('enter password')\n",
        "\n",
        "if email=='Hannan@gmail.com' and password=='1234':\n",
        "  print('Welcome')\n",
        "\n",
        "elif email=='Hannan@gmail.com' and password!='1234':\n",
        "  # tell the user\n",
        "  print('Wrong password')\n",
        "  password=input('enter password again')\n",
        "  if password=='1234':\n",
        "    print('welcome')\n",
        "\n",
        "  else:\n",
        "    print('Try again')\n",
        "\n",
        "else:\n",
        "  print('Not correct')\n"
      ],
      "metadata": {
        "colab": {
          "base_uri": "https://localhost:8080/"
        },
        "id": "trd4oUbAjnOf",
        "outputId": "cee70ec8-4224-44d5-f929-8a01b8bf2eb4"
      },
      "execution_count": null,
      "outputs": [
        {
          "output_type": "stream",
          "name": "stdout",
          "text": [
            "enter emailHannan@gmail.com\n",
            "enter password1234\n",
            "Welcome\n"
          ]
        }
      ]
    },
    {
      "cell_type": "code",
      "source": [
        "# if-else examples\n",
        "# 1. Find the min of 3 given numbers\n",
        "# 2. Menu Driven Program"
      ],
      "metadata": {
        "id": "qo_1tY2ABlAX"
      },
      "execution_count": null,
      "outputs": []
    },
    {
      "cell_type": "code",
      "source": [
        "# min of 3 number\n",
        "\n",
        "a = int(input('first num'))\n",
        "b = int(input('second num'))\n",
        "c = int(input('third num'))\n",
        "\n",
        "if a<b and a<c:\n",
        "  print('smallest is',a)\n",
        "elif b<c:\n",
        "  print('smallest is',b)\n",
        "else:\n",
        "  print('smallest is',c)"
      ],
      "metadata": {
        "colab": {
          "base_uri": "https://localhost:8080/"
        },
        "id": "gQpTJbMH3W6_",
        "outputId": "3a2ff0d1-a8d2-4b41-eb50-49612c57b612"
      },
      "execution_count": null,
      "outputs": [
        {
          "output_type": "stream",
          "name": "stdout",
          "text": [
            "first num4\n",
            "second num1\n",
            "third num10\n",
            "smallest is 1\n"
          ]
        }
      ]
    },
    {
      "cell_type": "code",
      "source": [
        "# menu driven calculator\n",
        "menu = input(\"\"\"\n",
        "Hi! how can I help you.\n",
        "1. Enter 1 for pin change\n",
        "2. Enter 2 for balance check\n",
        "3. Enter 3 for withdrawl\n",
        "4. Enter 4 for exit\n",
        "\"\"\")\n",
        "\n",
        "if menu == '1':\n",
        "  print('pin change')\n",
        "elif menu == '2':\n",
        "  print('balance')\n",
        "else:\n",
        "  print('exit')"
      ],
      "metadata": {
        "colab": {
          "base_uri": "https://localhost:8080/"
        },
        "id": "hgNqlC5C4jqF",
        "outputId": "d9a4e001-985d-46fe-fdf4-2767dde7d340"
      },
      "execution_count": null,
      "outputs": [
        {
          "output_type": "stream",
          "name": "stdout",
          "text": [
            "\n",
            "Hi! how can I help you.\n",
            "1. Enter 1 for pin change\n",
            "2. Enter 2 for balance check\n",
            "3. Enter 3 for withdrawl\n",
            "4. Enter 4 for exit\n",
            "2\n",
            "balance\n"
          ]
        }
      ]
    },
    {
      "cell_type": "markdown",
      "source": [
        "# Modules in Python\n",
        "\n",
        "- math\n",
        "- keywords\n",
        "- random\n",
        "- datetime"
      ],
      "metadata": {
        "id": "532_6mva8A6C"
      }
    },
    {
      "cell_type": "code",
      "source": [
        "# math\n",
        "import math\n",
        "\n",
        "math.sqrt(196)"
      ],
      "metadata": {
        "id": "x5VXt7wv8G4o",
        "colab": {
          "base_uri": "https://localhost:8080/"
        },
        "outputId": "beb35dc5-f9b8-45f7-e7b7-d55208fe5e5c"
      },
      "execution_count": null,
      "outputs": [
        {
          "output_type": "execute_result",
          "data": {
            "text/plain": [
              "14.0"
            ]
          },
          "metadata": {},
          "execution_count": 28
        }
      ]
    },
    {
      "cell_type": "code",
      "source": [
        "# keyword\n",
        "# do not use these keywords while doing coding => create problems-> reserved for python interpreter\n",
        "import keyword\n",
        "print(keyword.kwlist)"
      ],
      "metadata": {
        "id": "FLgAX9pz8HBT",
        "colab": {
          "base_uri": "https://localhost:8080/"
        },
        "outputId": "ce3d11a2-4a3f-4f15-f326-7ca7a28ba6e4"
      },
      "execution_count": null,
      "outputs": [
        {
          "output_type": "stream",
          "name": "stdout",
          "text": [
            "['False', 'None', 'True', 'and', 'as', 'assert', 'async', 'await', 'break', 'class', 'continue', 'def', 'del', 'elif', 'else', 'except', 'finally', 'for', 'from', 'global', 'if', 'import', 'in', 'is', 'lambda', 'nonlocal', 'not', 'or', 'pass', 'raise', 'return', 'try', 'while', 'with', 'yield']\n"
          ]
        }
      ]
    },
    {
      "cell_type": "code",
      "source": [
        "# random\n",
        "# generate 1 raandom integer in range of 1 to 100\n",
        "import random\n",
        "print(random.randint(1,100))"
      ],
      "metadata": {
        "id": "R0dWpe-w8HSZ",
        "colab": {
          "base_uri": "https://localhost:8080/"
        },
        "outputId": "12518f16-f2e7-4fc9-82a9-d5223ff58f64"
      },
      "execution_count": null,
      "outputs": [
        {
          "output_type": "stream",
          "name": "stdout",
          "text": [
            "8\n"
          ]
        }
      ]
    },
    {
      "cell_type": "code",
      "source": [
        "# datetime\n",
        "import datetime\n",
        "# right now time\n",
        "print(datetime.datetime.now())"
      ],
      "metadata": {
        "colab": {
          "base_uri": "https://localhost:8080/"
        },
        "id": "XNHWXsM0iFn3",
        "outputId": "c70607c1-5fd5-4ebc-e405-20c4a50c81fc"
      },
      "execution_count": null,
      "outputs": [
        {
          "output_type": "stream",
          "name": "stdout",
          "text": [
            "2023-07-10 16:24:22.726042\n"
          ]
        }
      ]
    },
    {
      "cell_type": "code",
      "source": [
        "# codes resuability -> already built in libraries like matplotlib,pandas and numpy etc.\n",
        "help('modules')"
      ],
      "metadata": {
        "colab": {
          "base_uri": "https://localhost:8080/"
        },
        "id": "ePMxrlzX8CsQ",
        "outputId": "e2eb8320-dae2-42c0-a2d2-860f34ecd3d8"
      },
      "execution_count": null,
      "outputs": [
        {
          "output_type": "stream",
          "name": "stdout",
          "text": [
            "\n",
            "Please wait a moment while I gather a list of all available modules...\n",
            "\n"
          ]
        },
        {
          "output_type": "stream",
          "name": "stderr",
          "text": [
            "/usr/local/lib/python3.10/dist-packages/IPython/kernel/__init__.py:12: ShimWarning: The `IPython.kernel` package has been deprecated since IPython 4.0.You should import from ipykernel or jupyter_client instead.\n",
            "  warn(\"The `IPython.kernel` package has been deprecated since IPython 4.0.\"\n",
            "/usr/local/lib/python3.10/dist-packages/altair/vega/v5/__init__.py:18: AltairDeprecationWarning: The module altair.vega.v5 is deprecated and will be removed in Altair 5.\n",
            "  warnings.warn(\n",
            "/usr/local/lib/python3.10/dist-packages/altair/vegalite/v3/__init__.py:29: AltairDeprecationWarning: The module altair.vegalite.v3 is deprecated and will be removed in Altair 5. Use `import altair as alt` instead of `import altair.vegalite.v3 as alt`.\n",
            "  warnings.warn(\n",
            "/usr/local/lib/python3.10/dist-packages/jupyter_client/ssh/tunnel.py:57: DeprecationWarning:\n",
            "\n",
            "zmq.utils.strtypes is deprecated in pyzmq 23.\n",
            "\n",
            "/usr/local/lib/python3.10/dist-packages/llvmlite/llvmpy/__init__.py:3: UserWarning:\n",
            "\n",
            "The module `llvmlite.llvmpy` is deprecated and will be removed in the future.\n",
            "\n"
          ]
        },
        {
          "output_type": "stream",
          "name": "stdout",
          "text": [
            "Downloading http://dlib.net/files/shape_predictor_68_face_landmarks.dat.bz2 to /root/mlxtend_data/shape_predictor_68_face_landmarks.dat.bz2\n"
          ]
        },
        {
          "output_type": "stream",
          "name": "stderr",
          "text": [
            "/usr/local/lib/python3.10/dist-packages/moviepy/video/fx/painting.py:7: DeprecationWarning:\n",
            "\n",
            "Please use `sobel` from the `scipy.ndimage` namespace, the `scipy.ndimage.filters` namespace is deprecated.\n",
            "\n",
            "/usr/local/lib/python3.10/dist-packages/nibabel/pkg_info.py:73: DeprecationWarning:\n",
            "\n",
            "distutils Version classes are deprecated. Use packaging.version instead.\n",
            "\n",
            "/usr/local/lib/python3.10/dist-packages/nibabel/quaternions.py:31: DeprecationWarning:\n",
            "\n",
            "`np.float` is a deprecated alias for the builtin `float`. To silence this warning, use `float` by itself. Doing this will not modify any behavior and is safe. If you specifically wanted the numpy scalar type, use `np.float64` here.\n",
            "Deprecated in NumPy 1.20; for more details and guidance: https://numpy.org/devdocs/release/1.20.0-notes.html#deprecations\n",
            "\n",
            "/usr/lib/python3.10/pkgutil.py:92: UserWarning:\n",
            "\n",
            "The DICOM readers are highly experimental, unstable, and only work for Siemens time-series at the moment\n",
            "Please use with caution.  We would be grateful for your help in improving them\n",
            "\n",
            "/usr/local/lib/python3.10/dist-packages/nltk/twitter/__init__.py:20: UserWarning:\n",
            "\n",
            "The twython library has not been installed. Some functionality from the twitter package will not be available.\n",
            "\n",
            "/usr/local/lib/python3.10/dist-packages/notebook/utils.py:280: DeprecationWarning:\n",
            "\n",
            "distutils Version classes are deprecated. Use packaging.version instead.\n",
            "\n",
            "/usr/local/lib/python3.10/dist-packages/setuptools/_distutils/msvccompiler.py:66: DeprecationWarning:\n",
            "\n",
            "msvccompiler is deprecated and slated to be removed in the future. Please discontinue use or file an issue with pypa/distutils describing your use case.\n",
            "\n",
            "/usr/local/lib/python3.10/dist-packages/matplotlib_inline/config.py:68: DeprecationWarning:\n",
            "\n",
            "InlineBackend._figure_format_changed is deprecated in traitlets 4.1: use @observe and @unobserve instead.\n",
            "\n",
            "/usr/lib/python3.10/pkgutil.py:92: UserWarning:\n",
            "\n",
            "The numpy.array_api submodule is still experimental. See NEP 47.\n",
            "\n",
            "/usr/local/lib/python3.10/dist-packages/pandas_datareader/compat/__init__.py:11: DeprecationWarning:\n",
            "\n",
            "distutils Version classes are deprecated. Use packaging.version instead.\n",
            "\n",
            "/usr/local/lib/python3.10/dist-packages/pip/_vendor/pkg_resources/__init__.py:121: DeprecationWarning:\n",
            "\n",
            "pkg_resources is deprecated as an API\n",
            "\n",
            "/usr/local/lib/python3.10/dist-packages/pip/_vendor/pkg_resources/__init__.py:2870: DeprecationWarning:\n",
            "\n",
            "Deprecated call to `pkg_resources.declare_namespace('google')`.\n",
            "Implementing implicit namespace packages (as specified in PEP 420) is preferred to `pkg_resources.declare_namespace`. See https://setuptools.pypa.io/en/latest/references/keywords.html#keyword-namespace-packages\n",
            "\n",
            "/usr/local/lib/python3.10/dist-packages/pip/_vendor/pkg_resources/__init__.py:2870: DeprecationWarning:\n",
            "\n",
            "Deprecated call to `pkg_resources.declare_namespace('google.cloud')`.\n",
            "Implementing implicit namespace packages (as specified in PEP 420) is preferred to `pkg_resources.declare_namespace`. See https://setuptools.pypa.io/en/latest/references/keywords.html#keyword-namespace-packages\n",
            "\n",
            "/usr/local/lib/python3.10/dist-packages/pip/_vendor/pkg_resources/__init__.py:2870: DeprecationWarning:\n",
            "\n",
            "Deprecated call to `pkg_resources.declare_namespace('google.logging')`.\n",
            "Implementing implicit namespace packages (as specified in PEP 420) is preferred to `pkg_resources.declare_namespace`. See https://setuptools.pypa.io/en/latest/references/keywords.html#keyword-namespace-packages\n",
            "\n",
            "/usr/local/lib/python3.10/dist-packages/pip/_vendor/pkg_resources/__init__.py:2870: DeprecationWarning:\n",
            "\n",
            "Deprecated call to `pkg_resources.declare_namespace('google.iam')`.\n",
            "Implementing implicit namespace packages (as specified in PEP 420) is preferred to `pkg_resources.declare_namespace`. See https://setuptools.pypa.io/en/latest/references/keywords.html#keyword-namespace-packages\n",
            "\n",
            "/usr/local/lib/python3.10/dist-packages/pip/_vendor/pkg_resources/__init__.py:2870: DeprecationWarning:\n",
            "\n",
            "Deprecated call to `pkg_resources.declare_namespace('mpl_toolkits')`.\n",
            "Implementing implicit namespace packages (as specified in PEP 420) is preferred to `pkg_resources.declare_namespace`. See https://setuptools.pypa.io/en/latest/references/keywords.html#keyword-namespace-packages\n",
            "\n",
            "/usr/local/lib/python3.10/dist-packages/pip/_vendor/pkg_resources/__init__.py:2870: DeprecationWarning:\n",
            "\n",
            "Deprecated call to `pkg_resources.declare_namespace('sphinxcontrib')`.\n",
            "Implementing implicit namespace packages (as specified in PEP 420) is preferred to `pkg_resources.declare_namespace`. See https://setuptools.pypa.io/en/latest/references/keywords.html#keyword-namespace-packages\n",
            "\n",
            "/usr/lib/python3.10/pkgutil.py:92: UserWarning: viewer requires Qt\n",
            "/usr/local/lib/python3.10/dist-packages/sphinx/util/docutils.py:15: DeprecationWarning: The distutils package is deprecated and slated for removal in Python 3.12. Use setuptools or check PEP 632 for potential alternatives\n",
            "/usr/local/lib/python3.10/dist-packages/tensorboard/_vendor/html5lib/filters/sanitizer.py:29: DeprecationWarning: html5lib's sanitizer is deprecated; see https://github.com/html5lib/html5lib-python/issues/443 and please let us know if Bleach is unsuitable for your needs\n",
            "/usr/local/lib/python3.10/dist-packages/torch/distributed/_shard/checkpoint/__init__.py:8: DeprecationWarning: torch.distributed._shard.checkpoint will be deprecated, use torch.distributed.checkpoint instead\n",
            "/usr/local/lib/python3.10/dist-packages/torch/distributed/_sharded_tensor/__init__.py:8: DeprecationWarning: torch.distributed._sharded_tensor will be deprecated, use torch.distributed._shard.sharded_tensor instead\n",
            "/usr/local/lib/python3.10/dist-packages/torch/distributed/_sharding_spec/__init__.py:8: DeprecationWarning: torch.distributed._sharding_spec will be deprecated, use torch.distributed._shard.sharding_spec instead\n",
            "No CUDA runtime is found, using CUDA_HOME='/usr/local/cuda'\n",
            "/usr/local/lib/python3.10/dist-packages/torchvision/datapoints/__init__.py:12: UserWarning: The torchvision.datapoints and torchvision.transforms.v2 namespaces are still Beta. While we do not expect major breaking changes, some APIs may still change according to user feedback. Please submit any feedback you may have in this issue: https://github.com/pytorch/vision/issues/6753, and you can also check out https://github.com/pytorch/vision/issues/7319 to learn more about the APIs that we suspect might involve future changes. You can silence this warning by calling torchvision.disable_beta_transforms_warning().\n",
            "/usr/local/lib/python3.10/dist-packages/torchvision/transforms/v2/__init__.py:54: UserWarning: The torchvision.datapoints and torchvision.transforms.v2 namespaces are still Beta. While we do not expect major breaking changes, some APIs may still change according to user feedback. Please submit any feedback you may have in this issue: https://github.com/pytorch/vision/issues/6753, and you can also check out https://github.com/pytorch/vision/issues/7319 to learn more about the APIs that we suspect might involve future changes. You can silence this warning by calling torchvision.disable_beta_transforms_warning().\n",
            "/usr/lib/python3.10/pkgutil.py:107: VisibleDeprecationWarning: zmq.eventloop.minitornado is deprecated in pyzmq 14.0 and will be removed.\n",
            "    Install tornado itself to use zmq with the tornado IOLoop.\n",
            "    \n"
          ]
        },
        {
          "output_type": "stream",
          "name": "stdout",
          "text": [
            "Cython              code                keras               requests_unixsocket\n",
            "IPython             codecs              keyword             requirements\n",
            "OpenGL              codeop              kiwisolver          resource\n",
            "PIL                 collections         langcodes           rich\n",
            "__future__          colorcet            lazy_loader         rlcompleter\n",
            "_abc                colorlover          lib2to3             rmagic\n",
            "_aix_support        colorsys            libfuturize         rpy2\n",
            "_argon2_cffi_bindings community           libpasteurize       rsa\n",
            "_ast                compileall          librosa             runpy\n",
            "_asyncio            concurrent          lightgbm            sched\n",
            "_bisect             confection          linecache           scipy\n",
            "_blake2             configparser        lit                 scs\n",
            "_bootsubprocess     cons                llvmlite            seaborn\n",
            "_bz2                contextlib          locale              secrets\n",
            "_cffi_backend       contextlib2         locket              select\n",
            "_codecs             contextvars         logging             selectors\n",
            "_codecs_cn          contourpy           lsb_release         send2trash\n",
            "_codecs_hk          convertdate         lunarcalendar       setuptools\n",
            "_codecs_iso2022     copy                lxml                shapely\n",
            "_codecs_jp          copyreg             lzma                shelve\n",
            "_codecs_kr          cpuinfo             mailbox             shlex\n",
            "_codecs_tw          crypt               mailcap             shutil\n",
            "_collections        csv                 markdown            signal\n",
            "_collections_abc    ctypes              markdown_it         site\n",
            "_compat_pickle      cufflinks           markupsafe          sitecustomize\n",
            "_compression        curses              marshal             six\n",
            "_contextvars        cv2                 math                skimage\n",
            "_crypt              cvxopt              matplotlib          sklearn\n",
            "_csv                cvxpy               matplotlib_inline   sklearn_pandas\n",
            "_ctypes             cycler              matplotlib_venn     slugify\n",
            "_ctypes_test        cymem               mdurl               smart_open\n",
            "_curses             cython              mimetypes           smtpd\n",
            "_curses_panel       cythonmagic         missingno           smtplib\n",
            "_cvxcore            dask                mistune             sndhdr\n",
            "_datetime           dataclasses         mizani              sniffio\n",
            "_dbm                datascience         ml_dtypes           snowballstemmer\n",
            "_decimal            datetime            mlxtend             socket\n",
            "_distutils_hack     dateutil            mmap                socketserver\n",
            "_dlib_pybind11      db_dtypes           modulefinder        socks\n",
            "_ecos               dbm                 more_itertools      sockshandler\n",
            "_elementtree        dbus                moviepy             softwareproperties\n",
            "_functools          debugpy             mpmath              sortedcontainers\n",
            "_hashlib            decimal             msgpack             soundfile\n",
            "_heapq              decorator           multidict           soupsieve\n",
            "_imp                defusedxml          multipledispatch    soxr\n",
            "_io                 difflib             multiprocessing     spacy\n",
            "_json               dis                 multitasking        spacy_legacy\n",
            "_locale             distributed         murmurhash          spacy_loggers\n",
            "_lsprof             distutils           music21             sphinx\n",
            "_lzma               dlib                natsort             spwd\n",
            "_markupbase         doctest             nbclient            sql\n",
            "_md5                docutils            nbconvert           sqlalchemy\n",
            "_multibytecodec     dopamine            nbformat            sqlite3\n",
            "_multiprocessing    dot_parser          nest_asyncio        sqlparse\n",
            "_opcode             duckdb              netrc               sre_compile\n",
            "_operator           easydict            networkx            sre_constants\n",
            "_osx_support        ecos                nibabel             sre_parse\n",
            "_pickle             editdistance        nis                 srsly\n",
            "_plotly_future_     ee                  nisext              ssl\n",
            "_plotly_utils       email               nltk                stat\n",
            "_posixshmem         en_core_web_sm      nntplib             statistics\n",
            "_posixsubprocess    encodings           notebook            statsmodels\n",
            "_py_abc             entrypoints         ntpath              storemagic\n",
            "_pydecimal          enum                nturl2path          string\n",
            "_pyio               ephem               numba               stringprep\n",
            "_pyrsistent_version erfa                numbergen           struct\n",
            "_pytest             errno               numbers             subprocess\n",
            "_queue              et_xmlfile          numexpr             sunau\n",
            "_random             etils               numpy               sympy\n",
            "_rinterface_cffi_abi etuples             nvfuser             sympyprinting\n",
            "_rinterface_cffi_api exceptiongroup      oauth2client        symtable\n",
            "_scs_direct         fastai              oauthlib            sys\n",
            "_scs_indirect       fastcore            opcode              sysconfig\n",
            "_sha1               fastdownload        openpyxl            syslog\n",
            "_sha256             fastjsonschema      operator            tables\n",
            "_sha3               fastprogress        opt_einsum          tabnanny\n",
            "_sha512             fastrlock           optax               tabulate\n",
            "_signal             faulthandler        optparse            tarfile\n",
            "_sitebuiltins       fcntl               os                  tblib\n",
            "_socket             filecmp             osgeo               telnetlib\n",
            "_soundfile          fileinput           osgeo_utils         tempfile\n",
            "_soundfile_data     filelock            osqp                tenacity\n",
            "_sqlite3            fiona               osqppurepy          tensorboard\n",
            "_sre                firebase_admin      ossaudiodev         tensorboard_data_server\n",
            "_ssl                flask               packaging           tensorflow\n",
            "_stat               flatbuffers         palettable          tensorflow_datasets\n",
            "_statistics         flax                pandas              tensorflow_estimator\n",
            "_string             fnmatch             pandas_datareader   tensorflow_gcs_config\n",
            "_strptime           folium              pandas_gbq          tensorflow_hub\n",
            "_struct             fontTools           pandocfilters       tensorflow_io_gcs_filesystem\n",
            "_symtable           fractions           panel               tensorflow_metadata\n",
            "_sysconfigdata__linux_x86_64-linux-gnu frozendict          param               tensorflow_probability\n",
            "_sysconfigdata__x86_64-linux-gnu frozenlist          parso               tensorstore\n",
            "_testbuffer         fsspec              partd               termcolor\n",
            "_testcapi           ftplib              past                terminado\n",
            "_testclinic         functools           pasta               termios\n",
            "_testimportmultiple functorch           pathlib             test\n",
            "_testinternalcapi   future              pathy               tests\n",
            "_testmultiphase     gast                patsy               text_unidecode\n",
            "_thread             gc                  pdb                 textblob\n",
            "_threading_local    gcsfs               pexpect             textwrap\n",
            "_tkinter            gdown               pickle              tf_slim\n",
            "_tracemalloc        genericpath         pickleshare         thinc\n",
            "_uuid               gensim              pickletools         this\n",
            "_warnings           geographiclib       pip                 threading\n",
            "_weakref            geopandas           pipes               threadpoolctl\n",
            "_weakrefset         geopy               piptools            tifffile\n",
            "_xxsubinterpreters  getopt              pkg_resources       time\n",
            "_xxtestfuzz         getpass             pkgutil             timeit\n",
            "_yaml               gettext             platform            tinycss2\n",
            "_zoneinfo           gi                  platformdirs        tkinter\n",
            "abc                 gin                 plistlib            tlz\n",
            "absl                glob                plotly              token\n",
            "aifc                glob2               plotnine            tokenize\n",
            "aiohttp             google_auth_httplib2 pluggy              toml\n",
            "aiosignal           google_auth_oauthlib polars              tomli\n",
            "alabaster           google_crc32c       pooch               toolz\n",
            "albumentations      google_drive_downloader poplib              torch\n",
            "altair              googleapiclient     portpicker          torchaudio\n",
            "antigravity         googlesearch        posix               torchdata\n",
            "anyio               graphlib            posixpath           torchgen\n",
            "apiclient           graphviz            pprint              torchsummary\n",
            "appdirs             greenlet            prefetch_generator  torchtext\n",
            "apt                 grp                 preshed             torchvision\n",
            "apt_inst            grpc                prettytable         tornado\n",
            "apt_pkg             grpc_status         profile             tqdm\n",
            "aptsources          gspread             proglog             trace\n",
            "argon2              gspread_dataframe   progressbar         traceback\n",
            "argparse            gym                 prometheus_client   tracemalloc\n",
            "array               gym_notices         promise             traitlets\n",
            "array_record        gzip                prompt_toolkit      tree\n",
            "arviz               h5netcdf            prophet             triton\n",
            "ast                 h5py                proto               tty\n",
            "astropy             hashlib             pstats              turtle\n",
            "astunparse          heapq               psutil              tweepy\n",
            "async_timeout       hmac                psycopg2            typer\n",
            "asynchat            holidays            pty                 types\n",
            "asyncio             holoviews           ptyprocess          typing\n",
            "asyncore            html                pwd                 typing_extensions\n",
            "atexit              html5lib            py                  tzlocal\n",
            "attr                http                py4j                unicodedata\n",
            "attrs               httpimport          py_compile          unification\n",
            "audioop             httplib2            pyarrow             unittest\n",
            "audioread           humanize            pyasn1              uritemplate\n",
            "autograd            hyperopt            pyasn1_modules      urllib\n",
            "autoreload          idna                pyclbr              urllib3\n",
            "babel               imageio             pycocotools         uu\n",
            "backcall            imageio_ffmpeg      pycparser           uuid\n",
            "base64              imagesize           pyct                vega_datasets\n",
            "bdb                 imaplib             pydantic            venv\n",
            "bin                 imblearn            pydata_google_auth  warnings\n",
            "binascii            imgaug              pydoc               wasabi\n",
            "binhex              imghdr              pydoc_data          wave\n",
            "bisect              imp                 pydot               wcwidth\n",
            "bleach              importlib           pydot_ng            weakref\n",
            "blis                importlib_resources pydotplus           webbrowser\n",
            "blosc2              imutils             pydrive             webcolors\n",
            "bokeh               inflect             pyexpat             webencodings\n",
            "boost               iniconfig           pygame              websocket\n",
            "branca              inspect             pygments            werkzeug\n",
            "bs4                 io                  pygtkcompat         wheel\n",
            "build               ipaddress           pylab               widgetsnbextension\n",
            "builtins            ipykernel           pymc                wordcloud\n",
            "bz2                 ipykernel_launcher  pymeeus             wrapt\n",
            "cProfile            ipython_genutils    pymystem3           wsgiref\n",
            "cachecontrol        ipywidgets          pyparsing           xarray\n",
            "cached_property     isympy              pyproj              xarray_einstats\n",
            "cachetools          itertools           pyproject_hooks     xdrlib\n",
            "calendar            itsdangerous        pyrsistent          xgboost\n",
            "catalogue           jax                 pytensor            xlrd\n",
            "certifi             jaxlib              pytest              xml\n",
            "cffi                jieba               python_utils        xmlrpc\n",
            "cgi                 jinja2              pytz                xxlimited\n",
            "cgitb               joblib              pyviz_comms         xxlimited_35\n",
            "chardet             json                pywt                xxsubtype\n",
            "charset_normalizer  jsonpickle          pyximport           yaml\n",
            "chex                jsonschema          qdldl               yarl\n",
            "chunk               jupyter             qudida              yellowbrick\n",
            "clang               jupyter_client      queue               yfinance\n",
            "click               jupyter_console     quopri              zict\n",
            "click_plugins       jupyter_core        random              zipapp\n",
            "cligj               jupyter_server      re                  zipfile\n",
            "cloudpickle         jupyterlab_plotly   readline            zipimport\n",
            "cmake               jupyterlab_pygments regex               zipp\n",
            "cmath               jupyterlab_widgets  reprlib             zlib\n",
            "cmd                 kaggle              requests            zmq\n",
            "cmdstanpy           kanren              requests_oauthlib   zoneinfo\n",
            "\n",
            "Enter any module name to get more help.  Or, type \"modules spam\" to search\n",
            "for modules whose name or summary contain the string \"spam\".\n",
            "\n"
          ]
        }
      ]
    },
    {
      "cell_type": "markdown",
      "source": [
        "# Loops in Python\n",
        "\n",
        "- Need for loops\n",
        "- While Loop\n",
        "- For Loop"
      ],
      "metadata": {
        "id": "2Ow6_gWG7ukc"
      }
    },
    {
      "cell_type": "code",
      "source": [
        "# While loop example -> program to print the table\n",
        "# Program -> Sum of all digits of a given number\n",
        "# Program -> keep accepting numbers from users till he/she enters a 0 and then find the avg"
      ],
      "metadata": {
        "id": "Ig7NIb7L7txg"
      },
      "execution_count": null,
      "outputs": []
    },
    {
      "cell_type": "code",
      "source": [
        "number = int(input('enter the number'))\n",
        "\n",
        "i = 1\n",
        "\n",
        "while i<11:\n",
        "  print(number,'*',i,'=',number * i)\n",
        "  i += 1"
      ],
      "metadata": {
        "colab": {
          "base_uri": "https://localhost:8080/"
        },
        "id": "brWSxgiu9rrQ",
        "outputId": "eb64e76c-ee60-4584-9d00-9fd6729d39e8"
      },
      "execution_count": null,
      "outputs": [
        {
          "output_type": "stream",
          "name": "stdout",
          "text": [
            "enter the number12\n",
            "12 * 1 = 12\n",
            "12 * 2 = 24\n",
            "12 * 3 = 36\n",
            "12 * 4 = 48\n",
            "12 * 5 = 60\n",
            "12 * 6 = 72\n",
            "12 * 7 = 84\n",
            "12 * 8 = 96\n",
            "12 * 9 = 108\n",
            "12 * 10 = 120\n"
          ]
        }
      ]
    },
    {
      "cell_type": "code",
      "source": [
        "x=1\n",
        "\n",
        "while x<3:\n",
        "  print(x)\n",
        "  x+=1\n",
        "\n",
        "else:\n",
        "  print('limit crossed')"
      ],
      "metadata": {
        "colab": {
          "base_uri": "https://localhost:8080/"
        },
        "id": "gaNlR7wf5fuL",
        "outputId": "50204bcf-0d2c-461a-ecd2-1b93f1897473"
      },
      "execution_count": null,
      "outputs": [
        {
          "output_type": "stream",
          "name": "stdout",
          "text": [
            "1\n",
            "2\n",
            "limit crossed\n"
          ]
        }
      ]
    },
    {
      "cell_type": "code",
      "source": [
        "# while loop with else\n",
        "\n",
        "x = 1\n",
        "\n",
        "while x < 3:\n",
        "  print(x)\n",
        "  x += 1\n",
        "\n",
        "else:\n",
        "  print('limit crossed')"
      ],
      "metadata": {
        "id": "Ltsr9n3H73fp",
        "colab": {
          "base_uri": "https://localhost:8080/"
        },
        "outputId": "a47f2a11-bf75-4a0a-923c-49f318514900"
      },
      "execution_count": null,
      "outputs": [
        {
          "output_type": "stream",
          "name": "stdout",
          "text": [
            "1\n",
            "2\n",
            "limit crossed\n"
          ]
        }
      ]
    },
    {
      "cell_type": "code",
      "source": [
        "# Guessing game\n",
        "\n",
        "# generate a random integer between 1 and 100\n",
        "import random\n",
        "jackpot = random.randint(1,100)\n",
        "\n",
        "guess = int(input('guess karo'))\n",
        "counter = 1\n",
        "while guess != jackpot:\n",
        "  if guess < jackpot:\n",
        "    print('galat!guess higher')\n",
        "  else:\n",
        "    print('galat!guess lower')\n",
        "\n",
        "  guess = int(input('guess karo'))\n",
        "  counter += 1\n",
        "\n",
        "else:\n",
        "  print('correct guess')\n",
        "  print('attempts',counter)\n",
        "\n",
        "\n"
      ],
      "metadata": {
        "id": "29y5r2cr8MRP",
        "colab": {
          "base_uri": "https://localhost:8080/"
        },
        "outputId": "c4d707ce-6f6c-49cc-8997-a85ecf01e74e"
      },
      "execution_count": null,
      "outputs": [
        {
          "output_type": "stream",
          "name": "stdout",
          "text": [
            "guess karo7\n",
            "galat!guess higher\n",
            "guess karo50\n",
            "galat!guess lower\n",
            "guess karo30\n",
            "galat!guess higher\n",
            "guess karo40\n",
            "galat!guess lower\n",
            "guess karo35\n",
            "galat!guess lower\n",
            "guess karo32\n",
            "galat!guess higher\n",
            "guess karo33\n",
            "correct guess\n",
            "attempts 7\n"
          ]
        }
      ]
    },
    {
      "cell_type": "code",
      "source": [
        "for i in range(1,12,2): # 1 to 11 with jumps of 2\n",
        "  print(i)"
      ],
      "metadata": {
        "colab": {
          "base_uri": "https://localhost:8080/"
        },
        "id": "2KAgmlao9IpY",
        "outputId": "ae3f8497-7b8f-4e3d-91ab-ae834f741227"
      },
      "execution_count": null,
      "outputs": [
        {
          "output_type": "stream",
          "name": "stdout",
          "text": [
            "1\n",
            "3\n",
            "5\n",
            "7\n",
            "9\n",
            "11\n"
          ]
        }
      ]
    },
    {
      "cell_type": "code",
      "source": [
        "# For loop demo\n",
        "\n",
        "for i in {1,2,3,4,5}:\n",
        "  print(i)"
      ],
      "metadata": {
        "id": "bjjx0fMr8SWh",
        "colab": {
          "base_uri": "https://localhost:8080/"
        },
        "outputId": "345c34fc-c4af-4461-9699-0cd34e67e328"
      },
      "execution_count": null,
      "outputs": [
        {
          "output_type": "stream",
          "name": "stdout",
          "text": [
            "1\n",
            "2\n",
            "3\n",
            "4\n",
            "5\n"
          ]
        }
      ]
    },
    {
      "cell_type": "code",
      "source": [
        "# For loop examples\n",
        "for i in 'Delhi':\n",
        "  print(i)"
      ],
      "metadata": {
        "id": "5ZLWEyFn8g1R",
        "colab": {
          "base_uri": "https://localhost:8080/"
        },
        "outputId": "45f22e19-3482-480f-bd9f-0f0645760d57"
      },
      "execution_count": null,
      "outputs": [
        {
          "output_type": "stream",
          "name": "stdout",
          "text": [
            "D\n",
            "e\n",
            "l\n",
            "h\n",
            "i\n"
          ]
        }
      ]
    },
    {
      "cell_type": "code",
      "source": [
        "for i in ([1,2,3,4]): # iterate on list,tuples,sets\n",
        "  print(i)"
      ],
      "metadata": {
        "colab": {
          "base_uri": "https://localhost:8080/"
        },
        "id": "9N5At8gA9s6X",
        "outputId": "93a2b2b3-5071-4a94-f136-1c2a109b63c7"
      },
      "execution_count": null,
      "outputs": [
        {
          "output_type": "stream",
          "name": "stdout",
          "text": [
            "1\n",
            "2\n",
            "3\n",
            "4\n"
          ]
        }
      ]
    },
    {
      "cell_type": "markdown",
      "source": [
        "### Program - The current population of a town is 10000. The population of the town is increasing at the rate of 10% per year. You have to write a program to find out the population at the end of each of the last 10 years."
      ],
      "metadata": {
        "id": "EXnzCtohWx2V"
      }
    },
    {
      "cell_type": "code",
      "source": [
        "curr_pop = 10000\n",
        "\n",
        "for i in range(10,0,-1):\n",
        "  print(i,curr_pop)\n",
        "  curr_pop = curr_pop/1.1\n"
      ],
      "metadata": {
        "id": "Nc_6lslRW03g",
        "colab": {
          "base_uri": "https://localhost:8080/"
        },
        "outputId": "f0028ee1-21e0-41b9-dd0a-8df75332159f"
      },
      "execution_count": null,
      "outputs": [
        {
          "output_type": "stream",
          "name": "stdout",
          "text": [
            "10 10000\n",
            "9 9090.90909090909\n",
            "8 8264.462809917353\n",
            "7 7513.148009015775\n",
            "6 6830.134553650703\n",
            "5 6209.213230591548\n",
            "4 5644.739300537771\n",
            "3 5131.5811823070635\n",
            "2 4665.07380209733\n",
            "1 4240.976183724845\n"
          ]
        }
      ]
    },
    {
      "cell_type": "markdown",
      "source": [
        "### Sequence sum\n",
        "\n",
        "1/1! + 2/2! + 3/3! + ..."
      ],
      "metadata": {
        "id": "4xVI9HkgcEla"
      }
    },
    {
      "cell_type": "code",
      "source": [
        "# code here"
      ],
      "metadata": {
        "id": "wGC1eCDecPcB"
      },
      "execution_count": null,
      "outputs": []
    },
    {
      "cell_type": "code",
      "source": [
        "# For loop vs While loops (When to use what?)"
      ],
      "metadata": {
        "id": "PNLWd1WR8dSw"
      },
      "execution_count": null,
      "outputs": []
    },
    {
      "cell_type": "markdown",
      "source": [
        "# Nested Loops"
      ],
      "metadata": {
        "id": "1bdP8FTX87Du"
      }
    },
    {
      "cell_type": "code",
      "source": [
        "# Examples"
      ],
      "metadata": {
        "id": "-YY5edV98lXq"
      },
      "execution_count": null,
      "outputs": []
    },
    {
      "cell_type": "code",
      "source": [
        "# Program - Unique combination of 1,2,3,4\n",
        "# Program - Pattern 1 and 2"
      ],
      "metadata": {
        "id": "Ym8nRkqxGXLN"
      },
      "execution_count": null,
      "outputs": []
    },
    {
      "cell_type": "markdown",
      "source": [
        "### Pattern 1\n",
        "\n",
        "\n",
        "*** <br>\n",
        "**** <br>\n",
        "***<br>\n"
      ],
      "metadata": {
        "id": "_Hz8L0f3c_3P"
      }
    },
    {
      "cell_type": "code",
      "source": [],
      "metadata": {
        "id": "YsL_YmxRdNrn"
      },
      "execution_count": null,
      "outputs": []
    },
    {
      "cell_type": "markdown",
      "source": [
        "### Pattern 2\n",
        "\n",
        "1<br>\n",
        "121<br>\n",
        "12321<br>\n",
        "1234321<br>"
      ],
      "metadata": {
        "id": "eVAO3tVmdOWV"
      }
    },
    {
      "cell_type": "code",
      "source": [],
      "metadata": {
        "id": "sHW4YJqcdXzw"
      },
      "execution_count": null,
      "outputs": []
    },
    {
      "cell_type": "markdown",
      "source": [
        "# Loop Control Statement\n",
        "\n",
        "- Break\n",
        "- Continue\n",
        "- Pass"
      ],
      "metadata": {
        "id": "8GccSRIt891U"
      }
    },
    {
      "cell_type": "code",
      "source": [
        "# Break demo"
      ],
      "metadata": {
        "id": "kN9s2dG89DlJ"
      },
      "execution_count": null,
      "outputs": []
    },
    {
      "cell_type": "code",
      "source": [
        "# Break example (Linear Search) -> Prime number in a given range"
      ],
      "metadata": {
        "id": "u09EdMCm9FK_"
      },
      "execution_count": null,
      "outputs": []
    },
    {
      "cell_type": "code",
      "source": [
        "# Continue demo"
      ],
      "metadata": {
        "id": "3q5asa2l9GYy"
      },
      "execution_count": null,
      "outputs": []
    },
    {
      "cell_type": "code",
      "source": [
        "# Continue Example (Ecommerce)"
      ],
      "metadata": {
        "id": "cA8CiMgn9IIT"
      },
      "execution_count": null,
      "outputs": []
    },
    {
      "cell_type": "code",
      "source": [
        "# Pass demo"
      ],
      "metadata": {
        "id": "P7GB16j59J-3"
      },
      "execution_count": null,
      "outputs": []
    }
  ]
}