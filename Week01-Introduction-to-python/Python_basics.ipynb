{
  "nbformat": 4,
  "nbformat_minor": 0,
  "metadata": {
    "colab": {
      "provenance": [],
      "include_colab_link": true
    },
    "kernelspec": {
      "name": "python3",
      "display_name": "Python 3"
    },
    "language_info": {
      "name": "python"
    }
  },
  "cells": [
    {
      "cell_type": "markdown",
      "metadata": {
        "id": "view-in-github",
        "colab_type": "text"
      },
      "source": [
        "<a href=\"https://colab.research.google.com/github/Abdul-Hannan96/Python-For-DataScience/blob/main/Week01-Introduction-to-python/Python_basics.ipynb\" target=\"_parent\"><img src=\"https://colab.research.google.com/assets/colab-badge.svg\" alt=\"Open In Colab\"/></a>"
      ]
    },
    {
      "cell_type": "markdown",
      "source": [
        "# Task : Session 1\n",
        "Solve these questions own your own and try to test yourself what you have learned in the session.\n",
        "\n",
        "Happy Learning!"
      ],
      "metadata": {
        "id": "A05OG15VqOPF"
      }
    },
    {
      "cell_type": "markdown",
      "source": [
        "### Q1 :- Print the given strings as per stated format.\n",
        "\n",
        "**Given strings**:\n",
        "```\n",
        "\"Data\" \"Science\" \"Mentorship\" \"Program\"\n",
        "\"By\" \"CampusX\"\n",
        "```\n",
        "**Output**:\n",
        "```\n",
        "Data-Science-Mentorship-Program-started-By-CampusX\n",
        "```\n",
        "\n",
        "Concept- [Seperator and End]"
      ],
      "metadata": {
        "id": "2doIXf8bqe9_"
      }
    },
    {
      "cell_type": "code",
      "source": [
        "print(\"Data\",\"Science\",\"Mentorship\",\"Program\",end=\"-started-\",sep=\"-\")\n",
        "print(\"By\",\"CampusX\",sep='-')"
      ],
      "metadata": {
        "colab": {
          "base_uri": "https://localhost:8080/"
        },
        "id": "_GHjMt_q1SCd",
        "outputId": "00e2ba8c-464d-4da4-baab-74354bf724fe"
      },
      "execution_count": null,
      "outputs": [
        {
          "output_type": "stream",
          "name": "stdout",
          "text": [
            "Data-Science-Mentorship-Program-started-By-CampusX\n"
          ]
        }
      ]
    },
    {
      "cell_type": "markdown",
      "source": [
        "### Q2:- Write a program that will convert celsius value to fahrenheit."
      ],
      "metadata": {
        "id": "1KUpN7ZTrC3_"
      }
    },
    {
      "cell_type": "code",
      "source": [
        "celcius=float(input('Enter the temprature in Ceccius'))\n",
        "faren=celcius*(9/5)+32\n",
        "\n",
        "print(faren,'F')"
      ],
      "metadata": {
        "colab": {
          "base_uri": "https://localhost:8080/"
        },
        "id": "vMY8JJyx1wOs",
        "outputId": "9cfafd23-cba6-4a50-d945-8aa3c80fd563"
      },
      "execution_count": null,
      "outputs": [
        {
          "output_type": "stream",
          "name": "stdout",
          "text": [
            "Enter the temprature in Ceccius25\n",
            "77.0 F\n"
          ]
        }
      ]
    },
    {
      "cell_type": "markdown",
      "source": [
        "### Q3:- Take 2 numbers as input from the user.Write a program to swap the numbers without using any special python syntax."
      ],
      "metadata": {
        "id": "RLrOBBJurLB2"
      }
    },
    {
      "cell_type": "code",
      "source": [
        "a=10\n",
        "b=20\n",
        "\n",
        "temp=a\n",
        "a=b\n",
        "b=temp\n",
        "\n",
        "print(a)\n",
        "print(b)"
      ],
      "metadata": {
        "colab": {
          "base_uri": "https://localhost:8080/"
        },
        "id": "nQoaxY1w2Ifs",
        "outputId": "76971da7-ac09-4c78-c79a-94c99140b162"
      },
      "execution_count": null,
      "outputs": [
        {
          "output_type": "stream",
          "name": "stdout",
          "text": [
            "20\n",
            "10\n"
          ]
        }
      ]
    },
    {
      "cell_type": "markdown",
      "source": [
        "### Q4:- Write a program to find the euclidean distance between two coordinates.Take both the coordinates from the user as input."
      ],
      "metadata": {
        "id": "waLCP1bjr7ML"
      }
    },
    {
      "cell_type": "code",
      "source": [
        "p1x=int(input('Enter x coordinate of 1st point'))\n",
        "p1y=int(input('Enter y coordinate of 1st point'))\n",
        "p2x=int(input('Enter x coordinate of 2nd point'))\n",
        "p2y=int(input('Enter y coordinate of 2nd point'))\n",
        "\n",
        "\n",
        "# to calculate distance b/w 2 points here is formula\n",
        "distance = ((p2x - p1x)**2 + (p2y - p1y)**2)**0.5\n",
        "\n",
        "print(\"Distance is\",round(distance,2))\n",
        "\n"
      ],
      "metadata": {
        "colab": {
          "base_uri": "https://localhost:8080/"
        },
        "id": "RuC9nLf32Yr0",
        "outputId": "0e0bd292-33be-474d-f382-91e0e1cad927"
      },
      "execution_count": null,
      "outputs": [
        {
          "output_type": "stream",
          "name": "stdout",
          "text": [
            "Enter x coordinate of 1st point0\n",
            "Enter y coordinate of 1st point0\n",
            "Enter x coordinate of 2nd point2\n",
            "Enter y coordinate of 2nd point2\n",
            "Distance is 2.83\n"
          ]
        }
      ]
    },
    {
      "cell_type": "markdown",
      "source": [
        "### Q5:- Write a program to find the simple interest when the value of principle,rate of interest and time period is provided by the user.\n",
        "\n",
        "Hint - si = (p * t * r)/100\n"
      ],
      "metadata": {
        "id": "VLrhg-FRsHjR"
      }
    },
    {
      "cell_type": "code",
      "source": [
        "p=int(input('Enter principle amount'))\n",
        "t=int(input('Enter time period'))\n",
        "r=float(input('Enter interest rate'))\n",
        "\n",
        "interest=(p*t*r)/100\n",
        "\n",
        "print('Interest is',interest)"
      ],
      "metadata": {
        "colab": {
          "base_uri": "https://localhost:8080/"
        },
        "id": "mskG5hWF4AzU",
        "outputId": "7257fe45-b6c9-4ed6-b9b2-30ad606f9310"
      },
      "execution_count": null,
      "outputs": [
        {
          "output_type": "stream",
          "name": "stdout",
          "text": [
            "Enter principle amount5000\n",
            "Enter time period4\n",
            "Enter interest rate12\n",
            "Interest is 2400.0\n"
          ]
        }
      ]
    },
    {
      "cell_type": "markdown",
      "source": [
        "### Q6:- Write a program that will tell the number of dogs and chicken are there when the user will provide the value of total heads and legs.\n",
        "\n",
        "For example:\n",
        "Input:\n",
        "heads -> 4\n",
        "legs -> 12\n",
        "<br>\n",
        "Output:\n",
        "dogs -> 2\n",
        "chicken -> 2\n",
        "\n",
        "\n",
        "\n"
      ],
      "metadata": {
        "id": "LMy0BTUktYKa"
      }
    },
    {
      "cell_type": "code",
      "source": [
        "total_heads = int(input(\"Enter the total number of heads: \"))\n",
        "total_legs = int(input(\"Enter the total number of legs: \"))\n",
        "\n",
        "# Calculate the number of dogs' legs and the number of dogs\n",
        "num_dog_legs = total_legs - (total_heads * 2)\n",
        "num_dogs = num_dog_legs // 4\n",
        "\n",
        "# Calculate the number of chickens\n",
        "num_chickens = total_heads - num_dogs\n",
        "\n",
        "# Check if the inputs result in a valid solution\n",
        "if num_dogs < 0 or num_chickens < 0 or (num_dog_legs % 4 != 0):\n",
        "    print(\"Invalid input. No valid solution exists.\")\n",
        "else:\n",
        "    # Display the result\n",
        "    print(\"Number of dogs:\", num_dogs)\n",
        "    print(\"Number of chickens:\", num_chickens)\n"
      ],
      "metadata": {
        "id": "XSBvJoA4tXaG",
        "colab": {
          "base_uri": "https://localhost:8080/"
        },
        "outputId": "9f1acff0-8dc5-4a0d-ee8d-f0877e57a4e1"
      },
      "execution_count": null,
      "outputs": [
        {
          "output_type": "stream",
          "name": "stdout",
          "text": [
            "Enter the total number of heads: 12\n",
            "Enter the total number of legs: 40\n",
            "Number of dogs: 4\n",
            "Number of chickens: 8\n"
          ]
        }
      ]
    },
    {
      "cell_type": "markdown",
      "source": [
        "### Q7:- Write a program to find the sum of squares of first n natural numbers where n will be provided by the user.\n",
        "\n",
        "Hint - Thus, the sum of the squares of first n natural numbers =  n(n+1)(2n+1)/6"
      ],
      "metadata": {
        "id": "gJ7C5kZYt4BP"
      }
    },
    {
      "cell_type": "code",
      "source": [
        "n=int(input('Enter the number'))\n",
        "\n",
        "result=(n*(n+1)*(2*n+1))/6\n",
        "\n",
        "print(result)"
      ],
      "metadata": {
        "colab": {
          "base_uri": "https://localhost:8080/"
        },
        "id": "-q2Q_kZb7XdL",
        "outputId": "df833493-3de4-472a-908f-cde1cce3669c"
      },
      "execution_count": null,
      "outputs": [
        {
          "output_type": "stream",
          "name": "stdout",
          "text": [
            "Enter the number6\n",
            "91.0\n"
          ]
        }
      ]
    },
    {
      "cell_type": "markdown",
      "source": [
        "### Q8:- Given the first 2 terms of an Arithmetic Series.Find the Nth term of the series. Assume all inputs are provided by the user.\n",
        "\n",
        "Hint - an = a + (n – 1)d"
      ],
      "metadata": {
        "id": "FHrMM7g-yG1h"
      }
    },
    {
      "cell_type": "code",
      "source": [
        "first_term=int(input('Enter 1st term'))\n",
        "second_term=int(input('Enter 2nd term'))\n",
        "\n",
        "n = int(input('Enter the value of n'))\n",
        "# distance\n",
        "d = second_term-first_term\n",
        "an=first_term+(n-1)*d\n",
        "\n",
        "print(an)"
      ],
      "metadata": {
        "colab": {
          "base_uri": "https://localhost:8080/"
        },
        "id": "U_DQgAhW7p8K",
        "outputId": "6beef9fd-9ecf-4ad2-aff7-16543735f363"
      },
      "execution_count": null,
      "outputs": [
        {
          "output_type": "stream",
          "name": "stdout",
          "text": [
            "Enter 1st term5\n",
            "Enter 2nd term10\n",
            "Enter the value of n15\n",
            "75\n"
          ]
        }
      ]
    },
    {
      "cell_type": "markdown",
      "source": [
        "### Q9:- Given 2 fractions, find the sum of those 2 fractions.Take the numerator and denominator values of the fractions from the user."
      ],
      "metadata": {
        "id": "QgyRX_es1oum"
      }
    },
    {
      "cell_type": "code",
      "source": [
        "n1=int(input('Enter num1:'))\n",
        "d1=int(input('Enter den1:'))\n",
        "n2=int(input('Enter num2:'))\n",
        "d2=int(input('Enter den2:'))\n",
        "\n",
        "rn = n1*d2 + n2*d1\n",
        "rd = d1*d2\n",
        "\n",
        "print('{}/{}'.format(rn,rd))"
      ],
      "metadata": {
        "colab": {
          "base_uri": "https://localhost:8080/"
        },
        "id": "99wVcD-z8YmJ",
        "outputId": "9625f657-87d7-4210-ca43-b98a2b5accd8"
      },
      "execution_count": null,
      "outputs": [
        {
          "output_type": "stream",
          "name": "stdout",
          "text": [
            "Enter num1:13\n",
            "Enter den1:17\n",
            "Enter num2:22\n",
            "Enter den2:11\n",
            "517/187\n"
          ]
        }
      ]
    },
    {
      "cell_type": "markdown",
      "source": [
        "### Q10:- Given the height, width and breadth of a milk tank, you have to find out how many glasses of milk can be obtained? Assume all the inputs are provided by the user.\n",
        "\n",
        "\n",
        "\n",
        "Input:<br>\n",
        "Dimensions of the milk tank<br>\n",
        "H = 20cm, L = 20cm, B = 20cm\n",
        "<br><br>\n",
        "Dimensions of the glass<br>\n",
        "h = 3cm, r = 1cm"
      ],
      "metadata": {
        "id": "eaql38ln13u7"
      }
    },
    {
      "cell_type": "code",
      "source": [
        "import math\n",
        "\n",
        "h_t=float(input('Enter Height of tank'))\n",
        "l_t=float(input('Enter Length of tank'))\n",
        "b_t=float(input('Enter Breadth of tank'))\n",
        "\n",
        "h_g = float(input('height of glass'))\n",
        "r_g = float(input('radius of the glass'))\n",
        "\n",
        "vol_tank=h_t*l_t*b_t\n",
        "vol_glass=3.14*r_g*r_g*h_g\n",
        "\n",
        "\n",
        "print('No of glasses',math.floor(vol_tank/vol_glass))"
      ],
      "metadata": {
        "colab": {
          "base_uri": "https://localhost:8080/"
        },
        "id": "e4fIwjPd9lMx",
        "outputId": "9e5c9011-a4a1-4803-eed1-2fe2a4266549"
      },
      "execution_count": null,
      "outputs": [
        {
          "output_type": "stream",
          "name": "stdout",
          "text": [
            "Enter Height of tank10\n",
            "Enter Length of tank19\n",
            "Enter Breadth of tank10\n",
            "height of glass5\n",
            "radius of the glass2\n",
            "No of glasses 30\n"
          ]
        }
      ]
    },
    {
      "cell_type": "code",
      "source": [
        "\n",
        "import math\n",
        "\n",
        "h_t = float(input('height'))\n",
        "b_t = float(input('breadth'))\n",
        "l_t = float(input('length'))\n",
        "\n",
        "h_g = float(input('height of glass'))\n",
        "r_g = float(input('radius of the glass'))\n",
        "\n",
        "vol_tank = h_t*b_t*l_t\n",
        "vol_glass = 3.14*r_g*r_g*h_g\n",
        "\n",
        "print('no of glasses',math.floor(vol_tank/vol_glass))"
      ],
      "metadata": {
        "id": "FePZqno74eWv",
        "colab": {
          "base_uri": "https://localhost:8080/"
        },
        "outputId": "f849a0fe-915a-417f-b7ea-dbab1d62137a"
      },
      "execution_count": null,
      "outputs": [
        {
          "output_type": "stream",
          "name": "stdout",
          "text": [
            "height10\n",
            "breadth15\n",
            "length25\n",
            "height of glass35\n",
            "radius of the glass5\n",
            "no of glasses 1\n"
          ]
        }
      ]
    },
    {
      "cell_type": "code",
      "source": [],
      "metadata": {
        "id": "v8kv6C-id9B8"
      },
      "execution_count": null,
      "outputs": []
    }
  ]
}