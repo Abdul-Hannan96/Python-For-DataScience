{
  "nbformat": 4,
  "nbformat_minor": 0,
  "metadata": {
    "colab": {
      "provenance": [],
      "authorship_tag": "ABX9TyPlMolUEucwVF7MykCJ/qtJ",
      "include_colab_link": true
    },
    "kernelspec": {
      "name": "python3",
      "display_name": "Python 3"
    },
    "language_info": {
      "name": "python"
    }
  },
  "cells": [
    {
      "cell_type": "markdown",
      "metadata": {
        "id": "view-in-github",
        "colab_type": "text"
      },
      "source": [
        "<a href=\"https://colab.research.google.com/github/Abdul-Hannan96/Python-For-DataScience/blob/main/Week04-Advance%20Python/File_handling_recursion.ipynb\" target=\"_parent\"><img src=\"https://colab.research.google.com/assets/colab-badge.svg\" alt=\"Open In Colab\"/></a>"
      ]
    },
    {
      "cell_type": "markdown",
      "source": [
        "### `Q-1:` Write a function `get_final_line(filename)`, which takes filename as input and return final line of the file.\n",
        "\n",
        "Note: You can choose any file of your choice."
      ],
      "metadata": {
        "id": "ZdzGiCFatMBW"
      }
    },
    {
      "cell_type": "code",
      "source": [
        "L=['hello\\n','hi\\n','how are you?\\n','I am fine']\n",
        "f=open('multiplelines.txt','w')\n",
        "f.writelines(L)\n",
        "f.close()\n",
        "\n",
        "def get_final_line(filename):\n",
        "  final_line=''\n",
        "\n",
        "  for current_line in open('multiplelines.txt','r'):\n",
        "    final_line=current_line\n",
        "\n",
        "  return final_line\n"
      ],
      "metadata": {
        "id": "wf-wdKasgHsL"
      },
      "execution_count": null,
      "outputs": []
    },
    {
      "cell_type": "code",
      "source": [
        "get_final_line('multiplelines.txt')"
      ],
      "metadata": {
        "colab": {
          "base_uri": "https://localhost:8080/",
          "height": 36
        },
        "id": "qHNZh63ihnBx",
        "outputId": "6104f603-05e5-4b7f-9330-8f7abdc5d004"
      },
      "execution_count": null,
      "outputs": [
        {
          "output_type": "execute_result",
          "data": {
            "text/plain": [
              "'I am fine'"
            ],
            "application/vnd.google.colaboratory.intrinsic+json": {
              "type": "string"
            }
          },
          "metadata": {},
          "execution_count": 23
        }
      ]
    },
    {
      "cell_type": "markdown",
      "source": [
        "### `Q-2:` Read through a text file, line by line. Use a dict to keep track of how many times each vowel (a, e, i, o, and u) appears in the file. Print the resulting tabulation -- dictionary."
      ],
      "metadata": {
        "id": "oGaWE75ZkSt6"
      }
    },
    {
      "cell_type": "code",
      "source": [
        "def count_vowels(filename):\n",
        "  vowels=['a','e','i','o','u']\n",
        "\n",
        "  d={i:0 for i in vowels}\n",
        "\n",
        "  for current_line in open('multiplelines.txt','r'):\n",
        "    for ch in current_line:\n",
        "      if ch in vowels:\n",
        "        d[ch]+=1\n",
        "\n",
        "      # else:\n",
        "      #   d[ch]=1\n",
        "\n",
        "  return d\n",
        "\n",
        "count_vowels('multiplelines.txt')"
      ],
      "metadata": {
        "colab": {
          "base_uri": "https://localhost:8080/"
        },
        "id": "xvzMP1hIh-2w",
        "outputId": "9ac330cb-053b-4993-ed68-5da89fbce9c2"
      },
      "execution_count": null,
      "outputs": [
        {
          "output_type": "execute_result",
          "data": {
            "text/plain": [
              "{'a': 2, 'e': 3, 'i': 2, 'o': 3, 'u': 1}"
            ]
          },
          "metadata": {},
          "execution_count": 24
        }
      ]
    },
    {
      "cell_type": "markdown",
      "source": [
        "### `Q-3:` Create a text file (using an editor, not necessarily Python) containing two tab separated columns, with each column containing a number. Then use Python to read through the file you’ve created. For each line, multiply each first number by the second and include it in the file in third column. In last add a line Total, by summing the value of third column\n",
        "\n"
      ],
      "metadata": {
        "id": "W0mMEFZ8kaYz"
      }
    },
    {
      "cell_type": "markdown",
      "source": [
        "Input File example: That you need to create\n",
        "```\n",
        "1   2\n",
        "3   4\n",
        "5   6\n",
        "7   8\n",
        "9   10\n",
        "\n",
        "```\n",
        "\n",
        "Output File Example:\n",
        "```\n",
        "1   2   2\n",
        "3   4   12\n",
        "5   6   30\n",
        "7   8   56\n",
        "9   10  90\n",
        "Total   190\n",
        "```\n"
      ],
      "metadata": {
        "id": "cGwfySoFkdiL"
      }
    },
    {
      "cell_type": "code",
      "source": [
        "filename='Test.txt'\n",
        "\n",
        "with open(filename,'w')as f:\n",
        "  for i in range(1,11,2):\n",
        "    line=f.write('{}\\t{}\\n'.format(i,i+1)) # 1,2 then 3,4 and so on..\n",
        "\n",
        "with open(filename,'r') as f:\n",
        "  lines=f.read().splitlines()\n",
        "\n",
        "total=0\n",
        "\n",
        "with open(filename,'w') as f:\n",
        "  for l in lines:\n",
        "    a,b=l.split(sep='\\t')\n",
        "    res=int(a)*int(b)\n",
        "    total+=res\n",
        "    f.write(\"{}\\t{}\\t{}\\n\".format(a,b,res))\n",
        "\n",
        "  f.write(\"Total\\t\"+str(total))\n"
      ],
      "metadata": {
        "id": "iwQEcp85jcyS"
      },
      "execution_count": null,
      "outputs": []
    },
    {
      "cell_type": "markdown",
      "source": [
        "### `Q-4:` Create line wise reverse of a file\n",
        "Write a function which takes two arguments: the names of the input file (to be read from) and the output file (which will be created)."
      ],
      "metadata": {
        "id": "vxkovZxmbPjQ"
      }
    },
    {
      "cell_type": "markdown",
      "source": [
        "For example, if a file looks like\n",
        " ```\n",
        "abc def\n",
        "ghi jkl\n",
        "```\n",
        "then the output file will be\n",
        "```\n",
        "fed cba\n",
        "lkj ihg\n",
        "```\n",
        "**Notice**: The newline remains at the end of the string, while the rest of the characters are all reversed."
      ],
      "metadata": {
        "id": "PadFytdSkvKz"
      }
    },
    {
      "cell_type": "code",
      "source": [
        "input_file='multiplelines.txt'\n",
        "output_file='reverse.txt'\n",
        "\n",
        "def reverse(infile,outfile):\n",
        "  with open(input_file,'r') as infile,open(output_file,'w') as outfile:\n",
        "    for one_line in infile:\n",
        "      outfile.write(one_line.rstrip()[::-1]+'\\n')\n",
        "\n"
      ],
      "metadata": {
        "id": "19pwtaNDnOzE"
      },
      "execution_count": null,
      "outputs": []
    },
    {
      "cell_type": "code",
      "source": [
        "\n",
        "reverse('multiplelines.txt','reverse.txt')"
      ],
      "metadata": {
        "id": "qbXEeVHhn6jt"
      },
      "execution_count": null,
      "outputs": []
    },
    {
      "cell_type": "markdown",
      "source": [
        "### `Q-5:` Create a Serialized dict of frequency of words in the file. And from given list of words, using serialized dict show word count.\n",
        "\n",
        "* List of word will be given\n",
        "\n"
      ],
      "metadata": {
        "id": "te-uNAPGk4OF"
      }
    },
    {
      "cell_type": "markdown",
      "source": [
        "Given String\n",
        "\n",
        "```\n",
        "strings = \"\"\"Alice was beginning to get very tired of sitting by her sister\n",
        "            on the bank, and of having nothing to do:  once or twice she had\n",
        "            peeped into the book her sister was reading, but it had no\n",
        "            pictures or conversations in it, `and what is the use of a book,'\n",
        "            thought Alice `without pictures or conversation?'\n",
        "\n",
        "            So she was considering in her own mind (as well as she could,\n",
        "            for the hot day made her feel very sleepy and stupid), whether\n",
        "            the pleasure of making a daisy-chain would be worth the trouble\n",
        "            of getting up and picking the daisies, when suddenly a White\n",
        "            Rabbit with pink eyes ran close by her.\n",
        "\n",
        "            There was nothing so VERY remarkable in that; nor did Alice\n",
        "            think it so VERY much out of the way to hear the Rabbit say to\n",
        "            itself, `Oh dear!  Oh dear!  I shall be late!'  (when she thought\n",
        "            it over afterwards, it occurred to her that she ought to have\n",
        "            wondered at this, but at the time it all seemed quite natural);\n",
        "            but when the Rabbit actually TOOK A WATCH OUT OF ITS WAISTCOAT-\n",
        "            POCKET, and looked at it, and then hurried on, Alice started to\n",
        "            her feet, for it flashed across her mind that she had never\n",
        "            before seen a rabbit with either a waistcoat-pocket, or a watch to\n",
        "            take out of it, and burning with curiosity, she ran across the\n",
        "            field after it, and fortunately was just in time to see it pop\n",
        "            down a large rabbit-hole under the hedge.\"\"\"\n",
        "\n",
        "word_list = ['alice', 'wonder', 'natural']\n",
        "```"
      ],
      "metadata": {
        "id": "gN5FG87mk-Bz"
      }
    },
    {
      "cell_type": "code",
      "source": [
        "strings = \"\"\"Alice was beginning to get very tired of sitting by her sister\n",
        "            on the bank, and of having nothing to do:  once or twice she had\n",
        "            peeped into the book her sister was reading, but it had no\n",
        "            pictures or conversations in it, `and what is the use of a book,'\n",
        "            thought Alice `without pictures or conversation?'\n",
        "\n",
        "            So she was considering in her own mind (as well as she could,\n",
        "            for the hot day made her feel very sleepy and stupid), whether\n",
        "            the pleasure of making a daisy-chain would be worth the trouble\n",
        "            of getting up and picking the daisies, when suddenly a White\n",
        "            Rabbit with pink eyes ran close by her.\n",
        "\n",
        "            There was nothing so VERY remarkable in that; nor did Alice\n",
        "            think it so VERY much out of the way to hear the Rabbit say to\n",
        "            itself, `Oh dear!  Oh dear!  I shall be late!'  (when she thought\n",
        "            it over afterwards, it occurred to her that she ought to have\n",
        "            wondered at this, but at the time it all seemed quite natural);\n",
        "            but when the Rabbit actually TOOK A WATCH OUT OF ITS WAISTCOAT-\n",
        "            POCKET, and looked at it, and then hurried on, Alice started to\n",
        "            her feet, for it flashed across her mind that she had never\n",
        "            before seen a rabbit with either a waistcoat-pocket, or a watch to\n",
        "            take out of it, and burning with curiosity, she ran across the\n",
        "            field after it, and fortunately was just in time to see it pop\n",
        "            down a large rabbit-hole under the hedge.\"\"\"\n",
        "\n",
        "word_list = ['alice', 'wonder', 'rabbit']\n",
        "\n",
        "word_count_dict=dict()\n",
        "\n",
        "for word in strings.lower().split(\" \"):\n",
        "  try:\n",
        "    word_count_dict[word]+=1\n",
        "\n",
        "  except:\n",
        "    word_count_dict[word]=1\n",
        "\n",
        "\n",
        "import pickle as pkl\n",
        "pkl.dump(word_count_dict,open('word_frequency.pkl','wb'))\n",
        "word_count=pkl.load(open('word_frequency.pkl','rb'))\n",
        "\n",
        "for s in word_list:\n",
        "  try:\n",
        "    print(s,word_count[s])\n",
        "\n",
        "  except:\n",
        "    print(s,0)"
      ],
      "metadata": {
        "colab": {
          "base_uri": "https://localhost:8080/"
        },
        "id": "ewuveL3So_0D",
        "outputId": "18dbc7ec-f9c1-4c12-bced-7d0778bcb368"
      },
      "execution_count": null,
      "outputs": [
        {
          "output_type": "stream",
          "name": "stdout",
          "text": [
            "alice 3\n",
            "wonder 0\n",
            "rabbit 4\n"
          ]
        }
      ]
    },
    {
      "cell_type": "markdown",
      "source": [
        "### **`Q-6:`** Given a string calculate length of the string using recursion.\n",
        "\n",
        "**Example 1:**\n",
        "\n",
        "Input:\n",
        "```bash\n",
        "\"abcd\"\n",
        "```\n",
        "\n",
        "Output:\n",
        "\n",
        "```bash\n",
        "4\n",
        "```\n",
        "\n",
        "**Example 2:**\n",
        "\n",
        "Input:\n",
        "```bash\n",
        "DataScience\n",
        "```\n",
        "\n",
        "Output:\n",
        "\n",
        "```bash\n",
        "11\n",
        "```\n"
      ],
      "metadata": {
        "id": "xJYzFBbelEP6"
      }
    },
    {
      "cell_type": "code",
      "source": [
        "s=\"Data science\"\n",
        "\n",
        "def string_length(s):\n",
        "  if s==\"\":\n",
        "    return 0\n",
        "  else:\n",
        "    return string_length(s[1:])+1\n",
        "\n",
        "string_length(s)"
      ],
      "metadata": {
        "colab": {
          "base_uri": "https://localhost:8080/"
        },
        "id": "YwLiO9L2rB4n",
        "outputId": "dfb77136-4006-4dc0-f084-d204fce7cdc6"
      },
      "execution_count": null,
      "outputs": [
        {
          "output_type": "execute_result",
          "data": {
            "text/plain": [
              "12"
            ]
          },
          "metadata": {},
          "execution_count": 34
        }
      ]
    },
    {
      "cell_type": "markdown",
      "source": [
        "### **`Q-7:`** Write a function that accepts two numbers and returns their greatest common divisior. Without using any loop\n",
        "\n",
        "def gcd(int, int) => int\n",
        "\n",
        "```\n",
        "gcd(16,24) will give 8\n",
        "```"
      ],
      "metadata": {
        "id": "6NiqCS3DlHr2"
      }
    },
    {
      "cell_type": "code",
      "source": [
        "def gcd(a,b):\n",
        "  if a==b:\n",
        "    return a\n",
        "\n",
        "  elif a>b:\n",
        "    return gcd(a-b,b)\n",
        "\n",
        "  else:\n",
        "    return gcd(b-a,a)\n",
        "\n"
      ],
      "metadata": {
        "id": "5AbTLcI0rR9X"
      },
      "execution_count": null,
      "outputs": []
    },
    {
      "cell_type": "code",
      "source": [
        "gcd(16,24)"
      ],
      "metadata": {
        "colab": {
          "base_uri": "https://localhost:8080/"
        },
        "id": "BUUN_hxSrmeE",
        "outputId": "68f1f50c-2e52-4287-9742-8f2276db529f"
      },
      "execution_count": null,
      "outputs": [
        {
          "output_type": "execute_result",
          "data": {
            "text/plain": [
              "8"
            ]
          },
          "metadata": {},
          "execution_count": 37
        }
      ]
    },
    {
      "cell_type": "markdown",
      "source": [
        " ### `Q-8:` String Edit Distance\n",
        "\n",
        " Use your recursive function to write a program that reads two strings from the\n",
        "user and displays the edit distance between them.\n",
        "\n",
        "*The edit distance between two strings is a measure of their similarity—the smaller the edit distance, the more similar the strings are with regard to the minimum number of insert, delete and substitute operations needed to transform one string into the other.*\n",
        "\n",
        "Consider the strings `kitten` and `sitting`. The first string can be transformed\n",
        "into the second string with the following operations:\n",
        "* Substitute the `k` with an `s`,\n",
        "* substitute the `e` with an `i`,\n",
        "* and insert a `g` at the end of the string.\n",
        "\n",
        "This is the smallest number of operations that can be performed to transform kitten into sitting. As a result, the edit distance is `3`.\n",
        "\n",
        "\n",
        "Write a recursive function that computes the edit distance between two strings.\n",
        "\n",
        "Use the following algorithm:\n",
        "\n",
        "```\n",
        "Let s and t be the strings\n",
        "    If the length of s is 0 then\n",
        "        Return the length of t\n",
        "    Else if the length of t is 0 then\n",
        "        Return the length of s\n",
        "    Else\n",
        "        Set cost to 0\n",
        "        If the last character in s does not equal the last character in t then\n",
        "            Set cost to 1\n",
        "        Set d1 equal to the edit distance between all characters except the last one in s, and all characters in t, plus 1\n",
        "        Set d2 equal to the edit distance between all characters in s, and all characters except the last one in t, plus 1\n",
        "\n",
        "        Set d3 equal to the edit distance between all characters except the last one in s, and all characters except the last one in t, plus cost\n",
        "        Return the minimum of d1, d2 and d3\n",
        "```\n",
        "\n",
        "\n",
        "\n"
      ],
      "metadata": {
        "id": "5ISPCEkUl_Ke"
      }
    },
    {
      "cell_type": "code",
      "source": [
        "def editdistance(s,t):\n",
        "  if len(s)==0:\n",
        "    return len(t)\n",
        "\n",
        "  elif len(t)==0:\n",
        "    return len(s)\n",
        "\n",
        "  else:\n",
        "    cost=0\n",
        "    if s[-1]!=t[-1]:\n",
        "      cost=1\n",
        "\n",
        "    d1=editdistance(s[:-1],t)+1\n",
        "    d2=editdistance(s,t[:-1])+1\n",
        "    d3=editdistance(t[-1],s[:-1])\n",
        "\n",
        "    return min(d1,d2,d3)+cost\n",
        "\n",
        "\n"
      ],
      "metadata": {
        "id": "Z7L-XcPgr4wP"
      },
      "execution_count": null,
      "outputs": []
    },
    {
      "cell_type": "code",
      "source": [
        "\n",
        "editdistance('kitten' , 'sitting')"
      ],
      "metadata": {
        "colab": {
          "base_uri": "https://localhost:8080/"
        },
        "id": "l0SlBLjmssKv",
        "outputId": "99d6e012-8f6f-470e-9fa2-bf4c943be857"
      },
      "execution_count": null,
      "outputs": [
        {
          "output_type": "execute_result",
          "data": {
            "text/plain": [
              "3"
            ]
          },
          "metadata": {},
          "execution_count": 43
        }
      ]
    },
    {
      "cell_type": "markdown",
      "source": [
        "### `Q-9:` Run-Length Encoding\n",
        "\n",
        "Run-length encoding is a simple data compression technique that can be effective when repeated values occur at adjacent positions within a list. Compression is achieved by replacing groups of repeated values with one copy of the value, followed by the number of times that the value should be repeated. For example, the list\n",
        "```\n",
        "[\"A\", \"A\", \"A\", \"A\", \"A\", \"A\", \"A\", \"A\", \"A\", \"A\", \"A\", \"A\", \"B\", \"B\", \"B\", \"B\", \"A\", \"A\", \"A\", \"A\", \"A\", \"A\", \"B\"]\n",
        "```\n",
        "would be compressed as `[\"A\", 12, \"B\", 4, \"A\", 6, \"B\", 1]`.\n",
        "\n",
        "Write a recursive function that implements the run-length compression technique\n",
        "described above. Your function will take a list or a string as its only parameter. It should return the run-length compressed list as its only result. Include a main program that reads a string from the user, compresses it, and displays the run-length encoded result."
      ],
      "metadata": {
        "id": "4sECTD5cmJFK"
      }
    },
    {
      "cell_type": "code",
      "source": [
        "def run_length_encode(data):\n",
        "    if not data:\n",
        "        return []\n",
        "\n",
        "    compressed_list_list = []\n",
        "    current_char = data[0]\n",
        "    count = 1\n",
        "\n",
        "    for i in range(1, len(data)):\n",
        "        if data[i] == current_char:\n",
        "            count += 1\n",
        "        else:\n",
        "            compressed_list.append(current_char)\n",
        "            compressed_list.append(count)\n",
        "            current_char = data[i]\n",
        "            count = 1\n",
        "\n",
        "    compressed_list.append(current_char)\n",
        "    compressed_list.append(count)\n",
        "\n",
        "    return compressed_list\n",
        "\n",
        "# Example usage:\n",
        "input_list = [\"A\", \"A\", \"A\", \"A\", \"A\", \"A\", \"A\", \"A\", \"A\", \"A\", \"A\", \"A\", \"B\", \"B\", \"B\", \"B\", \"A\", \"A\", \"A\", \"A\", \"A\", \"A\", \"B\"]\n",
        "compressed_list = run_length_encode(input_list)\n",
        "print(compressed_list)  # Output: [\"A\", 12, \"B\", 4, \"A\", 6, \"B\", 1]\n"
      ],
      "metadata": {
        "colab": {
          "base_uri": "https://localhost:8080/"
        },
        "id": "vHmOjpVUusWi",
        "outputId": "30898cf4-b806-4378-f99a-835d4326e181"
      },
      "execution_count": null,
      "outputs": [
        {
          "output_type": "stream",
          "name": "stdout",
          "text": [
            "['A', 12, 'B', 4, 'A', 6, 'B', 1]\n"
          ]
        }
      ]
    },
    {
      "cell_type": "markdown",
      "source": [
        "### `Q-10:` Write a recursive function to convert a decimal to binary"
      ],
      "metadata": {
        "id": "8D2ePvuImTti"
      }
    },
    {
      "cell_type": "code",
      "source": [
        "def decimal_to_binary(decimal):\n",
        "  if decimal==0:   # Base case: decimal number is 0\n",
        "      return ''\n",
        "\n",
        "  q = decimal // 2 # quotient\n",
        "  r = decimal % 2 # remainder\n",
        "\n",
        "  return decimal_to_binary(q)+str(r)\n"
      ],
      "metadata": {
        "id": "M9156Tz2vZ3N"
      },
      "execution_count": null,
      "outputs": []
    },
    {
      "cell_type": "code",
      "source": [
        "# Main program\n",
        "decimal_number = int(input(\"Enter a decimal number: \"))\n",
        "binary_number = decimal_to_binary(decimal_number)\n",
        "print(\"Binary representation:\", binary_number)"
      ],
      "metadata": {
        "colab": {
          "base_uri": "https://localhost:8080/"
        },
        "id": "2fqsp_bRv-9U",
        "outputId": "b38f00be-ffef-4d7c-b913-3cd2aa0866bc"
      },
      "execution_count": null,
      "outputs": [
        {
          "output_type": "stream",
          "name": "stdout",
          "text": [
            "Enter a decimal number: 10\n",
            "Binary representation: 1010\n"
          ]
        }
      ]
    },
    {
      "cell_type": "code",
      "source": [],
      "metadata": {
        "id": "gNwKD_U4wRPd"
      },
      "execution_count": null,
      "outputs": []
    },
    {
      "cell_type": "code",
      "source": [],
      "metadata": {
        "id": "-GNTyYe1wRAN"
      },
      "execution_count": null,
      "outputs": []
    },
    {
      "cell_type": "code",
      "source": [
        "def hello(): # module1-->.py file is a module\n",
        "  print('hello')\n",
        "\n",
        "hello()\n",
        "\n",
        "print(__name__)"
      ],
      "metadata": {
        "id": "uXNRpaevlWOs",
        "colab": {
          "base_uri": "https://localhost:8080/"
        },
        "outputId": "72fdc421-28f5-4200-b1ed-b1396ac5fdac"
      },
      "execution_count": null,
      "outputs": [
        {
          "output_type": "stream",
          "name": "stdout",
          "text": [
            "hello\n",
            "__main__\n"
          ]
        }
      ]
    },
    {
      "cell_type": "code",
      "source": [
        "# to restrict:\n",
        "def square(num): # -->module1\n",
        "  print(num**2) # only code till here will go to other module\n",
        "\n",
        "if __name__=='__main__': # to avoid situation to excecute this module in other module\n",
        " for i in range(1,11): # function call\n",
        "  square(i)\n",
        "\n",
        "# not to restrict:\n",
        "def square(num): # -->module1\n",
        "  print(num**2) # only code till here will go to other module\n",
        "\n",
        "\n",
        "for i in range(1,11): # function call\n",
        "  square(i)\n",
        "\n",
        "# middle way:\n",
        "def square(num): # -->module1\n",
        "  print(num**2) # only code till here will go to other module\n",
        "\n",
        "def main():\n",
        "  main() # function call\n",
        "\n",
        "\n",
        "\n",
        "\n",
        "\n",
        "\n"
      ],
      "metadata": {
        "id": "B40EhNB2paDR"
      },
      "execution_count": null,
      "outputs": []
    },
    {
      "cell_type": "code",
      "source": [],
      "metadata": {
        "id": "hr4yJN69ouCb"
      },
      "execution_count": null,
      "outputs": []
    },
    {
      "cell_type": "code",
      "source": [],
      "metadata": {
        "id": "K54I0H3vpR01"
      },
      "execution_count": null,
      "outputs": []
    }
  ]
}