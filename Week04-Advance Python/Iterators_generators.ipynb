{
  "nbformat": 4,
  "nbformat_minor": 0,
  "metadata": {
    "colab": {
      "provenance": [],
      "authorship_tag": "ABX9TyOfs8ZYTu40AHs5sSZeEfRJ",
      "include_colab_link": true
    },
    "kernelspec": {
      "name": "python3",
      "display_name": "Python 3"
    },
    "language_info": {
      "name": "python"
    }
  },
  "cells": [
    {
      "cell_type": "markdown",
      "metadata": {
        "id": "view-in-github",
        "colab_type": "text"
      },
      "source": [
        "<a href=\"https://colab.research.google.com/github/Abdul-Hannan96/Python-For-DataScience/blob/main/Week04-Advance%20Python/Iterators_generators.ipynb\" target=\"_parent\"><img src=\"https://colab.research.google.com/assets/colab-badge.svg\" alt=\"Open In Colab\"/></a>"
      ]
    },
    {
      "cell_type": "markdown",
      "source": [
        "**What is an Iteration**\n",
        "Iteration is a general term for taking each item of something, one after another. Any time you use a loop, explicit or implicit, to go over a group of items, that is iteration."
      ],
      "metadata": {
        "id": "sZYTZVihu2Sb"
      }
    },
    {
      "cell_type": "code",
      "execution_count": null,
      "metadata": {
        "colab": {
          "base_uri": "https://localhost:8080/"
        },
        "id": "G67uV1Cxui0B",
        "outputId": "a91dec08-7b7a-45ef-dc15-e37d15406244"
      },
      "outputs": [
        {
          "output_type": "stream",
          "name": "stdout",
          "text": [
            "1\n",
            "2\n",
            "3\n"
          ]
        }
      ],
      "source": [
        "num=[1,2,3]\n",
        "\n",
        "for i in num:\n",
        "  print(i)"
      ]
    },
    {
      "cell_type": "markdown",
      "source": [
        "**What is Iterator**\n",
        "An Iterator is an object that allows the programmer to traverse through a sequence of data without having to store the entire data in the memory"
      ],
      "metadata": {
        "id": "cVunFp_twRoB"
      }
    },
    {
      "cell_type": "code",
      "source": [
        "# Example\n",
        "L = [x for x in range(1,10000)]\n",
        "\n",
        "#for i in L:\n",
        "    #print(i*2)\n",
        "\n",
        "import sys\n",
        "\n",
        "print(sys.getsizeof(L)/1024)\n",
        "\n",
        "# range is iterator\n",
        "x = range(1,10000000000000)\n",
        "\n",
        "#for i in x:\n",
        "    #print(i*2)\n",
        "\n",
        "print(sys.getsizeof(x)/1024)"
      ],
      "metadata": {
        "colab": {
          "base_uri": "https://localhost:8080/"
        },
        "id": "_Qhm2WuVwV07",
        "outputId": "b25c8690-06cc-4cca-f9bb-b55366b8d255"
      },
      "execution_count": null,
      "outputs": [
        {
          "output_type": "stream",
          "name": "stdout",
          "text": [
            "83.1796875\n",
            "0.046875\n"
          ]
        }
      ]
    },
    {
      "cell_type": "markdown",
      "source": [
        "**What is Iterable**\n",
        "\n",
        "1.   List item\n",
        "2.   List item\n",
        "\n",
        "\n",
        "Iterable is an object, which one can iterate over\n",
        "\n",
        "It generates an Iterator when passed to iter() method."
      ],
      "metadata": {
        "id": "t9mTaVdbwgog"
      }
    },
    {
      "cell_type": "code",
      "source": [
        "# Example\n",
        "\n",
        "L = [1,2,3]\n",
        "type(L)\n",
        "\n",
        "for i in L:\n",
        "  print(i)\n",
        "# L is an iterable\n",
        "type(iter(L)) # It generates an Iterator when passed to iter() method.\n",
        "\n",
        "# iter(L) --> iterator"
      ],
      "metadata": {
        "colab": {
          "base_uri": "https://localhost:8080/"
        },
        "id": "G4cFoFWqwgKg",
        "outputId": "d24b3e06-2803-424e-fd6f-27d6e4e088d3"
      },
      "execution_count": null,
      "outputs": [
        {
          "output_type": "stream",
          "name": "stdout",
          "text": [
            "1\n",
            "2\n",
            "3\n"
          ]
        },
        {
          "output_type": "execute_result",
          "data": {
            "text/plain": [
              "list_iterator"
            ]
          },
          "metadata": {},
          "execution_count": 3
        }
      ]
    },
    {
      "cell_type": "markdown",
      "source": [
        "**Point to remember**\n",
        "1.   Every Iterator is also and Iterable -> list,sets etc.\n",
        "2.   Not all Iterables are Iterators\n",
        "\n",
        "**Trick**\n",
        "\n",
        "\n",
        "1. Every Iterable has an iter function\n",
        "2. Every Iterator has both iter function as well as a next function\n",
        "\n"
      ],
      "metadata": {
        "id": "K-IIdOhRw2DK"
      }
    },
    {
      "cell_type": "code",
      "source": [
        "a = 2\n",
        "a\n",
        "\n",
        "#for i in a:\n",
        "    #print(i)\n",
        "\n",
        "dir(a) # not iterable"
      ],
      "metadata": {
        "colab": {
          "base_uri": "https://localhost:8080/"
        },
        "id": "ojUKAEuzxBX6",
        "outputId": "13107385-c5d4-4ef0-ea40-3dd5b54f9711"
      },
      "execution_count": null,
      "outputs": [
        {
          "output_type": "execute_result",
          "data": {
            "text/plain": [
              "['__abs__',\n",
              " '__add__',\n",
              " '__and__',\n",
              " '__bool__',\n",
              " '__ceil__',\n",
              " '__class__',\n",
              " '__delattr__',\n",
              " '__dir__',\n",
              " '__divmod__',\n",
              " '__doc__',\n",
              " '__eq__',\n",
              " '__float__',\n",
              " '__floor__',\n",
              " '__floordiv__',\n",
              " '__format__',\n",
              " '__ge__',\n",
              " '__getattribute__',\n",
              " '__getnewargs__',\n",
              " '__gt__',\n",
              " '__hash__',\n",
              " '__index__',\n",
              " '__init__',\n",
              " '__init_subclass__',\n",
              " '__int__',\n",
              " '__invert__',\n",
              " '__le__',\n",
              " '__lshift__',\n",
              " '__lt__',\n",
              " '__mod__',\n",
              " '__mul__',\n",
              " '__ne__',\n",
              " '__neg__',\n",
              " '__new__',\n",
              " '__or__',\n",
              " '__pos__',\n",
              " '__pow__',\n",
              " '__radd__',\n",
              " '__rand__',\n",
              " '__rdivmod__',\n",
              " '__reduce__',\n",
              " '__reduce_ex__',\n",
              " '__repr__',\n",
              " '__rfloordiv__',\n",
              " '__rlshift__',\n",
              " '__rmod__',\n",
              " '__rmul__',\n",
              " '__ror__',\n",
              " '__round__',\n",
              " '__rpow__',\n",
              " '__rrshift__',\n",
              " '__rshift__',\n",
              " '__rsub__',\n",
              " '__rtruediv__',\n",
              " '__rxor__',\n",
              " '__setattr__',\n",
              " '__sizeof__',\n",
              " '__str__',\n",
              " '__sub__',\n",
              " '__subclasshook__',\n",
              " '__truediv__',\n",
              " '__trunc__',\n",
              " '__xor__',\n",
              " 'as_integer_ratio',\n",
              " 'bit_count',\n",
              " 'bit_length',\n",
              " 'conjugate',\n",
              " 'denominator',\n",
              " 'from_bytes',\n",
              " 'imag',\n",
              " 'numerator',\n",
              " 'real',\n",
              " 'to_bytes']"
            ]
          },
          "metadata": {},
          "execution_count": 4
        }
      ]
    },
    {
      "cell_type": "code",
      "source": [
        "T = {1:2,3:4}\n",
        "dir(T)"
      ],
      "metadata": {
        "colab": {
          "base_uri": "https://localhost:8080/"
        },
        "id": "0GxCUnXSxHKy",
        "outputId": "0c563e41-66bc-4b91-c02f-676837c43f7f"
      },
      "execution_count": null,
      "outputs": [
        {
          "output_type": "execute_result",
          "data": {
            "text/plain": [
              "['__class__',\n",
              " '__class_getitem__',\n",
              " '__contains__',\n",
              " '__delattr__',\n",
              " '__delitem__',\n",
              " '__dir__',\n",
              " '__doc__',\n",
              " '__eq__',\n",
              " '__format__',\n",
              " '__ge__',\n",
              " '__getattribute__',\n",
              " '__getitem__',\n",
              " '__gt__',\n",
              " '__hash__',\n",
              " '__init__',\n",
              " '__init_subclass__',\n",
              " '__ior__',\n",
              " '__iter__',\n",
              " '__le__',\n",
              " '__len__',\n",
              " '__lt__',\n",
              " '__ne__',\n",
              " '__new__',\n",
              " '__or__',\n",
              " '__reduce__',\n",
              " '__reduce_ex__',\n",
              " '__repr__',\n",
              " '__reversed__',\n",
              " '__ror__',\n",
              " '__setattr__',\n",
              " '__setitem__',\n",
              " '__sizeof__',\n",
              " '__str__',\n",
              " '__subclasshook__',\n",
              " 'clear',\n",
              " 'copy',\n",
              " 'fromkeys',\n",
              " 'get',\n",
              " 'items',\n",
              " 'keys',\n",
              " 'pop',\n",
              " 'popitem',\n",
              " 'setdefault',\n",
              " 'update',\n",
              " 'values']"
            ]
          },
          "metadata": {},
          "execution_count": 5
        }
      ]
    },
    {
      "cell_type": "code",
      "source": [
        "L = [1,2,3]\n",
        "\n",
        "# L is not an iterator\n",
        "\n",
        "\n",
        "iter_L = iter(L)\n",
        "# iter_L is an iterator\n",
        "dir(iter_L)"
      ],
      "metadata": {
        "colab": {
          "base_uri": "https://localhost:8080/"
        },
        "id": "A-9G88pBxQnJ",
        "outputId": "3b187594-c866-4261-9714-c038e22c6508"
      },
      "execution_count": null,
      "outputs": [
        {
          "output_type": "execute_result",
          "data": {
            "text/plain": [
              "['__class__',\n",
              " '__delattr__',\n",
              " '__dir__',\n",
              " '__doc__',\n",
              " '__eq__',\n",
              " '__format__',\n",
              " '__ge__',\n",
              " '__getattribute__',\n",
              " '__gt__',\n",
              " '__hash__',\n",
              " '__init__',\n",
              " '__init_subclass__',\n",
              " '__iter__',\n",
              " '__le__',\n",
              " '__length_hint__',\n",
              " '__lt__',\n",
              " '__ne__',\n",
              " '__new__',\n",
              " '__next__',\n",
              " '__reduce__',\n",
              " '__reduce_ex__',\n",
              " '__repr__',\n",
              " '__setattr__',\n",
              " '__setstate__',\n",
              " '__sizeof__',\n",
              " '__str__',\n",
              " '__subclasshook__']"
            ]
          },
          "metadata": {},
          "execution_count": 6
        }
      ]
    },
    {
      "cell_type": "markdown",
      "source": [
        "**Understanding how for loop works**"
      ],
      "metadata": {
        "id": "YSqL86ItxoiK"
      }
    },
    {
      "cell_type": "code",
      "source": [
        "num = [1,2,3]\n",
        "\n",
        "for i in num:\n",
        "    print(i)"
      ],
      "metadata": {
        "colab": {
          "base_uri": "https://localhost:8080/"
        },
        "id": "EIddeLVwxtjE",
        "outputId": "990fa9fd-fb7b-4c85-b5ba-e3c8b3f616db"
      },
      "execution_count": null,
      "outputs": [
        {
          "output_type": "stream",
          "name": "stdout",
          "text": [
            "1\n",
            "2\n",
            "3\n"
          ]
        }
      ]
    },
    {
      "cell_type": "code",
      "source": [
        "num = [1,2,3]\n",
        "\n",
        "# fetch the iterator\n",
        "iter_num = iter(num)\n",
        "\n",
        "# step2 --> next\n",
        "next(iter_num)\n",
        "next(iter_num)\n",
        "next(iter_num)\n",
        "# error because list have 3 elements\n",
        "#next(iter_num)\n",
        "dir(iter_num)"
      ],
      "metadata": {
        "colab": {
          "base_uri": "https://localhost:8080/"
        },
        "id": "3UNGrJMrxyg5",
        "outputId": "2f0c9e33-b0fc-42d0-b5bc-4c59119f3eb6"
      },
      "execution_count": null,
      "outputs": [
        {
          "output_type": "execute_result",
          "data": {
            "text/plain": [
              "['__class__',\n",
              " '__delattr__',\n",
              " '__dir__',\n",
              " '__doc__',\n",
              " '__eq__',\n",
              " '__format__',\n",
              " '__ge__',\n",
              " '__getattribute__',\n",
              " '__gt__',\n",
              " '__hash__',\n",
              " '__init__',\n",
              " '__init_subclass__',\n",
              " '__iter__',\n",
              " '__le__',\n",
              " '__length_hint__',\n",
              " '__lt__',\n",
              " '__ne__',\n",
              " '__new__',\n",
              " '__next__',\n",
              " '__reduce__',\n",
              " '__reduce_ex__',\n",
              " '__repr__',\n",
              " '__setattr__',\n",
              " '__setstate__',\n",
              " '__sizeof__',\n",
              " '__str__',\n",
              " '__subclasshook__']"
            ]
          },
          "metadata": {},
          "execution_count": 10
        }
      ]
    },
    {
      "cell_type": "code",
      "source": [
        "# customized loop\n",
        "\n",
        "def my_for_loop(iterable):\n",
        "\n",
        "  iterator=iter(iterable)\n",
        "\n",
        "  while True:\n",
        "    try:\n",
        "\n",
        "      print(next(iterator))\n",
        "\n",
        "\n",
        "    except StopIteration:\n",
        "      break"
      ],
      "metadata": {
        "id": "5HRAq8-jx9GZ"
      },
      "execution_count": null,
      "outputs": []
    },
    {
      "cell_type": "code",
      "source": [
        "a = [1,2,3]\n",
        "b = range(1,11)\n",
        "c = (1,2,3)\n",
        "d = {1,2,3}\n",
        "e = {0:1,1:1}\n",
        "my_for_loop(e)"
      ],
      "metadata": {
        "colab": {
          "base_uri": "https://localhost:8080/"
        },
        "id": "SZPPCdXHytOv",
        "outputId": "6f287d86-eab7-4383-eddc-0d6c40d188b1"
      },
      "execution_count": null,
      "outputs": [
        {
          "output_type": "stream",
          "name": "stdout",
          "text": [
            "0\n",
            "1\n"
          ]
        }
      ]
    },
    {
      "cell_type": "markdown",
      "source": [
        "**A confusing point**"
      ],
      "metadata": {
        "id": "DkG6Uaq51Y57"
      }
    },
    {
      "cell_type": "code",
      "source": [
        "num = [1,2,3]\n",
        "iter_obj = iter(num)\n",
        "\n",
        "print(id(iter_obj),'Address of iterator 1')\n",
        "\n",
        "iter_obj2 = iter(iter_obj)\n",
        "print(id(iter_obj2),'Address of iterator 2') # address will be same as iterator of iterator is iteself"
      ],
      "metadata": {
        "colab": {
          "base_uri": "https://localhost:8080/"
        },
        "id": "mPoO29uq1bD5",
        "outputId": "4e6090c0-6a6e-4942-8fef-cbd86b9b7786"
      },
      "execution_count": null,
      "outputs": [
        {
          "output_type": "stream",
          "name": "stdout",
          "text": [
            "136915349252768 Address of iterator 1\n",
            "136915349252768 Address of iterator 2\n"
          ]
        }
      ]
    },
    {
      "cell_type": "code",
      "source": [
        "class my_range:\n",
        "\n",
        "    def __init__(self,start,end):\n",
        "        self.start = start\n",
        "        self.end = end\n",
        "\n",
        "    # iter next is also iter\n",
        "    def __iter__(self):\n",
        "        return my_range_iterator(self)\n",
        "\n",
        "class my_range_iterator:\n",
        "\n",
        "    def __init__(self,iterable_obj):\n",
        "        self.iterable = iterable_obj\n",
        "\n",
        "    def __iter__(self):\n",
        "        return self\n",
        "\n",
        "    def __next__(self):\n",
        "\n",
        "        if self.iterable.start >= self.iterable.end:\n",
        "            raise StopIteration\n",
        "\n",
        "        current = self.iterable.start\n",
        "        self.iterable.start+=1\n",
        "        return current"
      ],
      "metadata": {
        "id": "wY-rtlQ41dtn"
      },
      "execution_count": null,
      "outputs": []
    },
    {
      "cell_type": "code",
      "source": [
        "for i in my_range(1,11):\n",
        "  print(i)"
      ],
      "metadata": {
        "colab": {
          "base_uri": "https://localhost:8080/"
        },
        "id": "e6jtOtvY2g_n",
        "outputId": "2816cb77-3176-49c6-9c30-9444a885a24f"
      },
      "execution_count": null,
      "outputs": [
        {
          "output_type": "stream",
          "name": "stdout",
          "text": [
            "1\n",
            "2\n",
            "3\n",
            "4\n",
            "5\n",
            "6\n",
            "7\n",
            "8\n",
            "9\n",
            "10\n"
          ]
        }
      ]
    },
    {
      "cell_type": "code",
      "source": [
        "x=my_range(1,11)\n",
        "x"
      ],
      "metadata": {
        "colab": {
          "base_uri": "https://localhost:8080/"
        },
        "id": "CNUPrKp02aN4",
        "outputId": "5498adcb-2866-4988-b797-02e0e6a8f565"
      },
      "execution_count": null,
      "outputs": [
        {
          "output_type": "execute_result",
          "data": {
            "text/plain": [
              "<__main__.my_range at 0x7c8616c18430>"
            ]
          },
          "metadata": {},
          "execution_count": 19
        }
      ]
    },
    {
      "cell_type": "code",
      "source": [
        "type(x)"
      ],
      "metadata": {
        "colab": {
          "base_uri": "https://localhost:8080/"
        },
        "id": "Yshtp_JV2uu6",
        "outputId": "f0954788-b769-4acd-c8f8-e840a3989866"
      },
      "execution_count": null,
      "outputs": [
        {
          "output_type": "execute_result",
          "data": {
            "text/plain": [
              "__main__.my_range"
            ]
          },
          "metadata": {},
          "execution_count": 24
        }
      ]
    },
    {
      "cell_type": "code",
      "source": [
        "iter(x)"
      ],
      "metadata": {
        "colab": {
          "base_uri": "https://localhost:8080/"
        },
        "id": "rVP6YbVV2vSQ",
        "outputId": "e86831ee-7b52-411f-88f7-5985931a203b"
      },
      "execution_count": null,
      "outputs": [
        {
          "output_type": "execute_result",
          "data": {
            "text/plain": [
              "<__main__.my_range_iterator at 0x7c8616c18100>"
            ]
          },
          "metadata": {},
          "execution_count": 23
        }
      ]
    },
    {
      "cell_type": "markdown",
      "source": [
        "**What is a Generator**\n",
        "Python generators are a simple way of creating iterators."
      ],
      "metadata": {
        "id": "uT7JylUm3fjP"
      }
    },
    {
      "cell_type": "code",
      "source": [
        "# memory effecient\n",
        "L = [x for x in range(100000)]\n",
        "\n",
        "#for i in L:\n",
        "    #print(i**2)\n",
        "\n",
        "import sys\n",
        "print(sys.getsizeof(L))\n",
        "\n",
        "x = range(10000000)\n",
        "\n",
        "#for i in x:\n",
        "    #print(i**2)\n",
        "sys.getsizeof(x)"
      ],
      "metadata": {
        "colab": {
          "base_uri": "https://localhost:8080/"
        },
        "id": "sJKAY6Rz3fPe",
        "outputId": "e3ca5625-2362-4a24-daaa-8300cbf0d1b5"
      },
      "execution_count": null,
      "outputs": [
        {
          "output_type": "stream",
          "name": "stdout",
          "text": [
            "800984\n"
          ]
        },
        {
          "output_type": "execute_result",
          "data": {
            "text/plain": [
              "48"
            ]
          },
          "metadata": {},
          "execution_count": 25
        }
      ]
    },
    {
      "cell_type": "code",
      "source": [
        "# A Simple Example\n",
        "def gen_demo():\n",
        "\n",
        "    yield \"first statement\"\n",
        "    yield \"second statement\"\n",
        "    yield \"third statement\""
      ],
      "metadata": {
        "id": "v26lB1763oV3"
      },
      "execution_count": null,
      "outputs": []
    },
    {
      "cell_type": "code",
      "source": [
        "gen=gen_demo()\n",
        "print(next(gen))\n",
        "# it will check the trace of execution and execute itself from where it stops\n",
        "for i in gen:\n",
        "  print(i)"
      ],
      "metadata": {
        "colab": {
          "base_uri": "https://localhost:8080/"
        },
        "id": "IXhLhnBG3rZt",
        "outputId": "9464483e-17e6-4b06-c527-d5789b5d2e96"
      },
      "execution_count": null,
      "outputs": [
        {
          "output_type": "stream",
          "name": "stdout",
          "text": [
            "first statement\n",
            "second statement\n",
            "third statement\n"
          ]
        }
      ]
    },
    {
      "cell_type": "code",
      "source": [
        "def square(num):\n",
        "    for i in range(1,num+1):\n",
        "        yield i**2"
      ],
      "metadata": {
        "id": "n2ZwLVbF4H9O"
      },
      "execution_count": null,
      "outputs": []
    },
    {
      "cell_type": "code",
      "source": [
        "s=square(10)\n",
        "next(s)\n",
        "next(s)\n",
        "# from 3 square and onwards\n",
        "for i in s:\n",
        "  print(i)"
      ],
      "metadata": {
        "colab": {
          "base_uri": "https://localhost:8080/"
        },
        "id": "OW5xnuhR4MD_",
        "outputId": "3216b968-13f4-4d8c-edde-a38d8e9d5463"
      },
      "execution_count": null,
      "outputs": [
        {
          "output_type": "stream",
          "name": "stdout",
          "text": [
            "9\n",
            "16\n",
            "25\n",
            "36\n",
            "49\n",
            "64\n",
            "81\n",
            "100\n"
          ]
        }
      ]
    },
    {
      "cell_type": "code",
      "source": [
        "# easiest way to form range function\n",
        "# Range Function using Generator\n",
        "def my_range(start,end):\n",
        "\n",
        "    for i in range(start,end):\n",
        "        yield i"
      ],
      "metadata": {
        "id": "20uEhs9P4XDA"
      },
      "execution_count": null,
      "outputs": []
    },
    {
      "cell_type": "code",
      "source": [
        "for i in my_range(15,26):\n",
        "    print(i)"
      ],
      "metadata": {
        "colab": {
          "base_uri": "https://localhost:8080/"
        },
        "id": "2tsZrHRs4c1W",
        "outputId": "809e8a84-c4b4-49fc-c196-5f68a3ffc6f9"
      },
      "execution_count": null,
      "outputs": [
        {
          "output_type": "stream",
          "name": "stdout",
          "text": [
            "15\n",
            "16\n",
            "17\n",
            "18\n",
            "19\n",
            "20\n",
            "21\n",
            "22\n",
            "23\n",
            "24\n",
            "25\n"
          ]
        }
      ]
    },
    {
      "cell_type": "code",
      "source": [
        "# list comprehension (ineffecient way) because loads all data in memory once\n",
        "L = [i**2 for i in range(1,10)]\n",
        "L"
      ],
      "metadata": {
        "colab": {
          "base_uri": "https://localhost:8080/"
        },
        "id": "UbSBXAG_4gEO",
        "outputId": "bf89679b-1121-4f9d-dfd4-54ce7d23b4af"
      },
      "execution_count": null,
      "outputs": [
        {
          "output_type": "execute_result",
          "data": {
            "text/plain": [
              "[1, 4, 9, 16, 25, 36, 49, 64, 81]"
            ]
          },
          "metadata": {},
          "execution_count": 36
        }
      ]
    },
    {
      "cell_type": "code",
      "source": [
        "# occupy less memory through generators\n",
        "gen = (i**2 for i in range(1,10))\n",
        "\n",
        "for i in gen:\n",
        "    print(i)"
      ],
      "metadata": {
        "colab": {
          "base_uri": "https://localhost:8080/"
        },
        "id": "Td3w3f0W4lEG",
        "outputId": "d39787fe-db53-4572-fa20-9888df634644"
      },
      "execution_count": null,
      "outputs": [
        {
          "output_type": "stream",
          "name": "stdout",
          "text": [
            "1\n",
            "4\n",
            "9\n",
            "16\n",
            "25\n",
            "36\n",
            "49\n",
            "64\n",
            "81\n"
          ]
        }
      ]
    },
    {
      "cell_type": "code",
      "source": [
        "#Practical Example\n",
        "\n",
        "# converting larger chunk of memory to smaller chunks\n",
        "# -> memory load management\n",
        "# -> feeding 20 gb or more data in chunk to 8 gb ram\n",
        "# import os\n",
        "# import cv2\n",
        "\n",
        "# def image_data_reader(folder_path):\n",
        "\n",
        "#     for file in os.listdir(folder_path):\n",
        "#         f_array = cv2.imread(os.path.join(folder_path,file))\n",
        "#         yield f_array"
      ],
      "metadata": {
        "id": "NXcQx4Au4xw-"
      },
      "execution_count": null,
      "outputs": []
    },
    {
      "cell_type": "code",
      "source": [
        "# convert into numpy arrays\n",
        "# gen = image_data_reader('C:/Users/91842/emotion-detector/train/Sad')\n",
        "\n",
        "# next(gen)\n",
        "# next(gen)\n",
        "\n",
        "# next(gen)\n",
        "# next(gen)"
      ],
      "metadata": {
        "id": "ofz-vpl340Gt"
      },
      "execution_count": null,
      "outputs": []
    },
    {
      "cell_type": "code",
      "source": [
        "# memory efecient\n",
        "L = [x for x in range(100000)]\n",
        "gen = (x for x in range(100000))\n",
        "\n",
        "import sys\n",
        "\n",
        "print('Size of L in memory',sys.getsizeof(L))\n",
        "print('Size of gen in memory',sys.getsizeof(gen))"
      ],
      "metadata": {
        "colab": {
          "base_uri": "https://localhost:8080/"
        },
        "id": "h4IM2nn-43nG",
        "outputId": "826260e5-3125-4823-b43a-1e03d219f0fc"
      },
      "execution_count": null,
      "outputs": [
        {
          "output_type": "stream",
          "name": "stdout",
          "text": [
            "Size of L in memory 800984\n",
            "Size of gen in memory 104\n"
          ]
        }
      ]
    },
    {
      "cell_type": "code",
      "source": [
        "# difficult vs easy (above example code can also be used here)\n",
        "class Range:\n",
        "    def __init__(self, start, stop=None, step=1):\n",
        "        if stop is None:\n",
        "            self.start = 0 # when nothing in loop\n",
        "            self.stop = start\n",
        "        else:\n",
        "            self.start = start # start=any value\n",
        "            self.stop = stop # end is any value\n",
        "        self.step = step # 1 step default\n",
        "\n",
        "    def __iter__(self):\n",
        "        current = self.start\n",
        "        while current < self.stop:\n",
        "            yield current  #The yield statement is used to return the current value during each iteration.\n",
        "            current += self.step # increment value of current\n",
        "\n",
        "\n",
        "    def __len__(self):\n",
        "        return max(0, (self.stop - self.start + self.step - 1) // self.step)\n"
      ],
      "metadata": {
        "id": "71hGwQHW48o9"
      },
      "execution_count": null,
      "outputs": []
    },
    {
      "cell_type": "code",
      "source": [
        "my_range = Range(1, 10, 2)\n",
        "\n",
        "for i in my_range:\n",
        "    print(i)\n",
        "\n",
        "print('length',len(my_range))"
      ],
      "metadata": {
        "colab": {
          "base_uri": "https://localhost:8080/"
        },
        "id": "hxnRzrvq5AMR",
        "outputId": "9d0a2ab0-ff4b-47b5-e4c9-4c16bdc5fb28"
      },
      "execution_count": null,
      "outputs": [
        {
          "output_type": "stream",
          "name": "stdout",
          "text": [
            "1\n",
            "3\n",
            "5\n",
            "7\n",
            "9\n",
            "length 5\n"
          ]
        }
      ]
    },
    {
      "cell_type": "code",
      "source": [
        "# Easiest way\n",
        "def mera_range(start,end):\n",
        "\n",
        "    for i in range(start,end):\n",
        "        yield i"
      ],
      "metadata": {
        "id": "ZsKvRggk5Pue"
      },
      "execution_count": null,
      "outputs": []
    },
    {
      "cell_type": "code",
      "source": [
        "# Representing Infinite Streams\n",
        "\n",
        "def all_even():\n",
        "    n = 0\n",
        "    while True:\n",
        "        yield n\n",
        "        n += 2"
      ],
      "metadata": {
        "id": "WguZs_ZN5R-V"
      },
      "execution_count": null,
      "outputs": []
    },
    {
      "cell_type": "code",
      "source": [
        "even_num_gen = all_even()\n",
        "next(even_num_gen)\n",
        "next(even_num_gen)"
      ],
      "metadata": {
        "colab": {
          "base_uri": "https://localhost:8080/"
        },
        "id": "0GINUetz5UrZ",
        "outputId": "5e017f17-b4d1-4581-8d78-cbb122f23cdb"
      },
      "execution_count": null,
      "outputs": [
        {
          "output_type": "execute_result",
          "data": {
            "text/plain": [
              "2"
            ]
          },
          "metadata": {},
          "execution_count": 45
        }
      ]
    },
    {
      "cell_type": "code",
      "source": [
        "#  Chaining Generators (two functions)\n",
        "def fibonacci_numbers(nums):\n",
        "    x, y = 0, 1\n",
        "    for _ in range(nums):\n",
        "        x, y = y, x+y\n",
        "        yield x\n",
        "\n",
        "def square(nums):\n",
        "    for num in nums:\n",
        "        yield num**2\n",
        "\n",
        "print(sum(square(fibonacci_numbers(10)))) # fib each num square and then sums up"
      ],
      "metadata": {
        "colab": {
          "base_uri": "https://localhost:8080/"
        },
        "id": "UJdd2nbG5XIO",
        "outputId": "89ad5590-6577-44bb-c86e-a35c13201039"
      },
      "execution_count": null,
      "outputs": [
        {
          "output_type": "stream",
          "name": "stdout",
          "text": [
            "4895\n"
          ]
        }
      ]
    }
  ]
}