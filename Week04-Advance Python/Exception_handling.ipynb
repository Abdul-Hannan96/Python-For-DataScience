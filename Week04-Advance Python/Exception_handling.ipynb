{
  "nbformat": 4,
  "nbformat_minor": 0,
  "metadata": {
    "colab": {
      "provenance": [],
      "authorship_tag": "ABX9TyPNu40q8AxH4ZNURtVA+HFd",
      "include_colab_link": true
    },
    "kernelspec": {
      "name": "python3",
      "display_name": "Python 3"
    },
    "language_info": {
      "name": "python"
    }
  },
  "cells": [
    {
      "cell_type": "markdown",
      "metadata": {
        "id": "view-in-github",
        "colab_type": "text"
      },
      "source": [
        "<a href=\"https://colab.research.google.com/github/Abdul-Hannan96/Python-For-DataScience/blob/main/Week04-Advance%20Python/Exception_handling.ipynb\" target=\"_parent\"><img src=\"https://colab.research.google.com/assets/colab-badge.svg\" alt=\"Open In Colab\"/></a>"
      ]
    },
    {
      "cell_type": "markdown",
      "source": [
        "## Exception Handling\n"
      ],
      "metadata": {
        "id": "xC9peZIyjnKy"
      }
    },
    {
      "cell_type": "markdown",
      "source": [
        "### `Q-1`: You are given a function definition. There might be several issues on execution of this function. You are asked to do exception handling for diffrent errors that this function goes in to `without altering this function`. And print error text.\n",
        "\n"
      ],
      "metadata": {
        "id": "lJ6mYxBNjqfM"
      }
    },
    {
      "cell_type": "markdown",
      "source": [
        "Function parameters `l -> list, s -> could be anything`\n",
        "\n",
        "```\n",
        "def function(l: list, s, **args):\n",
        "    last_element = l[-1]\n",
        "\n",
        "    l[int(s)]=10\n",
        "    any_element = l[int(s)+10]\n",
        "    l[s]=10\n",
        "\n",
        "    res = sum(l)\n",
        "\n",
        "    p = args['p']\n",
        "    # print(p)\n",
        "    return res/last_element * p + any_element\n",
        "\n",
        "```\n",
        "Check for different function calls:-\n",
        "\n",
        "```\n",
        "function([1,2,1], 12)\n",
        "function([1,2,1]*9, '1-2')\n",
        "function([1,'2',1]*9, 12)\n",
        "function([1,'2',1]*9, 12)\n",
        "function([1,2,0]*9, 12  )\n",
        "function([1,2,1]*9, 12, p=None)\n",
        "function([1,2,0]*9, 12, p=10)\n",
        "```"
      ],
      "metadata": {
        "id": "ghJLa1HF_feG"
      }
    },
    {
      "cell_type": "code",
      "source": [
        "def function(l: list,s,**args):\n",
        "  last_element=l[-1]\n",
        "  l[int(s)]=10\n",
        "  any_element=l[int(s)+10]\n",
        "  l[s]=10\n",
        "\n",
        "  res=sum(l)\n",
        "  p=args['p']\n",
        "  return res/last_element*p+any_element\n",
        "\n",
        "try:\n",
        "  res=function([1,2,1]*9,12,p=10)\n",
        "except IndexError as i:\n",
        "  print(type(i))\n",
        "  print(i)\n",
        "except ValueError as v:\n",
        "  print(type(v))\n",
        "  print(v)\n",
        "except KeyError as k:\n",
        "  print(type(k))\n",
        "  print(k)\n",
        "except ZeroDivisionError as z:\n",
        "  print(type(z))\n",
        "  print(z)\n",
        "else:\n",
        "  print('Result',res)\n",
        "finally:\n",
        "  print('Thank You!')"
      ],
      "metadata": {
        "colab": {
          "base_uri": "https://localhost:8080/"
        },
        "id": "kMYUqu1kO4Am",
        "outputId": "5b9a2db6-29da-40b8-8d33-cf793e6c6be5"
      },
      "execution_count": null,
      "outputs": [
        {
          "output_type": "stream",
          "name": "stdout",
          "text": [
            "Result 452.0\n",
            "Thank You!\n"
          ]
        }
      ]
    },
    {
      "cell_type": "markdown",
      "source": [
        "### `Q-2:` You are given a code snippet. There might be several issues on execution of this code. You are asked to do exception handling for diffrent errors, condition is what ever happens we need to execute last line printing correct result of `sum of elements`.\n",
        "\n",
        "List have elemnts as any no of  `key-pair dict with key as list index and value as any integer`, `integers` and `numeric-strings`. There is always only one element in the dict.\n",
        "\n",
        "\n",
        "```\n",
        "l = [{0:2},2,3,4,'5', {5:10}]\n",
        "# For calculating sum of above list\n",
        "s=0\n",
        "for i in range(len(l)):\n",
        "    #You can Edit code from here\n",
        "    s += l[i].get(i)\n",
        "    s += l[i]\n",
        "    s += int(l[i])\n",
        "\n",
        "\n",
        "print(s)\n",
        "```"
      ],
      "metadata": {
        "id": "mD2AMjVMIVgS"
      }
    },
    {
      "cell_type": "code",
      "source": [
        "l = [{0:2},2,3,4,'5', {5:10}]\n",
        "# For calculating sum of above list\n",
        "s=0\n",
        "for i in range(len(l)):\n",
        "  try:\n",
        "    s += l[i] # unsupported operand type(s) for +=: 'int' and 'dict'\n",
        "  except:\n",
        "    try:\n",
        "      s += l[i].get(i) # 'str' object has no attribute 'get'\n",
        "    except:\n",
        "      s += int(l[i])\n",
        "\n",
        "print(s)\n",
        "\n"
      ],
      "metadata": {
        "colab": {
          "base_uri": "https://localhost:8080/"
        },
        "id": "IY1HPNRsIXvI",
        "outputId": "1d89724a-32f8-4fe3-b2cd-029df9caa773"
      },
      "execution_count": null,
      "outputs": [
        {
          "output_type": "stream",
          "name": "stdout",
          "text": [
            "26\n"
          ]
        }
      ]
    },
    {
      "cell_type": "markdown",
      "source": [
        "### `Q-3:`: File Handling with Exception handling\n",
        "\n",
        "Write a program that opens a text file and write data to it as \"Hello, Good Morning!!!\". Handle exceptions that can be generated during the I/O operations. Do not show the success message on the main exception handling block (write inside the else block)."
      ],
      "metadata": {
        "id": "EWZzOx62LJpd"
      }
    },
    {
      "cell_type": "code",
      "source": [
        "try:\n",
        "  with open('text_file.txt','w') as f:\n",
        "    f.write('Hello,Good Morning!!!')\n",
        "except:\n",
        "  print('Error working with file')\n",
        "else:\n",
        "  print('File Written Successfully')"
      ],
      "metadata": {
        "colab": {
          "base_uri": "https://localhost:8080/"
        },
        "id": "zCqGfef-THEo",
        "outputId": "c66abfa2-5851-4580-cf3f-f905ee1a80e7"
      },
      "execution_count": null,
      "outputs": [
        {
          "output_type": "stream",
          "name": "stdout",
          "text": [
            "File Writeen Successfully\n"
          ]
        }
      ]
    },
    {
      "cell_type": "markdown",
      "source": [
        "### `Q-4`: Number game program.\n",
        "\n",
        "Write a number game program. Ask the user to enter a number. If the number is greater than number to be guessed, raise a **ValueTooLarge** exception. If the value is smaller the number to be guessed the, raise a **ValueTooSmall** exception and prompt the user to enter again. Quit the program only when the user enters the correct number. Also raise **GuessError** if user guess a number less than 1."
      ],
      "metadata": {
        "id": "1uzzIAfyLpw1"
      }
    },
    {
      "cell_type": "code",
      "source": [
        "import random\n",
        "\n",
        "class ValueTooLarge(Exception):\n",
        "  def __init__(self):\n",
        "    print('Input value is too large')\n",
        "\n",
        "\n",
        "class ValueTooSmall(Exception):\n",
        "  def __init__(self):\n",
        "    print('Input value is too Small')\n",
        "\n",
        "class GuessError(Exception):\n",
        "    def __init__(self):\n",
        "      print('Enter number between 1-100')\n",
        "\n",
        "\n",
        "number=random.randint(1,100)\n",
        "\n",
        "while True:\n",
        "  try:\n",
        "    guess=int(input(\"Enter number in range of 1-100\"))\n",
        "    if guess<1:\n",
        "      raise GuessError\n",
        "\n",
        "    elif guess==number:\n",
        "      print('Successfully guessed the number')\n",
        "      break\n",
        "\n",
        "    elif guess>number:\n",
        "      raise ValueTooLarge\n",
        "\n",
        "    elif guess<number:\n",
        "      raise ValueTooSmall\n",
        "\n",
        "  except ValueTooLarge as l:\n",
        "    print(l)\n",
        "  except ValueTooSmall as s:\n",
        "    print(s)\n",
        "  except GuessError as g:\n",
        "    print(g)\n",
        "\n",
        "  except Exception as e:\n",
        "    print(e)"
      ],
      "metadata": {
        "colab": {
          "base_uri": "https://localhost:8080/"
        },
        "id": "AG-o0pTUTrw8",
        "outputId": "9dbf034a-2370-48cf-cdd2-3e770181101f"
      },
      "execution_count": null,
      "outputs": [
        {
          "output_type": "stream",
          "name": "stdout",
          "text": [
            "Enter number in range of 1-10050\n",
            "Input value is too large\n",
            "\n",
            "Enter number in range of 1-10090\n",
            "Input value is too large\n",
            "\n",
            "Enter number in range of 1-10080\n",
            "Input value is too large\n",
            "\n",
            "Enter number in range of 1-10075\n",
            "Input value is too large\n",
            "\n",
            "Enter number in range of 1-10065\n",
            "Input value is too large\n",
            "\n",
            "Enter number in range of 1-10060\n",
            "Input value is too large\n",
            "\n",
            "Enter number in range of 1-10045\n",
            "Input value is too large\n",
            "\n",
            "Enter number in range of 1-10040\n",
            "Input value is too large\n",
            "\n",
            "Enter number in range of 1-10035\n",
            "Input value is too large\n",
            "\n",
            "Enter number in range of 1-10030\n",
            "Input value is too large\n",
            "\n",
            "Enter number in range of 1-10010\n",
            "Input value is too Small\n",
            "\n",
            "Enter number in range of 1-10015\n",
            "Input value is too Small\n",
            "\n",
            "Enter number in range of 1-10020\n",
            "Input value is too large\n",
            "\n",
            "Enter number in range of 1-10016\n",
            "Input value is too Small\n",
            "\n",
            "Enter number in range of 1-10017\n",
            "Input value is too Small\n",
            "\n",
            "Enter number in range of 1-10018\n",
            "Successfully guessed the number\n"
          ]
        }
      ]
    },
    {
      "cell_type": "markdown",
      "source": [
        "### `Q-5:` Cast vote\n",
        "\n",
        "Write a program that validate name and age as entered by the user to determine whether the person can cast vote or not. To handle the age, create **InvalidAge** exception and for name, create **InvalidName** exception. The name will be invalid when the string will be empty or name has only one word.\n",
        "\n",
        "Example 1:\n",
        "\n",
        "Input:\n",
        "\n",
        "```bash\n",
        "Enter the name:               goransh singh\n",
        "Enter the age: 25\n",
        "```\n",
        "\n",
        "Output:\n",
        "\n",
        "```bash\n",
        "Goransh Singh  Congratulation !!! You can vote.\n",
        "```"
      ],
      "metadata": {
        "id": "_RJ1lnGbRaed"
      }
    },
    {
      "cell_type": "code",
      "source": [
        "class InvalidAge(Exception):\n",
        "  def display(self):\n",
        "    print(\"Sorry!! Age cannot be below 18. Please come after that\")\n",
        "class InvalidName(Exception):\n",
        "    def display(self):\n",
        "        print(\"Please enter a valid name...\")\n",
        "\n",
        "try:\n",
        "  name=input(\"Enter Your name: \")\n",
        "  if len(name)==0 or len(name.split())<2:\n",
        "    raise InvalidName\n",
        "\n",
        "  age=int(input('Enter Your age'))\n",
        "  if age<18:\n",
        "    raise InvalidAge\n",
        "\n",
        "except InvalidName as i:\n",
        "    i.display()\n",
        "except InvalidAge as a:\n",
        "    a.display()\n",
        "\n",
        "else:\n",
        "    print(name,' Congratulation !!! You can vote.')\n",
        "finally:\n",
        "  print(\"Good bye\")\n",
        "\n"
      ],
      "metadata": {
        "colab": {
          "base_uri": "https://localhost:8080/"
        },
        "id": "KRMJJY0GXyla",
        "outputId": "5d37ce6f-d842-47dc-f202-eaf35a6d6b73"
      },
      "execution_count": null,
      "outputs": [
        {
          "output_type": "stream",
          "name": "stdout",
          "text": [
            "Enter Your name: hannan bhatti\n",
            "Enter Your age25\n",
            "hannan bhatti  Congratulation !!! You can vote.\n",
            "Good bye\n"
          ]
        }
      ]
    },
    {
      "cell_type": "markdown",
      "source": [
        "### `Q-6`: Write a python function which infinitely prints natural numbers in a single line. Raise the **StopIteration** exception after displaying first 20 numnbers to exit from the program."
      ],
      "metadata": {
        "id": "-P3wcSyRR3e9"
      }
    },
    {
      "cell_type": "code",
      "source": [
        "def naturalnum(n):\n",
        "  i=0\n",
        "  while True:\n",
        "    try:\n",
        "      n+=1\n",
        "      i+=1\n",
        "      if i==21:\n",
        "        raise StopIteration\n",
        "    except StopIteration:\n",
        "      break\n",
        "    else:\n",
        "      print(n,end=' ')\n",
        "\n",
        "naturalnum(100)"
      ],
      "metadata": {
        "colab": {
          "base_uri": "https://localhost:8080/"
        },
        "id": "eWdjfKEBanIB",
        "outputId": "95c3b2f0-1aeb-47e9-a306-c9ff193bc44d"
      },
      "execution_count": null,
      "outputs": [
        {
          "output_type": "stream",
          "name": "stdout",
          "text": [
            "101 102 103 104 105 106 107 108 109 110 111 112 113 114 115 116 117 118 119 120 "
          ]
        }
      ]
    }
  ]
}