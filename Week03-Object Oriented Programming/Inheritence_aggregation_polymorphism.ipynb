{
  "nbformat": 4,
  "nbformat_minor": 0,
  "metadata": {
    "colab": {
      "provenance": [],
      "authorship_tag": "ABX9TyOYwFgMWtJh1u5QbResGLWE",
      "include_colab_link": true
    },
    "kernelspec": {
      "name": "python3",
      "display_name": "Python 3"
    },
    "language_info": {
      "name": "python"
    }
  },
  "cells": [
    {
      "cell_type": "markdown",
      "metadata": {
        "id": "view-in-github",
        "colab_type": "text"
      },
      "source": [
        "<a href=\"https://colab.research.google.com/github/Abdul-Hannan96/Python-For-DataScience/blob/main/Week03-Object%20Oriented%20Programming/Inheritence_aggregation_polymorphism.ipynb\" target=\"_parent\"><img src=\"https://colab.research.google.com/assets/colab-badge.svg\" alt=\"Open In Colab\"/></a>"
      ]
    },
    {
      "cell_type": "markdown",
      "source": [
        "### Class Relationships\n",
        "\n",
        "- Aggregation\n",
        "- Inheritance"
      ],
      "metadata": {
        "id": "LhpcB5G6Wg9o"
      }
    },
    {
      "cell_type": "code",
      "execution_count": null,
      "metadata": {
        "id": "vw9Iz2CaWVSB"
      },
      "outputs": [],
      "source": [
        "# Aggregation\n",
        "class Customer:\n",
        "\n",
        "  def __init__(self,name,gender,address):\n",
        "    self.name=name\n",
        "    self.gender=gender\n",
        "    self.address=address\n",
        "\n",
        "\n",
        "  def print_address(self):\n",
        "    print(self.address.city,self.address.pin,self.address.province)\n",
        "\n",
        "\n",
        "\n",
        "class Address:\n",
        "\n",
        "  def __init__(self,city,pin,province):\n",
        "    self.city=city\n",
        "    self.pin=pin\n",
        "    self.province=province\n",
        "\n",
        "\n",
        "add1=Address('Lahore','10001','punjab')\n",
        "cust=Customer('Hannan','male',add1)\n",
        "\n",
        "cust.print_address()\n"
      ]
    },
    {
      "cell_type": "code",
      "source": [
        "# Can not access private attribute of address class without getter method\n",
        "class Customer:\n",
        "\n",
        "  def __init__(self,name,gender,address):\n",
        "    self.name=name\n",
        "    self.gender=gender\n",
        "    self.address=address\n",
        "\n",
        "\n",
        "  def print_address(self):\n",
        "    print(self.address.get_city(),self.address.pin,self.address.province)\n",
        "\n",
        "\n",
        "\n",
        "class Address:\n",
        "\n",
        "  def __init__(self,city,pin,province):\n",
        "    self.__city=city\n",
        "    self.pin=pin\n",
        "    self.province=province\n",
        "\n",
        "  def get_city(self):\n",
        "    return self.__city\n",
        "\n",
        "\n",
        "add1=Address('Lahore','10001','punjab')\n",
        "cust=Customer('Hannan','male',add1)\n",
        "\n",
        "cust.print_address()\n"
      ],
      "metadata": {
        "id": "G7e0Y3qsWlky"
      },
      "execution_count": null,
      "outputs": []
    },
    {
      "cell_type": "code",
      "source": [
        "# How to access method?\n",
        "class Customer:\n",
        "\n",
        "  def __init__(self,name,gender,address):\n",
        "    self.name=name\n",
        "    self.gender=gender\n",
        "    self.address=address\n",
        "\n",
        "\n",
        "  def print_address(self):\n",
        "    print(self.address.get_city(),self.address.pin,self.address.province)\n",
        "\n",
        "  def edit_profile(self,new_name,new_pin,new_province,new_city):\n",
        "    self.name=new_name\n",
        "\n",
        "    self.address.edit_address(new_city,new_pin,new_province)\n",
        "\n",
        "\n",
        "\n",
        "\n",
        "class Address:\n",
        "\n",
        "  def __init__(self,city,pin,province):\n",
        "    self.__city=city\n",
        "    self.pin=pin\n",
        "    self.province=province\n",
        "\n",
        "  def get_city(self):\n",
        "    return self.__city\n",
        "\n",
        "  def edit_address(self,new_city,new_pin,new_province):\n",
        "    self.__city=new_city\n",
        "    self.pin=new_pin\n",
        "    self.province=new_province\n",
        "\n",
        "\n",
        "add1=Address('Lahore','10001','punjab')\n",
        "cust=Customer('Hannan','male',add1)\n",
        "\n",
        "cust.print_address()\n",
        "\n",
        "cust.edit_profile('Ali','20001','Sindh','Karachi')\n",
        "cust.print_address()\n"
      ],
      "metadata": {
        "id": "-wTiRyqkWmHz"
      },
      "execution_count": null,
      "outputs": []
    },
    {
      "cell_type": "markdown",
      "source": [
        "##### Aggregation class diagram"
      ],
      "metadata": {
        "id": "dhHntZj_WuUC"
      }
    },
    {
      "cell_type": "code",
      "source": [
        "# class diagram\n",
        "# customer 1<>---address\n",
        "\n",
        "# Data attributes should be (-)->private=>getter methods for private attributes\n"
      ],
      "metadata": {
        "id": "7WepIMnbWqta"
      },
      "execution_count": null,
      "outputs": []
    },
    {
      "cell_type": "markdown",
      "source": [
        "![uml agg.png](data:image/png;base64,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)"
      ],
      "metadata": {
        "id": "drrQS_uVWxTs"
      }
    },
    {
      "cell_type": "markdown",
      "source": [
        "### Inheritance\n",
        "\n",
        "- What is inheritance\n",
        "- Example\n",
        "- What gets inherited?"
      ],
      "metadata": {
        "id": "mn1pP-UZW6Nh"
      }
    },
    {
      "cell_type": "code",
      "source": [
        "# Inheritance and it's benefits-> reusabilty and optimized code\n",
        "# Dry-> (Don't repeat yourself)"
      ],
      "metadata": {
        "id": "AxRH06wTWyLx"
      },
      "execution_count": null,
      "outputs": []
    },
    {
      "cell_type": "code",
      "source": [
        "# Example\n",
        "# when child constructor ran then parent constructor will not be called and only child constructor will do the work\n",
        "class User:\n",
        "\n",
        "  def __init__(self):\n",
        "    self.name='Hannan'\n",
        "    self.__gender='male' # private attribute->no access\n",
        "\n",
        "  def __login(self): # private method->no access\n",
        "    print('login')\n",
        "\n",
        "# child\n",
        "\n",
        "class Student(User):\n",
        "\n",
        "  # def __init__(self): # method overriding--> previous class constructor will run itself to solve the problem\n",
        "    # self.rollno=100\n",
        "\n",
        "  def enroll(self):\n",
        "    print('enroll in the course')\n",
        "\n",
        "u=User()\n",
        "s=Student()\n",
        "# s.rollno\n",
        "\n",
        "print(s.name)\n",
        "# print(s.gender)\n",
        "# s.login()\n",
        "s.enroll()\n"
      ],
      "metadata": {
        "id": "kiqxIaZIW8yD"
      },
      "execution_count": null,
      "outputs": []
    },
    {
      "cell_type": "markdown",
      "source": [
        "\n",
        "\n",
        "![Inheritance-sm.jpg](data:image/jpeg;base64,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)\n",
        "\n"
      ],
      "metadata": {
        "id": "pQDG9mfWXATW"
      }
    },
    {
      "cell_type": "code",
      "source": [
        "# customer 1<|---address"
      ],
      "metadata": {
        "id": "9XRmCIsXXA-X"
      },
      "execution_count": null,
      "outputs": []
    },
    {
      "cell_type": "markdown",
      "source": [
        "##### What gets inherited?\n",
        "\n",
        "- Constructor\n",
        "- Non Private Attributes\n",
        "- Non Private Methods"
      ],
      "metadata": {
        "id": "QfhEL7tyXLNv"
      }
    },
    {
      "cell_type": "code",
      "source": [
        "# constructor example\n",
        "\n",
        "class Phone:\n",
        "    def __init__(self, price, brand, camera):\n",
        "        print (\"Inside phone constructor\")\n",
        "        self.price = price\n",
        "        self.brand = brand\n",
        "        self.camera = camera\n",
        "\n",
        "    def buy(self):\n",
        "        print (\"Buying a phone\")\n",
        "\n",
        "class SmartPhone(Phone):\n",
        "    pass\n",
        "\n",
        "s=SmartPhone(20000, \"Apple\", 13)\n",
        "s.buy()\n"
      ],
      "metadata": {
        "id": "D2oVK6SBXJwO"
      },
      "execution_count": null,
      "outputs": []
    },
    {
      "cell_type": "code",
      "source": [
        "# constructor example 2\n",
        "\n",
        "class Phone:\n",
        "    def __init__(self, price, brand, camera):\n",
        "        print (\"Inside phone constructor\")\n",
        "        self.__price = price\n",
        "        self.brand = brand\n",
        "        self.camera = camera\n",
        "\n",
        "class SmartPhone(Phone):\n",
        "    def __init__(self, os, ram):\n",
        "        self.os = os\n",
        "        self.ram = ram\n",
        "        print (\"Inside SmartPhone constructor\")\n",
        "\n",
        "s=SmartPhone(\"Android\", 2)\n",
        "s.brand # because child contructor ran and variable of parent constructors are not intialized"
      ],
      "metadata": {
        "id": "zLymLhrcXO17"
      },
      "execution_count": null,
      "outputs": []
    },
    {
      "cell_type": "code",
      "source": [
        "# child can't access private members of the class\n",
        "\n",
        "class Phone:\n",
        "    def __init__(self, price, brand, camera):\n",
        "        print (\"Inside phone constructor\")\n",
        "        self.__price = price\n",
        "        self.brand = brand\n",
        "        self.camera = camera\n",
        "\n",
        "    #getter(it is public)\n",
        "    def show(self):\n",
        "        print (self.__price)\n",
        "\n",
        "class SmartPhone(Phone):\n",
        "    def check(self):\n",
        "        print(self.__price)\n",
        "\n",
        "s=SmartPhone(20000, \"Apple\", 13)\n",
        "# s.check() # private members/methods not lllowed\n",
        "s.show()"
      ],
      "metadata": {
        "id": "lMdWGO9aXRYh"
      },
      "execution_count": null,
      "outputs": []
    },
    {
      "cell_type": "code",
      "source": [
        "class Parent:\n",
        "\n",
        "    def __init__(self,num):\n",
        "        self.__num=num\n",
        "\n",
        "    def get_num(self):\n",
        "        return self.__num\n",
        "\n",
        "class Child(Parent):\n",
        "\n",
        "    def show(self):\n",
        "        print(\"This is in child class\")\n",
        "\n",
        "son=Child(100)\n",
        "print(son.get_num())\n",
        "son.show()"
      ],
      "metadata": {
        "id": "WIDDG_ZpXT1S"
      },
      "execution_count": null,
      "outputs": []
    },
    {
      "cell_type": "code",
      "source": [
        "# child class constructor ran so it will not approach parent constructor\n",
        "class Parent:\n",
        "\n",
        "    def __init__(self,num):\n",
        "        self.__num=num\n",
        "\n",
        "    def get_num(self):\n",
        "        return self.__num\n",
        "\n",
        "class Child(Parent):\n",
        "\n",
        "    def __init__(self,val,num):\n",
        "        self.__val=val\n",
        "        # self.__num=num\n",
        "\n",
        "    def get_val(self):\n",
        "        return self.__val\n",
        "    # def get_num(self): # num->10\n",
        "    #   return self.__num\n",
        "\n",
        "son=Child(100,10)\n",
        "print(\"Child: Val:\",son.get_val())\n",
        "print(\"Parent: Num:\",son.get_num())\n"
      ],
      "metadata": {
        "id": "qN_5kkaRXV7K"
      },
      "execution_count": null,
      "outputs": []
    },
    {
      "cell_type": "code",
      "source": [
        "class A:\n",
        "    def __init__(self):\n",
        "        self.var1=100\n",
        "\n",
        "    def display1(self,var1):\n",
        "      # self.var1=var1 # -> self.var1=200 here\n",
        "\n",
        "      print(\"class A :\", self.var1)\n",
        "class B(A):\n",
        "\n",
        "    def display2(self,var1):\n",
        "        print(\"class B :\", self.var1)\n",
        "\n",
        "obj=B()\n",
        "obj.display1(200)"
      ],
      "metadata": {
        "id": "SlciiYajXX_J"
      },
      "execution_count": null,
      "outputs": []
    },
    {
      "cell_type": "code",
      "source": [
        "\n",
        "# using super outside the class\n",
        "class Phone:\n",
        "    def __init__(self, price, brand, camera):\n",
        "        print (\"Inside phone constructor\")\n",
        "        self.__price = price\n",
        "        self.brand = brand\n",
        "        self.camera = camera\n",
        "\n",
        "    def buy(self):\n",
        "        print (\"Buying a phone\")\n",
        "\n",
        "class SmartPhone(Phone):\n",
        "    def buy(self):\n",
        "        print (\"Buying a smartphone\")\n",
        "        # syntax to call parent ka buy method\n",
        "        super().buy()\n",
        "\n",
        "s=SmartPhone(20000, \"Apple\", 13)\n",
        "\n",
        "# s.buy()  # not possible even if super().buy()\n",
        "# we can call inside the child class but not outside the class"
      ],
      "metadata": {
        "id": "jizctoX_XaHj"
      },
      "execution_count": null,
      "outputs": []
    },
    {
      "cell_type": "code",
      "source": [
        "# Method Overriding\n",
        "class Phone:\n",
        "    def __init__(self, price, brand, camera):\n",
        "        print (\"Inside phone constructor\")\n",
        "        self.__price = price\n",
        "        self.brand = brand\n",
        "        self.camera = camera\n",
        "\n",
        "    def buy(self):\n",
        "        print (\"Buying a phone\")\n",
        "\n",
        "class SmartPhone(Phone): # child will run\n",
        "    def buy(self):\n",
        "        print (\"Buying a smartphone\")\n",
        "\n",
        "s=SmartPhone(20000, \"Apple\", 13)\n",
        "\n",
        "s.buy()"
      ],
      "metadata": {
        "id": "O4S1VFDcXcgb"
      },
      "execution_count": null,
      "outputs": []
    },
    {
      "cell_type": "markdown",
      "source": [
        "### Super Keyword"
      ],
      "metadata": {
        "id": "I8r0wrj7Xelx"
      }
    },
    {
      "cell_type": "code",
      "source": [
        "class Phone:\n",
        "    def __init__(self, price, brand, camera):\n",
        "        print (\"Inside phone constructor\")\n",
        "        self.__price = price\n",
        "        self.brand = brand\n",
        "        self.camera = camera\n",
        "\n",
        "    def buy(self):\n",
        "        print (\"Buying a phone\")\n",
        "\n",
        "\n",
        "class SmartPhone(Phone):\n",
        "    def buy(self):\n",
        "        print (\"Buying a smartphone\")\n",
        "\n",
        "        # syntax to call parent ka buy method\n",
        "        super().buy()\n",
        "\n",
        "s=SmartPhone(20000, \"Apple\", 13)\n",
        "\n",
        "s.buy()"
      ],
      "metadata": {
        "id": "rSae6yZOXfwA"
      },
      "execution_count": null,
      "outputs": []
    },
    {
      "cell_type": "code",
      "source": [
        "# can super access parent ka data?\n",
        "\n",
        "class Phone:\n",
        "    def __init__(self, price, brand, camera):\n",
        "        print (\"Inside phone constructor\")\n",
        "        self.__price = price\n",
        "        self.brand = brand\n",
        "        self.camera = camera\n",
        "\n",
        "    def buy(self):\n",
        "        print (\"Buying a phone\")\n",
        "\n",
        "class SmartPhone(Phone):\n",
        "    def buy(self):\n",
        "        print (\"Buying a smartphone\")\n",
        "        # syntax to call parent ka buy method\n",
        "        print(super().brand) # no attribute access\n",
        "\n",
        "s=SmartPhone(20000, \"Apple\", 13)\n",
        "\n",
        "s.buy()"
      ],
      "metadata": {
        "id": "B9U7UlrpXhb5"
      },
      "execution_count": null,
      "outputs": []
    },
    {
      "cell_type": "markdown",
      "source": [
        "- super cant access variables\n",
        "- super cant acess outside the class\n",
        "- super will always be used in child class"
      ],
      "metadata": {
        "id": "11EI4wxeXmDz"
      }
    },
    {
      "cell_type": "code",
      "source": [
        "# super -> constuctor\n",
        "class Phone:\n",
        "    def __init__(self, price, brand, camera):\n",
        "        print (\"Inside phone constructor\")\n",
        "        self.__price = price\n",
        "        self.brand = brand\n",
        "        self.camera = camera\n",
        "\n",
        "\n",
        "\n",
        "class SmartPhone(Phone):\n",
        "    def __init__(self, price, brand, camera, os, ram):\n",
        "        print('Inside smartphone constructor')\n",
        "        super().__init__(price, brand, camera)\n",
        "        self.os = os\n",
        "        self.ram = ram\n",
        "        self.price= price\n",
        "        print (\"Inside smartphone constructor\")\n",
        "\n",
        "s=SmartPhone(20000, \"Samsung\", 12, \"Android\", 2)\n",
        "# p=Phone(20000, \"Samsung\", 12)\n",
        "# p.price\n",
        "print(s.os)\n",
        "print(s.brand)\n",
        "print(s.price)\n",
        "print(s.ram)"
      ],
      "metadata": {
        "id": "nJTGsfTMXqS7"
      },
      "execution_count": null,
      "outputs": []
    },
    {
      "cell_type": "markdown",
      "source": [
        "##### Inheritance in summary\n",
        "\n",
        "- A class can inherit from another class.\n",
        "\n",
        "- Inheritance improves code reuse\n",
        "\n",
        "- Constructor, attributes, methods get inherited to the child class\n",
        "\n",
        "- The parent has no access to the child class\n",
        "\n",
        "- Private properties of parent are not accessible directly in child class\n",
        "\n",
        "- Child class can override the attributes or methods. This is called method overriding\n",
        "\n",
        "- super() is an inbuilt function which is used to invoke the parent class methods and constructor"
      ],
      "metadata": {
        "id": "9uJt6qk9XtKo"
      }
    },
    {
      "cell_type": "code",
      "source": [
        "class Parent:\n",
        "\n",
        "    def __init__(self,num):\n",
        "      self.__num=num\n",
        "\n",
        "    def get_num(self):\n",
        "      return self.__num\n",
        "\n",
        "class Child(Parent):\n",
        "\n",
        "    def __init__(self,num,val):\n",
        "      super().__init__(num)\n",
        "      self.__val=val\n",
        "\n",
        "    def get_val(self):\n",
        "      return self.__val\n",
        "\n",
        "son=Child(100,200)\n",
        "print(son.get_num())\n",
        "print(son.get_val())"
      ],
      "metadata": {
        "id": "KEbqjIJVXu3I"
      },
      "execution_count": null,
      "outputs": []
    },
    {
      "cell_type": "code",
      "source": [
        "class Parent:\n",
        "    def __init__(self):\n",
        "        self.__num=100\n",
        "\n",
        "    def show(self):\n",
        "        print(\"Parent:\",self.__num)\n",
        "\n",
        "class Child(Parent):\n",
        "    def __init__(self):\n",
        "        super().__init__()\n",
        "        self.__var=10\n",
        "\n",
        "    def show(self):\n",
        "        print(\"Child:\",self.__var)\n",
        "\n",
        "obj=Child()\n",
        "# obj2=Parent()\n",
        "obj.show()\n",
        "# obj2.show()"
      ],
      "metadata": {
        "id": "vi-vVG7ZXx44"
      },
      "execution_count": null,
      "outputs": []
    },
    {
      "cell_type": "markdown",
      "source": [
        "### Types of Inheritance\n",
        "\n",
        "- Single Inheritance\n",
        "- Multilevel Inheritance\n",
        "- Hierarchical Inheritance\n",
        "- Multiple Inheritance(Diamond Problem)\n",
        "- Hybrid Inheritance"
      ],
      "metadata": {
        "id": "I2t3H4syX0-x"
      }
    },
    {
      "cell_type": "markdown",
      "source": [
        "![single-inheritance.png](data:image/png;base64,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)"
      ],
      "metadata": {
        "id": "1likYHltX3ye"
      }
    },
    {
      "cell_type": "code",
      "source": [
        "# single inheritance\n",
        "class Phone:\n",
        "    def __init__(self, price, brand, camera):\n",
        "        print (\"Inside phone constructor\")\n",
        "        self.__price = price\n",
        "        self.brand = brand\n",
        "        self.camera = camera\n",
        "\n",
        "    def buy(self):\n",
        "        print (\"Buying a phone\")\n",
        "\n",
        "class SmartPhone(Phone):\n",
        "    pass\n",
        "\n",
        "SmartPhone(1000,\"Apple\",\"13px\").buy()"
      ],
      "metadata": {
        "id": "CTzeQKWcX1uU"
      },
      "execution_count": null,
      "outputs": []
    },
    {
      "cell_type": "markdown",
      "source": [
        "![Multilevel-inheritance1.png](data:image/png;base64,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)"
      ],
      "metadata": {
        "id": "wch3iua7X-Q1"
      }
    },
    {
      "cell_type": "code",
      "source": [
        "# multilevel\n",
        "class Product:\n",
        "    def review(self):\n",
        "        print (\"Product customer review\")\n",
        "\n",
        "class Phone(Product):\n",
        "    def __init__(self, price, brand, camera):\n",
        "        print (\"Inside phone constructor\")\n",
        "        self.__price = price\n",
        "        self.brand = brand\n",
        "        self.camera = camera\n",
        "\n",
        "    def buy(self):\n",
        "        print (\"Buying a phone\")\n",
        "\n",
        "class SmartPhone(Phone):\n",
        "    pass\n",
        "\n",
        "s=SmartPhone(20000, \"Apple\", 12)\n",
        "\n",
        "s.buy() # parent\n",
        "s.review() # grand parent"
      ],
      "metadata": {
        "id": "7UuSfjjsX7hP"
      },
      "execution_count": null,
      "outputs": []
    },
    {
      "cell_type": "markdown",
      "source": [
        "![Hierarichal.png](data:image/png;base64,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)"
      ],
      "metadata": {
        "id": "hc5QwAOnYC_2"
      }
    },
    {
      "cell_type": "code",
      "source": [
        "# Hierarchical\n",
        "class Phone:\n",
        "    def __init__(self, price, brand, camera):\n",
        "        print (\"Inside phone constructor\")\n",
        "        self.__price = price\n",
        "        self.brand = brand\n",
        "        self.camera = camera\n",
        "\n",
        "    def buy(self):\n",
        "        print (\"Buying a phone\")\n",
        "\n",
        "class SmartPhone(Phone):\n",
        "    pass\n",
        "\n",
        "class FeaturePhone(Phone):\n",
        "    pass\n",
        "\n",
        "SmartPhone(1000,\"Apple\",\"13px\").buy() # child 1 can inherit parent\n",
        "FeaturePhone(10,\"Lava\",\"1px\").buy() # child 2 can inherit parent"
      ],
      "metadata": {
        "id": "JIeHXxCuYDmg"
      },
      "execution_count": null,
      "outputs": []
    },
    {
      "cell_type": "markdown",
      "source": [
        "![multiple_inheritance (1).png](data:image/png;base64,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)"
      ],
      "metadata": {
        "id": "Y12_ECDwYHFF"
      }
    },
    {
      "cell_type": "code",
      "source": [
        "# Multiple\n",
        "class Phone:\n",
        "    def __init__(self, price, brand, camera):\n",
        "        print (\"Inside phone constructor\")\n",
        "        self.__price = price\n",
        "        self.brand = brand\n",
        "        self.camera = camera\n",
        "\n",
        "    def buy(self):\n",
        "        print (\"Buying a phone\")\n",
        "\n",
        "class Product:\n",
        "    def review(self):\n",
        "        print (\"Customer review\")\n",
        "\n",
        "class SmartPhone(Phone, Product):\n",
        "    pass\n",
        "\n",
        "s=SmartPhone(20000, \"Apple\", 12)\n",
        "\n",
        "s.buy()\n",
        "s.review()\n"
      ],
      "metadata": {
        "id": "zT54vVYxYHyQ"
      },
      "execution_count": null,
      "outputs": []
    },
    {
      "cell_type": "code",
      "source": [
        "# the diamond problem\n",
        "# https://stackoverflow.com/questions/56361048/what-is-the-diamond-problem-in-python-and-why-its-not-appear-in-python2\n",
        "class Phone:\n",
        "    def __init__(self, price, brand, camera):\n",
        "        print (\"Inside phone constructor\")\n",
        "        self.__price = price\n",
        "        self.brand = brand\n",
        "        self.camera = camera\n",
        "\n",
        "    def buy(self):\n",
        "        print (\"Buying a phone\")\n",
        "\n",
        "class Product:\n",
        "    def buy(self):\n",
        "        print (\"Product buy method\")\n",
        "\n",
        "# Method resolution order(phone will run because first in order)\n",
        "class SmartPhone(Phone,Product):\n",
        "    pass\n",
        "\n",
        "s=SmartPhone(20000, \"Apple\", 12)\n",
        "\n",
        "s.buy()"
      ],
      "metadata": {
        "id": "tde-e-imYLai"
      },
      "execution_count": null,
      "outputs": []
    },
    {
      "cell_type": "code",
      "source": [
        "class A:\n",
        "\n",
        "    def m1(self):\n",
        "        return 20\n",
        "\n",
        "class B(A):\n",
        "\n",
        "    def m1(self):\n",
        "        return 30\n",
        "\n",
        "    def m2(self):\n",
        "        return 40\n",
        "\n",
        "class C(B):\n",
        "\n",
        "    def m2(self):\n",
        "        return 20\n",
        "obj1=A()\n",
        "obj2=B()\n",
        "obj3=C()\n",
        "print(obj1.m1() + obj3.m1()+ obj3.m2())"
      ],
      "metadata": {
        "id": "OzUMpaAiYNXn"
      },
      "execution_count": null,
      "outputs": []
    },
    {
      "cell_type": "code",
      "source": [
        "class A:\n",
        "\n",
        "    def m1(self):\n",
        "        return 20\n",
        "\n",
        "class B(A):\n",
        "\n",
        "    def m1(self):\n",
        "        val=super().m1()+30\n",
        "        return val\n",
        "\n",
        "class C(B):\n",
        "\n",
        "    def m1(self):\n",
        "        val=self.m1()+20\n",
        "        return val\n",
        "obj=C()\n",
        "print(obj.m1())"
      ],
      "metadata": {
        "id": "qO9jJWE2YPQe"
      },
      "execution_count": null,
      "outputs": []
    },
    {
      "cell_type": "markdown",
      "source": [
        "### Polymorphism\n",
        "\n",
        "- Method Overriding\n",
        "- Method Overloading\n",
        "- Operator Overloading"
      ],
      "metadata": {
        "id": "6vEsjgpdYSQI"
      }
    },
    {
      "cell_type": "code",
      "source": [
        "# method overiding same as previous\n",
        "# hint -> one constructor will run then other not without super keyword"
      ],
      "metadata": {
        "id": "iCn83e_bYUI9"
      },
      "execution_count": null,
      "outputs": []
    },
    {
      "cell_type": "code",
      "source": [
        "# method overloading when more then two same name methods came into class\n",
        "# resolution:\n",
        "class Shape:\n",
        "\n",
        "  def area(self,a,b=0):\n",
        "    if b == 0:\n",
        "      return 3.14*a*a\n",
        "    else:\n",
        "      return a*b\n",
        "\n",
        "s = Shape()\n",
        "\n",
        "print(s.area(2))\n",
        "print(s.area(3,4))"
      ],
      "metadata": {
        "id": "f8O9S9ElYV4K"
      },
      "execution_count": null,
      "outputs": []
    },
    {
      "cell_type": "code",
      "source": [
        "# operator overloading is when one operator '+' behaves differently in different siuation\n",
        "# resolution-> magic method like we did in fraction class\n",
        "'hello' + 'world'"
      ],
      "metadata": {
        "id": "ad03LtXMYXox"
      },
      "execution_count": null,
      "outputs": []
    },
    {
      "cell_type": "code",
      "source": [
        "[1,2,3] + [4,5]"
      ],
      "metadata": {
        "id": "i8GuiRFwYabI"
      },
      "execution_count": null,
      "outputs": []
    },
    {
      "cell_type": "code",
      "source": [
        "4+5"
      ],
      "metadata": {
        "id": "-17aRdUzYa_7"
      },
      "execution_count": null,
      "outputs": []
    },
    {
      "cell_type": "markdown",
      "source": [
        "### Abstraction"
      ],
      "metadata": {
        "id": "MFCOE51IYd3T"
      }
    },
    {
      "cell_type": "code",
      "source": [
        "from abc import ABC,abstractmethod\n",
        "class BankApp(ABC):\n",
        "\n",
        "  def database(self):\n",
        "    print('connected to database')\n",
        "\n",
        "  @abstractmethod\n",
        "  def security(self):\n",
        "    pass\n",
        "\n",
        "  @abstractmethod\n",
        "  def display(self):\n",
        "    pass\n"
      ],
      "metadata": {
        "id": "1pOir3_UYe9J"
      },
      "execution_count": null,
      "outputs": []
    },
    {
      "cell_type": "code",
      "source": [
        "class MobileApp(BankApp):\n",
        "\n",
        "  def mobile_login(self):\n",
        "    print('login into mobile')\n",
        "\n",
        "  def security(self):\n",
        "    print('mobile security')\n",
        "\n",
        "  def display(self):\n",
        "    print('display')"
      ],
      "metadata": {
        "id": "64mLUbnfYhXI"
      },
      "execution_count": null,
      "outputs": []
    },
    {
      "cell_type": "code",
      "source": [
        "mob = MobileApp()"
      ],
      "metadata": {
        "id": "nhXVxDjrYjw7"
      },
      "execution_count": null,
      "outputs": []
    },
    {
      "cell_type": "code",
      "source": [
        "mob.security()"
      ],
      "metadata": {
        "id": "QblmukfvYldR"
      },
      "execution_count": null,
      "outputs": []
    },
    {
      "cell_type": "code",
      "source": [
        "obj = BankApp() # parent class object can not be created"
      ],
      "metadata": {
        "id": "h9qKpVdUYnZx"
      },
      "execution_count": null,
      "outputs": []
    }
  ]
}