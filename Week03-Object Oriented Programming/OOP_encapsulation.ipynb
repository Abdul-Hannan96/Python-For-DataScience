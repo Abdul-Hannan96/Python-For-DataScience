{
  "nbformat": 4,
  "nbformat_minor": 0,
  "metadata": {
    "colab": {
      "provenance": [],
      "authorship_tag": "ABX9TyOnR/DOoXZDRYadujYTp22s",
      "include_colab_link": true
    },
    "kernelspec": {
      "name": "python3",
      "display_name": "Python 3"
    },
    "language_info": {
      "name": "python"
    }
  },
  "cells": [
    {
      "cell_type": "markdown",
      "metadata": {
        "id": "view-in-github",
        "colab_type": "text"
      },
      "source": [
        "<a href=\"https://colab.research.google.com/github/Abdul-Hannan96/Python-For-DataScience/blob/main/Week03-Object%20Oriented%20Programming/OOP_encapsulation.ipynb\" target=\"_parent\"><img src=\"https://colab.research.google.com/assets/colab-badge.svg\" alt=\"Open In Colab\"/></a>"
      ]
    },
    {
      "cell_type": "markdown",
      "source": [
        "### Write OOP classes to handle the following scenarios:\n",
        "\n",
        "- A user can create and view 2D coordinates\n",
        "- A user can find out the distance between 2 coordinates\n",
        "- A user can find find the distance of a coordinate from origin\n",
        "- A user can check if a point lies on a given line\n",
        "- A user can find the distance between a given 2D point and a given line\n",
        "\n"
      ],
      "metadata": {
        "id": "lVjEqqQ4oR35"
      }
    },
    {
      "cell_type": "code",
      "execution_count": null,
      "metadata": {
        "id": "3uc4IwmloIID"
      },
      "outputs": [],
      "source": [
        "class Point:\n",
        "\n",
        "  def __init__(self,x,y):\n",
        "    self.x_cod=x\n",
        "    self.y_cod=y\n",
        "\n",
        "  def __str__(self):\n",
        "    return '<{},{}>'.format(self.x_cod,self.y_cod)\n",
        "\n",
        "  def euclidean_distance (self,other):\n",
        "    return ((self.x_cod-other.x_cod)**2+(self.y_cod-other.y_cod)**2)*0.5 # return euclidean distance bteween two points\n",
        "\n",
        "  def distance_from_origin(self):\n",
        "    return self.euclidean_distance(Point(0,0)) # two points (self and point 0,0)-> first argument will be passed automatically\n",
        "\n",
        "class Line:\n",
        "  def __init__(self,A,B,C):\n",
        "    self.A=A\n",
        "    self.B=B\n",
        "    self.C=C\n",
        "\n",
        "  def __str__(self):\n",
        "    return '{}x+ {}y+ {}=0'.format(self.A,self.B,self.C)\n",
        "\n",
        "  def point_on_line(self,point): # self is line and point is coordinates of x and y\n",
        "    if self.A*point.x_cod+self.B*point.y_cod+self.C==0: # ax+by+c=0\n",
        "      print(\"lies on the line\")\n",
        "    else:\n",
        "      print(\"Does not lies on the line\")\n",
        "  def shortest_point(self,point): # we can cahnge name of self and point as well\n",
        "    return abs(self.A*point.x_cod+self.B*point.y_cod+self.C)/(self.A**2+self.B**2)**0.5\n",
        "\n",
        "  def intersect(self, other_line):\n",
        "    if self.A == other_line.A and self.B == other_line.B: # when two lines are on same point\n",
        "      print(\"Lines are parallel, no intersection point\")\n",
        "    else:\n",
        "      x = (self.B * other_line.C - other_line.B * self.C) / (self.A * other_line.B - other_line.A * self.B) #x=b1c2−b2c1/a1b2−a2b1\n",
        "      y = (other_line.A * self.C - self.A * other_line.C) / (self.A * other_line.B - other_line.A * self.B) #y=a2c1−a1c2/a1b2−a2b1\n",
        "      return Point(x,y)\n",
        "\n",
        "\n",
        "\n"
      ]
    },
    {
      "cell_type": "code",
      "source": [
        "line1 = Line(2, -1, 3)\n",
        "line2 = Line(-3, 4, 5)\n",
        "\n",
        "intersection = line1.intersect(line2)\n",
        "print(intersection) # intersection"
      ],
      "metadata": {
        "id": "RRv2qBBwoXpg"
      },
      "execution_count": null,
      "outputs": []
    },
    {
      "cell_type": "code",
      "source": [
        "l1=Line(1,1,-2)\n",
        "p1=Point(1,1)\n",
        "\n",
        "print(l1)\n",
        "print(p1)\n",
        "l1.point_on_line(p1) # point on the line or not\n",
        "\n",
        "l1.shortest_point(p1)\n",
        "\n"
      ],
      "metadata": {
        "id": "_rq7awrRoYO3"
      },
      "execution_count": null,
      "outputs": []
    },
    {
      "cell_type": "code",
      "source": [
        "p1=Point(0,0)\n",
        "p2=Point(1,1)\n",
        "\n",
        "p1.euclidean_distance(p2)\n",
        "p1.distance_from_origin()\n",
        "\n",
        "\n"
      ],
      "metadata": {
        "id": "kA0cNTqCobVy"
      },
      "execution_count": null,
      "outputs": []
    },
    {
      "cell_type": "markdown",
      "source": [
        "### How objects access attributes"
      ],
      "metadata": {
        "id": "nmnrR4TPod74"
      }
    },
    {
      "cell_type": "code",
      "source": [
        "class Person:\n",
        "\n",
        "  def __init__(self,name_input,country_input):\n",
        "    self.name = name_input\n",
        "    self.country = country_input\n",
        "\n",
        "  def greet(self):\n",
        "    if self.country == 'Pakistan':\n",
        "      print('Salam',self.name)\n",
        "    else:\n",
        "      print('Hello',self.name)\n"
      ],
      "metadata": {
        "id": "HVSYEUFToevy"
      },
      "execution_count": null,
      "outputs": []
    },
    {
      "cell_type": "code",
      "source": [
        "#store object in refrence->p\n",
        "p1=Person('Hannan','Pakistan')\n",
        "p2=Person('Nitish','India')\n",
        "\n",
        "# here is how object access attributes\n",
        "p1.greet() #->object name.Attribute\n",
        "p1.name\n"
      ],
      "metadata": {
        "id": "QZp-yHsFojUY"
      },
      "execution_count": null,
      "outputs": []
    },
    {
      "cell_type": "code",
      "source": [
        "# what if i try to access non-existent attributes\n",
        "p1.age"
      ],
      "metadata": {
        "id": "uy3bPen4omH3"
      },
      "execution_count": null,
      "outputs": []
    },
    {
      "cell_type": "markdown",
      "source": [
        "### Attribute creation from outside of the class"
      ],
      "metadata": {
        "id": "yrISalmuoqGZ"
      }
    },
    {
      "cell_type": "code",
      "source": [
        "p1.gender"
      ],
      "metadata": {
        "id": "5s7lG2EPoq-J"
      },
      "execution_count": null,
      "outputs": []
    },
    {
      "cell_type": "code",
      "source": [
        "p1.gender='male' # we can create attribute from outside of the class also access it\n",
        "p1.gender"
      ],
      "metadata": {
        "id": "lCoMMkX7ouQG"
      },
      "execution_count": null,
      "outputs": []
    },
    {
      "cell_type": "markdown",
      "source": [
        "### Reference Variables\n",
        "\n",
        "- Reference variables hold the objects\n",
        "- We can create objects without reference variable as well\n",
        "- An object can have multiple reference variables\n",
        "- Assigning a new reference variable to an existing object does not create a new object"
      ],
      "metadata": {
        "id": "88S2fqswoxsJ"
      }
    },
    {
      "cell_type": "code",
      "source": [
        "# object without a reference\n",
        "class Person:\n",
        "\n",
        "  def __init__(self):\n",
        "    self.name = 'nitish'\n",
        "    self.gender = 'male'\n",
        "\n",
        "p = Person() # refrence variable p holds the object person\n",
        "# Person()->creating object without refrence variable p\n",
        "q = p # Object-->multiple reference variable q and p\n"
      ],
      "metadata": {
        "id": "i3VAZRbxovCg"
      },
      "execution_count": null,
      "outputs": []
    },
    {
      "cell_type": "code",
      "source": [
        "# Multiple ref\n",
        "# Assigning a new reference variable to an existing object does not create a new object\n",
        "print(id(p))\n",
        "print(id(q))"
      ],
      "metadata": {
        "id": "pM-VpBPmo0lR"
      },
      "execution_count": null,
      "outputs": []
    },
    {
      "cell_type": "code",
      "source": [
        "# change attribute value with the help of 2nd object\n"
      ],
      "metadata": {
        "id": "D2wUjE23o4A3"
      },
      "execution_count": null,
      "outputs": []
    },
    {
      "cell_type": "code",
      "source": [
        "print(p.name)\n",
        "print(q.name)\n",
        "q.name = 'ankit' # name will be changed because both are pointing towards same memory\n",
        "print(q.name)\n",
        "print(p.name)"
      ],
      "metadata": {
        "id": "Tclah6HTo4pu"
      },
      "execution_count": null,
      "outputs": []
    },
    {
      "cell_type": "markdown",
      "source": [
        "### Pass by reference"
      ],
      "metadata": {
        "id": "4FlHgEI4o9Sh"
      }
    },
    {
      "cell_type": "code",
      "source": [
        "\n",
        "class Person:\n",
        "\n",
        "  def __init__(self, name, gender):\n",
        "    self.name = name\n",
        "    self.gender = gender\n",
        "\n",
        "# outside the class -> function\n",
        "def greet(person): # passing object as a input into the function\n",
        "  print('Hi my name is', person.name, 'and I am a', person.gender)\n",
        "\n",
        "p = Person('Nitish', 'male')\n",
        "greet(p)\n",
        "# q= Person('Ankit','male') # calling multiple objects into the function\n",
        "# greet(q)\n"
      ],
      "metadata": {
        "id": "cxgKor0do7IB"
      },
      "execution_count": null,
      "outputs": []
    },
    {
      "cell_type": "code",
      "source": [
        "\n",
        "class Person:\n",
        "\n",
        "  def __init__(self, name, gender):\n",
        "    self.name = name\n",
        "    self.gender = gender\n",
        "\n",
        "# outside the class -> function\n",
        "def greet(person):\n",
        "  print('Hi my name is', person.name, 'and I am a', person.gender)\n",
        "  p1 = Person('Ankit', 'male') # function returning object p1,p2,p3\n",
        "  p2 = Person('Khan', 'male')\n",
        "  p3 = Person('Hannan','male')\n",
        "  return p1, p2,p3\n",
        "\n",
        "p = Person('Nitish', 'male')\n",
        "x, y,z = greet(p)\n",
        "print('Hi my name is', x.name, 'and I am a',x.gender)\n",
        "# print(x.name)\n",
        "# print(x.gender)\n",
        "# print(y.name)\n",
        "# print(y.gender)\n",
        "# print(z.name)\n",
        "# print(z.gender)\n"
      ],
      "metadata": {
        "id": "B6E1ihGVpBlr"
      },
      "execution_count": null,
      "outputs": []
    },
    {
      "cell_type": "code",
      "source": [
        "# value change--> same memory address thats why objects are mutable\n",
        "class Person:\n",
        "\n",
        "  def __init__(self,name,gender):\n",
        "    self.name = name\n",
        "    self.gender = gender\n",
        "\n",
        "# outside the class -> function\n",
        "def greet(person):\n",
        "  print(id(person))\n",
        "  person.name = 'ankita'\n",
        "  person.gender='female'\n",
        "  print(person.name,person.gender) # override object existing values\n",
        "\n",
        "p = Person('nitish','male') # person->ankita which is defined above and gender female as defined above\n",
        "print(id(p))\n",
        "greet(p)\n",
        "print(p.name)\n",
        "print(p.gender)\n"
      ],
      "metadata": {
        "id": "fehP7SE1pCgk"
      },
      "execution_count": null,
      "outputs": []
    },
    {
      "cell_type": "markdown",
      "source": [
        "### Object's mutability"
      ],
      "metadata": {
        "id": "r9EmBuPXpIaH"
      }
    },
    {
      "cell_type": "code",
      "source": [
        "# value change--> same memory address thats why objects are mutable\n",
        "class Person:\n",
        "\n",
        "  def __init__(self,name,gender):\n",
        "    self.name = name\n",
        "    self.gender = gender\n",
        "\n",
        "# outside the class -> function\n",
        "def greet(person):\n",
        "  person.name = 'ankit'\n",
        "  return person\n",
        "\n",
        "p = Person('nitish','male')\n",
        "print(id(p))\n",
        "p1 = greet(p)\n",
        "print(id(p1))"
      ],
      "metadata": {
        "id": "VzCr9994pKvN"
      },
      "execution_count": null,
      "outputs": []
    },
    {
      "cell_type": "markdown",
      "source": [
        "### Encapsulation"
      ],
      "metadata": {
        "id": "0qD0DERTpPFS"
      }
    },
    {
      "cell_type": "code",
      "source": [
        "# instance var -> python tutor\n",
        "class Person:\n",
        "\n",
        "  def __init__(self,name_input,country_input):\n",
        "    self.name = name_input\n",
        "    self.country = country_input\n",
        "\n",
        "p1 = Person('nitish','india')\n",
        "p2 = Person('steve','australia')\n",
        "# instance var-> change when Person(name change,country change)\n",
        "p3 = Person('Hannan','pakistan')\n"
      ],
      "metadata": {
        "id": "wUk2846OpM8f"
      },
      "execution_count": null,
      "outputs": []
    },
    {
      "cell_type": "code",
      "source": [
        "p3.name\n",
        "p3.country"
      ],
      "metadata": {
        "id": "dUME2fVgpSbP"
      },
      "execution_count": null,
      "outputs": []
    },
    {
      "cell_type": "code",
      "source": [
        "class Atm:\n",
        "\n",
        "  # constructor(special function)->superpower ->\n",
        "  def __init__(self):\n",
        "    print(id(self))\n",
        "    self.pin = ''\n",
        "    self.__balance = 0\n",
        "    #self.menu()\n",
        "\n",
        "  def get_balance(self):\n",
        "    return self.__balance\n",
        "\n",
        "  def set_balance(self,new_value):\n",
        "    if type(new_value) == int:\n",
        "      self.__balance = new_value\n",
        "    else:\n",
        "      print('Enter valid data type')\n",
        "\n",
        "  def menu(self):\n",
        "    user_input = input(\"\"\"\n",
        "    Hi how can I help you?\n",
        "    1. Press 1 to create pin\n",
        "    2. Press 2 to change pin\n",
        "    3. Press 3 to check balance\n",
        "    4. Press 4 to withdraw\n",
        "    5. Anything else to exit\n",
        "    \"\"\")\n",
        "\n",
        "    if user_input == '1':\n",
        "      self.create_pin()\n",
        "    elif user_input == '2':\n",
        "      self.change_pin()\n",
        "    elif user_input == '3':\n",
        "      self.check_balance()\n",
        "    elif user_input == '4':\n",
        "      self.withdraw()\n",
        "    else:\n",
        "      exit()\n",
        "\n",
        "  def create_pin(self):\n",
        "    user_pin = input('enter your pin')\n",
        "    self.pin = user_pin\n",
        "\n",
        "    user_balance = int(input('enter balance'))\n",
        "    self.__balance = user_balance\n",
        "\n",
        "    print('pin created successfully')\n",
        "\n",
        "  def change_pin(self):\n",
        "    old_pin = input('enter old pin')\n",
        "\n",
        "    if old_pin == self.pin:\n",
        "      # let him change the pin\n",
        "      new_pin = input('enter new pin')\n",
        "      self.pin = new_pin\n",
        "      print('pin change successful')\n",
        "    else:\n",
        "      print('Enter valid pin')\n",
        "\n",
        "  def check_balance(self):\n",
        "    user_pin = input('enter your pin')\n",
        "    if user_pin == self.pin:\n",
        "      print('your balance is ',self.__balance)\n",
        "    else:\n",
        "      print('Enter correct pin')\n",
        "\n",
        "  def withdraw(self):\n",
        "    user_pin = input('enter the pin')\n",
        "    if user_pin == self.pin:\n",
        "      # allow to withdraw\n",
        "      amount = int(input('enter the amount'))\n",
        "      if amount <= self.__balance:\n",
        "        self.__balance = self.__balance - amount\n",
        "        print('withdrawl successful.balance is',self.__balance)\n",
        "      else:\n",
        "        print('Insufficient amount')\n",
        "    else:\n",
        "      print('Pin is not valid')"
      ],
      "metadata": {
        "id": "4RXHV1LrpV9d"
      },
      "execution_count": null,
      "outputs": []
    },
    {
      "cell_type": "code",
      "source": [
        "obj = Atm()"
      ],
      "metadata": {
        "id": "Tc8Ep52qpXvM"
      },
      "execution_count": null,
      "outputs": []
    },
    {
      "cell_type": "code",
      "source": [
        "obj.set_balance(1000)"
      ],
      "metadata": {
        "id": "IlUDVE-6pZ59"
      },
      "execution_count": null,
      "outputs": []
    },
    {
      "cell_type": "code",
      "source": [
        "obj.get_balance()"
      ],
      "metadata": {
        "id": "cQWs_mQRpamV"
      },
      "execution_count": null,
      "outputs": []
    },
    {
      "cell_type": "code",
      "source": [
        "obj.menu()"
      ],
      "metadata": {
        "id": "le3g1cwQp-B3"
      },
      "execution_count": null,
      "outputs": []
    },
    {
      "cell_type": "code",
      "source": [
        "obj.withdraw()"
      ],
      "metadata": {
        "id": "m5RDY494qDdh"
      },
      "execution_count": null,
      "outputs": []
    },
    {
      "cell_type": "markdown",
      "source": [
        "### Collection of objects"
      ],
      "metadata": {
        "id": "noNRnlHXqIWm"
      }
    },
    {
      "cell_type": "code",
      "source": [
        "# list of objects--> classes are mutable because they can be stored in lists,sets and dictionaries\n",
        "class Person:\n",
        "\n",
        "  def __init__(self,name,gender):\n",
        "    self.name = name\n",
        "    self.gender = gender\n",
        "\n",
        "p1 = Person('nitish','male')\n",
        "p2 = Person('ankit','male')\n",
        "p3 = Person('ankita','female')\n",
        "\n",
        "L = [p1,p2,p3]\n",
        "\n",
        "for i in L: # all operations we can perform on list can also be performed on classes\n",
        "  print(i.name,i.gender)"
      ],
      "metadata": {
        "id": "Bj2JS6tVqKLI"
      },
      "execution_count": null,
      "outputs": []
    },
    {
      "cell_type": "code",
      "source": [
        "# dict of objects\n",
        "# list of objects\n",
        "class Person:\n",
        "\n",
        "  def __init__(self,name,gender):\n",
        "    self.name = name\n",
        "    self.gender = gender\n",
        "\n",
        "p1 = Person('nitish','male')\n",
        "p2 = Person('ankit','male')\n",
        "p3 = Person('ankita','female')\n",
        "\n",
        "d = {'p1':p1,'p2':p2,'p3':p3}\n",
        "\n",
        "for i in d:\n",
        "  #  print(i)\n",
        "  print(d[i].gender)\n"
      ],
      "metadata": {
        "id": "tkav-3WlqMGw"
      },
      "execution_count": null,
      "outputs": []
    },
    {
      "cell_type": "markdown",
      "source": [
        "### Static Variables(Vs Instance variables)"
      ],
      "metadata": {
        "id": "7voeEDWLqQ65"
      }
    },
    {
      "cell_type": "markdown",
      "source": [
        "##### Points to remember about static\n",
        "\n",
        "- Static attributes are created at class level.\n",
        "- Static attributes are accessed using ClassName.\n",
        "- Static attributes are object independent. We can access them without creating instance (object) of the class in which they are defined.\n",
        "- The value stored in static attribute is shared between all instances(objects) of the class in which the static attribute is defined."
      ],
      "metadata": {
        "id": "Q9emn6iDqQ0p"
      }
    },
    {
      "cell_type": "code",
      "source": [
        "class Atm:\n",
        "\n",
        "  __counter = 1\n",
        "\n",
        "  # constructor(special function)->superpower ->\n",
        "  def __init__(self):\n",
        "    print(id(self))\n",
        "    self.pin = ''\n",
        "    self.__balance = 0\n",
        "    self.cid = Atm.__counter\n",
        "    Atm.__counter = Atm.__counter + 1\n",
        "    #self.menu()\n",
        "\n",
        "  # utility functions\n",
        "  @staticmethod\n",
        "  def get_counter():\n",
        "    return Atm.__counter\n",
        "\n",
        "\n",
        "  def get_balance(self):\n",
        "    return self.__balance\n",
        "\n",
        "  def set_balance(self,new_value):\n",
        "    if type(new_value) == int:\n",
        "      self.__balance = new_value\n",
        "    else:\n",
        "      print('beta bahot maarenge')\n",
        "\n",
        "  def __menu(self):\n",
        "    user_input = input(\"\"\"\n",
        "    Hi how can I help you?\n",
        "    1. Press 1 to create pin\n",
        "    2. Press 2 to change pin\n",
        "    3. Press 3 to check balance\n",
        "    4. Press 4 to withdraw\n",
        "    5. Anything else to exit\n",
        "    \"\"\")\n",
        "\n",
        "    if user_input == '1':\n",
        "      self.create_pin()\n",
        "    elif user_input == '2':\n",
        "      self.change_pin()\n",
        "    elif user_input == '3':\n",
        "      self.check_balance()\n",
        "    elif user_input == '4':\n",
        "      self.withdraw()\n",
        "    else:\n",
        "      exit()\n",
        "\n",
        "  def create_pin(self):\n",
        "    user_pin = input('enter your pin')\n",
        "    self.pin = user_pin\n",
        "\n",
        "    user_balance = int(input('enter balance'))\n",
        "    self.__balance = user_balance\n",
        "\n",
        "    print('pin created successfully')\n",
        "\n",
        "  def change_pin(self):\n",
        "    old_pin = input('enter old pin')\n",
        "\n",
        "    if old_pin == self.pin:\n",
        "      # let him change the pin\n",
        "      new_pin = input('enter new pin')\n",
        "      self.pin = new_pin\n",
        "      print('pin change successful')\n",
        "    else:\n",
        "      print('Pin is not valid')\n",
        "\n",
        "  def check_balance(self):\n",
        "    user_pin = input('enter your pin')\n",
        "    if user_pin == self.pin:\n",
        "      print('your balance is ',self.__balance)\n",
        "    else:\n",
        "      print('Enter valid pin')\n",
        "\n",
        "  def withdraw(self):\n",
        "    user_pin = input('enter the pin')\n",
        "    if user_pin == self.pin:\n",
        "      # allow to withdraw\n",
        "      amount = int(input('enter the amount'))\n",
        "      if amount <= self.__balance:\n",
        "        self.__balance = self.__balance - amount\n",
        "        print('withdrawl successful.balance is',self.__balance)\n",
        "      else:\n",
        "        print('Insufficient balance')\n",
        "    else:\n",
        "      print('Enter valid pin')"
      ],
      "metadata": {
        "id": "4rPiZpfUqU0I"
      },
      "execution_count": null,
      "outputs": []
    },
    {
      "cell_type": "code",
      "source": [
        "c1 = Atm()"
      ],
      "metadata": {
        "id": "GT58HBCNqswk"
      },
      "execution_count": null,
      "outputs": []
    },
    {
      "cell_type": "code",
      "source": [
        "Atm.get_counter()"
      ],
      "metadata": {
        "id": "REPtPJ8XquqR"
      },
      "execution_count": null,
      "outputs": []
    },
    {
      "cell_type": "code",
      "source": [
        "c2 = Atm()\n",
        "c2.cid\n"
      ],
      "metadata": {
        "id": "5Or5yh3QqwS2"
      },
      "execution_count": null,
      "outputs": []
    },
    {
      "cell_type": "code",
      "source": [
        "c3=Atm()"
      ],
      "metadata": {
        "id": "U97XadvTqzfB"
      },
      "execution_count": null,
      "outputs": []
    },
    {
      "cell_type": "code",
      "source": [
        "c3.cid"
      ],
      "metadata": {
        "id": "7S-xje5gq1Iy"
      },
      "execution_count": null,
      "outputs": []
    },
    {
      "cell_type": "code",
      "source": [
        "Atm.counter"
      ],
      "metadata": {
        "id": "KBVW_rzLq3Us"
      },
      "execution_count": null,
      "outputs": []
    },
    {
      "cell_type": "code",
      "source": [
        "class Lion:\n",
        "  __water_source=\"well in the circus\"\n",
        "\n",
        "  def __init__(self,name, gender):\n",
        "      self.__name=name\n",
        "      self.__gender=gender\n",
        "\n",
        "  def drinks_water(self):\n",
        "      print(self.__name,\n",
        "      \"drinks water from the\",Lion.__water_source)\n",
        "\n",
        "  @staticmethod\n",
        "  def get_water_source():\n",
        "      return Lion.__water_source\n",
        "\n",
        "simba=Lion(\"Simba\",\"Male\")\n",
        "simba.drinks_water()\n",
        "print( \"Water source of lions:\",Lion.get_water_source())"
      ],
      "metadata": {
        "id": "k37n1s8Hq5sa"
      },
      "execution_count": null,
      "outputs": []
    }
  ]
}