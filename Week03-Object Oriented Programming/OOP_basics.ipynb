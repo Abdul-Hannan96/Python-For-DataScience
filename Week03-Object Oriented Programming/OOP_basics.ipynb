{
  "nbformat": 4,
  "nbformat_minor": 0,
  "metadata": {
    "colab": {
      "provenance": [],
      "authorship_tag": "ABX9TyPIyMKq+rxOk2WQwASvut10",
      "include_colab_link": true
    },
    "kernelspec": {
      "name": "python3",
      "display_name": "Python 3"
    },
    "language_info": {
      "name": "python"
    }
  },
  "cells": [
    {
      "cell_type": "markdown",
      "metadata": {
        "id": "view-in-github",
        "colab_type": "text"
      },
      "source": [
        "<a href=\"https://colab.research.google.com/github/Abdul-Hannan96/Python-For-DataScience/blob/main/Week03-Object%20Oriented%20Programming/OOP_basics.ipynb\" target=\"_parent\"><img src=\"https://colab.research.google.com/assets/colab-badge.svg\" alt=\"Open In Colab\"/></a>"
      ]
    },
    {
      "cell_type": "code",
      "execution_count": 2,
      "metadata": {
        "colab": {
          "base_uri": "https://localhost:8080/",
          "height": 210
        },
        "id": "h5KgVp7rCci1",
        "outputId": "6ef31594-754e-48ce-fdd2-dac8f71e4071"
      },
      "outputs": [
        {
          "output_type": "error",
          "ename": "AttributeError",
          "evalue": "ignored",
          "traceback": [
            "\u001b[0;31m---------------------------------------------------------------------------\u001b[0m",
            "\u001b[0;31mAttributeError\u001b[0m                            Traceback (most recent call last)",
            "\u001b[0;32m<ipython-input-2-3e5bf2f6ca3a>\u001b[0m in \u001b[0;36m<cell line: 3>\u001b[0;34m()\u001b[0m\n\u001b[1;32m      1\u001b[0m \u001b[0mL\u001b[0m \u001b[0;34m=\u001b[0m \u001b[0;34m[\u001b[0m\u001b[0;36m1\u001b[0m\u001b[0;34m,\u001b[0m\u001b[0;36m2\u001b[0m\u001b[0;34m,\u001b[0m\u001b[0;36m3\u001b[0m\u001b[0;34m]\u001b[0m\u001b[0;34m\u001b[0m\u001b[0;34m\u001b[0m\u001b[0m\n\u001b[1;32m      2\u001b[0m \u001b[0;34m\u001b[0m\u001b[0m\n\u001b[0;32m----> 3\u001b[0;31m \u001b[0mL\u001b[0m\u001b[0;34m.\u001b[0m\u001b[0mupper\u001b[0m\u001b[0;34m(\u001b[0m\u001b[0;34m)\u001b[0m \u001b[0;31m# because upper is not a attribute of list class\u001b[0m\u001b[0;34m\u001b[0m\u001b[0;34m\u001b[0m\u001b[0m\n\u001b[0m",
            "\u001b[0;31mAttributeError\u001b[0m: 'list' object has no attribute 'upper'"
          ]
        }
      ],
      "source": [
        "L = [1,2,3]\n",
        "\n",
        "L.upper() # because upper is not a attribute of list class"
      ]
    },
    {
      "cell_type": "code",
      "source": [
        "s = 'hello'\n",
        "s.append('x') # because x is not a attribute of string class"
      ],
      "metadata": {
        "colab": {
          "base_uri": "https://localhost:8080/",
          "height": 193
        },
        "id": "C1AmFNmoCqp_",
        "outputId": "bb5a065f-0f12-483c-c184-6021b977d393"
      },
      "execution_count": 3,
      "outputs": [
        {
          "output_type": "error",
          "ename": "AttributeError",
          "evalue": "ignored",
          "traceback": [
            "\u001b[0;31m---------------------------------------------------------------------------\u001b[0m",
            "\u001b[0;31mAttributeError\u001b[0m                            Traceback (most recent call last)",
            "\u001b[0;32m<ipython-input-3-90c87d50652f>\u001b[0m in \u001b[0;36m<cell line: 2>\u001b[0;34m()\u001b[0m\n\u001b[1;32m      1\u001b[0m \u001b[0ms\u001b[0m \u001b[0;34m=\u001b[0m \u001b[0;34m'hello'\u001b[0m\u001b[0;34m\u001b[0m\u001b[0;34m\u001b[0m\u001b[0m\n\u001b[0;32m----> 2\u001b[0;31m \u001b[0ms\u001b[0m\u001b[0;34m.\u001b[0m\u001b[0mappend\u001b[0m\u001b[0;34m(\u001b[0m\u001b[0;34m'x'\u001b[0m\u001b[0;34m)\u001b[0m \u001b[0;31m# because x is not a attribute of string class\u001b[0m\u001b[0;34m\u001b[0m\u001b[0;34m\u001b[0m\u001b[0m\n\u001b[0m",
            "\u001b[0;31mAttributeError\u001b[0m: 'str' object has no attribute 'append'"
          ]
        }
      ]
    },
    {
      "cell_type": "code",
      "source": [
        "L = [1,2,3]\n",
        "print(type(L)) # object type list"
      ],
      "metadata": {
        "colab": {
          "base_uri": "https://localhost:8080/"
        },
        "id": "OzBRauQ4CvPH",
        "outputId": "c909fdbf-8079-4a74-a021-d38874a93866"
      },
      "execution_count": 5,
      "outputs": [
        {
          "output_type": "stream",
          "name": "stdout",
          "text": [
            "<class 'list'>\n"
          ]
        }
      ]
    },
    {
      "cell_type": "code",
      "source": [
        "# syntax to create an object\n",
        "\n",
        "#objectname = classname()"
      ],
      "metadata": {
        "id": "k1UUqpGSC0lu"
      },
      "execution_count": 8,
      "outputs": []
    },
    {
      "cell_type": "code",
      "source": [
        "# object literal\n",
        "L = [1,2,3]"
      ],
      "metadata": {
        "id": "kr_HfEaYC2zt"
      },
      "execution_count": 6,
      "outputs": []
    },
    {
      "cell_type": "code",
      "source": [
        "L = list() # -> list((1,2,3))->[1,2,3]\n",
        "L"
      ],
      "metadata": {
        "colab": {
          "base_uri": "https://localhost:8080/"
        },
        "id": "N8j-XdpAC4tV",
        "outputId": "45660bad-21af-436d-f67c-0fc9984b32c7"
      },
      "execution_count": 7,
      "outputs": [
        {
          "output_type": "execute_result",
          "data": {
            "text/plain": [
              "[]"
            ]
          },
          "metadata": {},
          "execution_count": 7
        }
      ]
    },
    {
      "cell_type": "code",
      "source": [
        "s = str()  #-> str((1,2,3))->(123)->type=str\n",
        "s"
      ],
      "metadata": {
        "colab": {
          "base_uri": "https://localhost:8080/",
          "height": 35
        },
        "id": "SEhRAQquC7Bt",
        "outputId": "49eb46e1-9a12-4498-c139-597ea545b327"
      },
      "execution_count": 9,
      "outputs": [
        {
          "output_type": "execute_result",
          "data": {
            "text/plain": [
              "''"
            ],
            "application/vnd.google.colaboratory.intrinsic+json": {
              "type": "string"
            }
          },
          "metadata": {},
          "execution_count": 9
        }
      ]
    },
    {
      "cell_type": "code",
      "source": [
        "# Pascal Case\n",
        "\n",
        "# HelloWorld"
      ],
      "metadata": {
        "id": "ax-X0LNNC9FF"
      },
      "execution_count": 10,
      "outputs": []
    },
    {
      "cell_type": "code",
      "source": [
        "# self is object of class and only object can access the methods and constructor(data) of class"
      ],
      "metadata": {
        "id": "v_5vUEKfC-82"
      },
      "execution_count": 11,
      "outputs": []
    },
    {
      "cell_type": "code",
      "source": [
        "class Atm():\n",
        "  # constructor is a special function -> super power() -> no need to call explicitly\n",
        "  def __init__(self): # non-paramterized constructor\n",
        "    self.pin=''\n",
        "    self_balance=0 # we use non-paramterized constructor when we have to set default values\n",
        "    self.menu()\n",
        "\n",
        "  def menu(self):\n",
        "    user_input=input(\"\"\"\n",
        "    Hi, how can i help you?\n",
        "    1- Press 1 to create pin\n",
        "    2- Press 2 to change pin\n",
        "    3- Press 3 to check balance\n",
        "    4- Press 4 to to withdraw\n",
        "    5- Anything else to exit\n",
        "   \"\"\" )\n",
        "    if user_input=='1':\n",
        "      self.create_pin()\n",
        "    elif user_input=='2':\n",
        "      self.change_pin()\n",
        "    elif user_input=='3':\n",
        "      self.check_balance()\n",
        "    elif user_input=='4':\n",
        "      self.withdraw()\n",
        "    else:\n",
        "      exit()\n",
        "\n",
        "\n",
        "\n",
        "  def create_pin(self):\n",
        "    user_pin=input('Enter your pin')\n",
        "    self.pin=user_pin\n",
        "\n",
        "    user_balance=int(input('Enter balance'))\n",
        "    self.balance=user_balance\n",
        "    self.menu()\n",
        "  def change_pin(self):\n",
        "    old_pin= input('Enter your pin')\n",
        "\n",
        "    if old_pin==self.pin:\n",
        "      new_pin=input('Enter your pin')\n",
        "      print('Pin Change Successful')\n",
        "      self.menu()\n",
        "    else:\n",
        "      print('Wrong pin try again')\n",
        "      self.menu()\n",
        "\n",
        "  def check_balance(self):\n",
        "    user_pin=input('Enter your pin')\n",
        "    if user_pin==self.pin:\n",
        "      print('your current balance is',self.balance)\n",
        "    else:\n",
        "      print('wrong password')\n",
        "      self.menu()\n",
        "\n",
        "  def withdraw(self):\n",
        "    user_pin=input('Enter your pin')\n",
        "    if user_pin==self.pin:\n",
        "      amount=int(input(('enter amount you want to withdraw')))\n",
        "      if amount<=self.balance:\n",
        "        remaining_amount=self.balance-amount\n",
        "        print('your remaining amount',remaining_amount)\n",
        "      else:\n",
        "        print('Your entered amount is not sufficient enough to withdraw')\n",
        "\n",
        "    else:\n",
        "      print(\"Wrong password\")\n",
        "\n",
        "      self.menu()\n",
        "\n",
        "\n"
      ],
      "metadata": {
        "id": "G-7Fku6uDAxm"
      },
      "execution_count": 12,
      "outputs": []
    },
    {
      "cell_type": "code",
      "source": [
        "obj=Atm()"
      ],
      "metadata": {
        "colab": {
          "base_uri": "https://localhost:8080/"
        },
        "id": "fwXaxmtnDFFe",
        "outputId": "577ab2ca-1f43-4fd1-cf75-e7f15a214b7d"
      },
      "execution_count": 13,
      "outputs": [
        {
          "output_type": "stream",
          "name": "stdout",
          "text": [
            "\n",
            "    Hi, how can i help you?\n",
            "    1- Press 1 to create pin\n",
            "    2- Press 2 to change pin\n",
            "    3- Press 3 to check balance\n",
            "    4- Press 4 to to withdraw\n",
            "    5- Anything else to exit\n",
            "   1\n",
            "Enter your pin1234\n",
            "Enter balance1000\n",
            "\n",
            "    Hi, how can i help you?\n",
            "    1- Press 1 to create pin\n",
            "    2- Press 2 to change pin\n",
            "    3- Press 3 to check balance\n",
            "    4- Press 4 to to withdraw\n",
            "    5- Anything else to exit\n",
            "   4\n",
            "Enter your pin1234\n",
            "enter amount you want to withdraw150\n",
            "your remaining amount 850\n"
          ]
        }
      ]
    },
    {
      "cell_type": "code",
      "source": [
        "# this class is combination of magic and public method->simplify"
      ],
      "metadata": {
        "id": "OAxgPRL-DHfd"
      },
      "execution_count": 15,
      "outputs": []
    },
    {
      "cell_type": "code",
      "source": [
        "class Fraction:\n",
        "\n",
        "  # paramterized constructor\n",
        "  def __init__(self,x,y): # the reason of taking paramters x,y -->working with fix type\n",
        "     self.num=x\n",
        "     self.den=y\n",
        "\n",
        "  def __str__(self): # to show fraction in for of x/y\n",
        "     return '{}/{}'.format(self.num,self.den)\n",
        "\n",
        "  def __add__(self,other): # other--> x and y\n",
        "    new_num=self.num*other.den+other.num*self.den\n",
        "    new_den=self.den*other.den\n",
        "\n",
        "    return '{}/{}'.format(new_num,new_den)\n",
        "\n",
        "  def __sub__(self,other): # other--> x and y\n",
        "    new_num=self.num*other.den-other.num*self.den\n",
        "    new_den=self.den*other.den\n",
        "\n",
        "    return '{}/{}'.format(new_num,new_den)\n",
        "  def __mul__(self,other): # other--> x and y\n",
        "    new_num=self.num *other.num\n",
        "    new_den=self.den*other.den\n",
        "\n",
        "    return '{}/{}'.format(new_num,new_den)\n",
        "\n",
        "  def __truediv__(self,other): # other--> x and y\n",
        "    new_num=self.num*other.den\n",
        "    new_den=self.den*other.num\n",
        "\n",
        "    return '{}/{}'.format(new_num,new_den)\n",
        "\n",
        "  def simplify(self):\n",
        "    return self.num/self.den\n"
      ],
      "metadata": {
        "id": "ftLjyrrJDJ63"
      },
      "execution_count": 14,
      "outputs": []
    },
    {
      "cell_type": "code",
      "source": [
        "fr1=Fraction(3,4)\n",
        "fr2=Fraction(1,2)"
      ],
      "metadata": {
        "id": "AsbBYkeEDL43"
      },
      "execution_count": 16,
      "outputs": []
    },
    {
      "cell_type": "code",
      "source": [
        "print(fr1 + fr2)\n",
        "print(fr1 - fr2)\n",
        "print(fr1 * fr2)\n",
        "print(fr1 / fr2)"
      ],
      "metadata": {
        "colab": {
          "base_uri": "https://localhost:8080/"
        },
        "id": "XmemvXtQDN3N",
        "outputId": "51945ec3-8a2f-44e6-cb27-ef06e18e6513"
      },
      "execution_count": 17,
      "outputs": [
        {
          "output_type": "stream",
          "name": "stdout",
          "text": [
            "10/8\n",
            "2/8\n",
            "3/8\n",
            "6/4\n"
          ]
        }
      ]
    },
    {
      "cell_type": "code",
      "source": [
        "fr1.simplify()"
      ],
      "metadata": {
        "colab": {
          "base_uri": "https://localhost:8080/"
        },
        "id": "VWCJp9ZADPz1",
        "outputId": "eb60076a-11d5-437c-f65c-375af1bbaec2"
      },
      "execution_count": 18,
      "outputs": [
        {
          "output_type": "execute_result",
          "data": {
            "text/plain": [
              "0.75"
            ]
          },
          "metadata": {},
          "execution_count": 18
        }
      ]
    },
    {
      "cell_type": "code",
      "source": [
        "s1={1,2,3}\n",
        "s2={3,4,5}\n",
        "\n",
        "s1 + s2"
      ],
      "metadata": {
        "colab": {
          "base_uri": "https://localhost:8080/",
          "height": 210
        },
        "id": "jEqIlx3dDRvf",
        "outputId": "c8736b0d-6242-4bce-d92f-441ee6ee246f"
      },
      "execution_count": 19,
      "outputs": [
        {
          "output_type": "error",
          "ename": "TypeError",
          "evalue": "ignored",
          "traceback": [
            "\u001b[0;31m---------------------------------------------------------------------------\u001b[0m",
            "\u001b[0;31mTypeError\u001b[0m                                 Traceback (most recent call last)",
            "\u001b[0;32m<ipython-input-19-3a417afc75fb>\u001b[0m in \u001b[0;36m<cell line: 4>\u001b[0;34m()\u001b[0m\n\u001b[1;32m      2\u001b[0m \u001b[0ms2\u001b[0m\u001b[0;34m=\u001b[0m\u001b[0;34m{\u001b[0m\u001b[0;36m3\u001b[0m\u001b[0;34m,\u001b[0m\u001b[0;36m4\u001b[0m\u001b[0;34m,\u001b[0m\u001b[0;36m5\u001b[0m\u001b[0;34m}\u001b[0m\u001b[0;34m\u001b[0m\u001b[0;34m\u001b[0m\u001b[0m\n\u001b[1;32m      3\u001b[0m \u001b[0;34m\u001b[0m\u001b[0m\n\u001b[0;32m----> 4\u001b[0;31m \u001b[0ms1\u001b[0m \u001b[0;34m+\u001b[0m \u001b[0ms2\u001b[0m\u001b[0;34m\u001b[0m\u001b[0;34m\u001b[0m\u001b[0m\n\u001b[0m",
            "\u001b[0;31mTypeError\u001b[0m: unsupported operand type(s) for +: 'set' and 'set'"
          ]
        }
      ]
    },
    {
      "cell_type": "code",
      "source": [
        "print(fr1 - fr2) # if there is no fraction object then it will give an error"
      ],
      "metadata": {
        "colab": {
          "base_uri": "https://localhost:8080/"
        },
        "id": "R6zGtxvlDUHe",
        "outputId": "1ec8410c-cd83-4e61-99f6-fd8ff37a2b0d"
      },
      "execution_count": 20,
      "outputs": [
        {
          "output_type": "stream",
          "name": "stdout",
          "text": [
            "2/8\n"
          ]
        }
      ]
    }
  ]
}