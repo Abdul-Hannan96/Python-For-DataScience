{
  "nbformat": 4,
  "nbformat_minor": 0,
  "metadata": {
    "colab": {
      "provenance": [],
      "authorship_tag": "ABX9TyMI4pLASBBMk/yIIjrRMnla",
      "include_colab_link": true
    },
    "kernelspec": {
      "name": "python3",
      "display_name": "Python 3"
    },
    "language_info": {
      "name": "python"
    }
  },
  "cells": [
    {
      "cell_type": "markdown",
      "metadata": {
        "id": "view-in-github",
        "colab_type": "text"
      },
      "source": [
        "<a href=\"https://colab.research.google.com/github/Abdul-Hannan96/Python-For-DataScience/blob/main/Week03-Object%20Oriented%20Programming/Inheritence_Abstract.ipynb\" target=\"_parent\"><img src=\"https://colab.research.google.com/assets/colab-badge.svg\" alt=\"Open In Colab\"/></a>"
      ]
    },
    {
      "cell_type": "markdown",
      "source": [
        "### `Problem-1:` Class inheritence\n",
        "\n",
        "Create a **Bus** child class that inherits from the Vehicle class. The default fare charge of any vehicle is seating capacity * 100. If Vehicle is Bus instance, we need to add an extra 10% on full fare as a maintenance charge. So total fare for bus instance will become the final amount = total fare + 10% of the total fare.\n",
        "\n",
        "Note: The bus seating capacity is 50. so the final fare amount should be 5500. You need to override the fare() method of a Vehicle class in Bus class."
      ],
      "metadata": {
        "id": "Zyn3_L64KEaB"
      }
    },
    {
      "cell_type": "code",
      "execution_count": null,
      "metadata": {
        "id": "IwUEx0JzNgFO",
        "colab": {
          "base_uri": "https://localhost:8080/"
        },
        "outputId": "54ae7e1c-7751-4394-88a8-bd07e62564f2"
      },
      "outputs": [
        {
          "output_type": "stream",
          "name": "stdout",
          "text": [
            "5500.0\n"
          ]
        }
      ],
      "source": [
        "class Vehicle:\n",
        "\n",
        "  def __init__(self,type,capacity):\n",
        "    self.type=type\n",
        "    self.capacity=capacity\n",
        "\n",
        "  def fare(self):\n",
        "    return 100*self.capacity\n",
        "\n",
        "class Bus(Vehicle):\n",
        "  def fare(self):\n",
        "    base_fare=super().fare() # inherit fare of parent class\n",
        "    bus_fare=base_fare+0.1*base_fare\n",
        "    return bus_fare\n",
        "\n",
        "\n",
        "bus=Bus('school bus',50)\n",
        "print(bus.fare())"
      ]
    },
    {
      "cell_type": "markdown",
      "source": [
        "### `Problem-2:` Write a program that has a class Point. Define another class Location which has two objects (Location & Destination) of class Point. Also define a function in Location that prints the reflection of Destination on the x axis."
      ],
      "metadata": {
        "id": "05L5rv_QLXu5"
      }
    },
    {
      "cell_type": "code",
      "source": [
        "class Point:\n",
        "\n",
        "  def __init__(self,x,y):\n",
        "    self.x=x\n",
        "    self.y=y\n",
        "\n",
        "  def show_point(self):\n",
        "    return '{},{}'.format(self.x,self.y)\n",
        "\n",
        "\n",
        "class Location:\n",
        "  def __init__(self,x1,y1,x2,y2):\n",
        "    self.source=Point(x1,y1)\n",
        "    self.destination=Point(x2,y2)\n",
        "\n",
        "\n",
        "  def show(self):\n",
        "    print('Source is',self.source.show_point())\n",
        "    print('Destination is',self.destination.show_point())\n",
        "\n",
        "\n",
        "  def reflection(self):\n",
        "    self.destination.y=-self.destination.y # point of reflection\n",
        "    print('Reflection is ',self.destination.show_point())\n",
        "\n",
        "\n",
        "L = Location(0,0,1,1)\n",
        "L.show()\n",
        "L.reflection()"
      ],
      "metadata": {
        "colab": {
          "base_uri": "https://localhost:8080/"
        },
        "id": "DcG3IefKLa6I",
        "outputId": "b45362d3-e723-48c9-af93-4a8c0bb7adec"
      },
      "execution_count": null,
      "outputs": [
        {
          "output_type": "stream",
          "name": "stdout",
          "text": [
            "Source is 0,0\n",
            "Destination is 1,1\n",
            "Reflection is  1,-1\n"
          ]
        }
      ]
    },
    {
      "cell_type": "markdown",
      "source": [
        "### `Problem-4:` Write a program that has an abstract class Polygon. Derive two classes Rectangle and Triamgle from Polygon and write methods to get the details of their dimensions and hence calculate the area."
      ],
      "metadata": {
        "id": "--WM75PpM5sd"
      }
    },
    {
      "cell_type": "code",
      "source": [
        "from abc import ABC,abstractmethod\n",
        "\n",
        "class Polygon(ABC):\n",
        "\n",
        "  @abstractmethod\n",
        "  def get_data():\n",
        "    pass\n",
        "\n",
        "class Rectangle(Polygon):\n",
        "\n",
        "  def get_data(self,l,b):\n",
        "    self.l=l\n",
        "    self.b=b\n",
        "\n",
        "  def area(self):\n",
        "    return self.l*self.b\n",
        "\n",
        "class Triangle:\n",
        "   def get_data(self,b,h):\n",
        "    self.b=b\n",
        "    self.h=h\n",
        "\n",
        "   def area(self):\n",
        "    return 0.5*self.b*self.h\n",
        "\n",
        "\n",
        "rect=Rectangle()\n",
        "rect.get_data(4,5)\n",
        "print(rect.area())\n",
        "\n",
        "tr=Triangle()\n",
        "tr.get_data(4,5)\n",
        "print(tr.area())\n"
      ],
      "metadata": {
        "colab": {
          "base_uri": "https://localhost:8080/"
        },
        "id": "jh_ZZTFIM65u",
        "outputId": "22d8d7f1-0269-46e8-eb28-c3d93db12b44"
      },
      "execution_count": null,
      "outputs": [
        {
          "output_type": "stream",
          "name": "stdout",
          "text": [
            "20\n",
            "10.0\n"
          ]
        }
      ]
    },
    {
      "cell_type": "markdown",
      "source": [
        "### `Problem-5:` Write a program with class Bill. The users have the option to pay the bill either by cheque or by cash. Use the inheritance to model this situation."
      ],
      "metadata": {
        "id": "yBLzxaxpP-iL"
      }
    },
    {
      "cell_type": "code",
      "source": [
        "class Bill:\n",
        "\n",
        "  def __init__(self,items,price):\n",
        "\n",
        "    self.total=0 # intialized total\n",
        "\n",
        "    self.items=items\n",
        "    self.price=price\n",
        "\n",
        "\n",
        "    for i in self.price:\n",
        "      self.total=self.total+i # prices store in total\n",
        "\n",
        "\n",
        "  def display(self):\n",
        "    print('Item \\t\\t\\t Price')\n",
        "\n",
        "    for i in range(len(self.items)):\n",
        "      print(self.items[i],'\\t',self.price[i])\n",
        "    print('*'*10)\n",
        "\n",
        "    print('Total',self.total)\n",
        "\n",
        "\n",
        "class CashPayment(Bill):\n",
        "  def __init__(self,items,price,deno,value):\n",
        "\n",
        "    super().__init__(items,price)\n",
        "\n",
        "    self.deno=deno\n",
        "    self.value=value\n",
        "\n",
        "  def show_cash_payment(self):\n",
        "    super().display()\n",
        "    for i in range(len(self.deno)):\n",
        "      print(self.deno[i],'*',self.value[i],'=',self.deno[i]*self.value[i])\n",
        "\n",
        "class ChequePayment(Bill):\n",
        "  def __init__(self,items,price,cno,name):\n",
        "    super().__init__(items,price)\n",
        "\n",
        "    self.cno=cno\n",
        "    self.name=name\n",
        "\n",
        "  def show_cheque_payment(self):\n",
        "    super().display()\n",
        "    print('Cheque No',self.cno)\n",
        "    print('Bank Name',self.name)\n",
        "\n",
        "\n"
      ],
      "metadata": {
        "id": "A6hikMipP_o5"
      },
      "execution_count": null,
      "outputs": []
    },
    {
      "cell_type": "code",
      "source": [
        "items = [\"External Hard Disk\", \"RAM\", \"Printer\", \"Pen Drive\"]\n",
        "price = [5000, 2000, 6000, 800]\n",
        "deno = [10, 20, 50, 100, 500, 2000]\n",
        "value = [1, 1, 1, 20, 4, 5]"
      ],
      "metadata": {
        "id": "DHSZmKPiWO4W"
      },
      "execution_count": null,
      "outputs": []
    },
    {
      "cell_type": "code",
      "source": [
        "cash = CashPayment(items, price, deno, value)\n",
        "cash.show_cash_payment()"
      ],
      "metadata": {
        "colab": {
          "base_uri": "https://localhost:8080/"
        },
        "id": "DLHw0NtSWbHx",
        "outputId": "57046656-15b6-4c82-cf7b-c336d1e1d4fe"
      },
      "execution_count": null,
      "outputs": [
        {
          "output_type": "stream",
          "name": "stdout",
          "text": [
            "Item \t\t\t Price\n",
            "External Hard Disk \t 5000\n",
            "RAM \t 2000\n",
            "Printer \t 6000\n",
            "Pen Drive \t 800\n",
            "**********\n",
            "Total 13800\n",
            "10 * 1 = 10\n",
            "20 * 1 = 20\n",
            "50 * 1 = 50\n",
            "100 * 20 = 2000\n",
            "500 * 4 = 2000\n",
            "2000 * 5 = 10000\n"
          ]
        }
      ]
    },
    {
      "cell_type": "code",
      "source": [
        "items = [\"External Hard Disk\", \"RAM\", \"Printer\", \"Pen Drive\"]\n",
        "price = [5000, 2000, 6000, 800]\n",
        "option = int(input(\"Would you like to pay by cheque or cash (1/2): \"))\n",
        "\n",
        "if option == 1:\n",
        "    name = input(\"Enter the name of the bank: \")\n",
        "    cno = input(\"Enter the cheque number: \")\n",
        "    cheque = ChequePayment(items, price, cno, name)\n",
        "    cheque.show_cheque_payment()\n",
        "\n",
        "else:\n",
        "    deno = [10, 20, 50, 100, 500, 2000]\n",
        "    value = [1, 1, 1, 20, 4, 5]\n",
        "    cash = CashPayment(items, price, deno, value)\n",
        "    cash.show_cash_payment()"
      ],
      "metadata": {
        "colab": {
          "base_uri": "https://localhost:8080/"
        },
        "id": "5wSmUJhnW8S8",
        "outputId": "23c223b4-3f97-4b4d-b48e-f6f0eeedf663"
      },
      "execution_count": null,
      "outputs": [
        {
          "output_type": "stream",
          "name": "stdout",
          "text": [
            "Would you like to pay by cheque or cash (1/2): 1\n",
            "Enter the name of the bank: Allied\n",
            "Enter the cheque number: 111111\n",
            "Item \t\t\t Price\n",
            "External Hard Disk \t 5000\n",
            "RAM \t 2000\n",
            "Printer \t 6000\n",
            "Pen Drive \t 800\n",
            "**********\n",
            "Total 13800\n",
            "Cheque No 111111\n",
            "Bank Name Allied\n"
          ]
        }
      ]
    }
  ]
}